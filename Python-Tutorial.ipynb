{
 "cells": [
  {
   "cell_type": "markdown",
   "metadata": {},
   "source": [
    "##### Copyright 2019 The University of Birmingham Positron Imaging Centre.\n",
    "\n",
    "Licensed under the GNU License, Version 3.0 (the \"License\").\n",
    "\n",
    "# Python Tutorial\n",
    "## For engineers and other people who just want a computer to do their work.\n",
    "\n",
    "<a target=\"_blank\"  href=\"https://github.com/uob-positron-imaging-centre\"><img width=32px src=\"https://www.tensorflow.org/images/GitHub-Mark-32px.png\" />UoB Positron Imaging Centre's GitHub</a>\n",
    "\n"
   ]
  },
  {
   "cell_type": "markdown",
   "metadata": {},
   "source": [
    "## 1. Introduction\n",
    "\n",
    "The aim of this tutorial is to get you up to speed with Python programming. Besides the basics, it should teach you how to use it effectively for usual programming tasks, like creating dynamic arrays, iterating them, saving them as CSV, etc.\n",
    "\n",
    "It assumes a very basic understanding of programming languages. If you've written more than 100 lines of code in, say, MATLAB, you should be fine.\n"
   ]
  },
  {
   "cell_type": "markdown",
   "metadata": {},
   "source": [
    "### 1.1. The Python Programming Language\n",
    "\n",
    "Python is a general-purpose, interpreted programming language. It aims to be as simple and clear as possible. The main design philosophy of it is:\n",
    "> There should be one — and preferably only one — obvious way to do it.\n",
    "\n",
    "\n",
    "Because it is an interpreted programming language, Python code can run in a variety of environments:\n",
    "\n",
    "- As a script.\n",
    "- As functions or classes.\n",
    "- As a command-line (or REPL - Read-Eval-Print-Loop).\n",
    "- As mixed text and code cells in a Jupyter Notebook (such as this one)."
   ]
  },
  {
   "cell_type": "markdown",
   "metadata": {},
   "source": [
    "### 1.2. The 'pip' Package Manager\n",
    "\n",
    "It is a very good idea to encapsulate code into packages, modules, and the like. Thankfully, python has a pretty smart package manager called 'pip' that takes care of installing and updating different packages.\n",
    "\n",
    "Let's install the Numerical Python (NumPy) package. It provides classic MATLAB-like array functionality to Python, while being a bit more extensible. You will live and die by it.\n",
    "\n",
    "Run the next cell. You will see the output right under it."
   ]
  },
  {
   "cell_type": "code",
   "execution_count": 44,
   "metadata": {},
   "outputs": [
    {
     "name": "stdout",
     "output_type": "stream",
     "text": [
      "Requirement already satisfied: numpy in c:\\programdata\\anaconda3\\lib\\site-packages (1.16.4)\n"
     ]
    }
   ],
   "source": [
    "# Python comments start with a hashtag\n",
    "# pip is a system command. To run shell-like commands\n",
    "# in a Notebook environment, put an exclamation mark (!)\n",
    "# in front of it\n",
    "!pip install numpy"
   ]
  },
  {
   "cell_type": "markdown",
   "metadata": {},
   "source": [
    "### 1.3 Using Modules\n",
    "\n",
    "Once you have a module installed, you can import it inside your Python code (be it script, function, sandwich toaster, etc.):"
   ]
  },
  {
   "cell_type": "code",
   "execution_count": 45,
   "metadata": {},
   "outputs": [
    {
     "name": "stdout",
     "output_type": "stream",
     "text": [
      "[1 2 3]\n",
      "['a' 'simple' 'array' '5.13']\n",
      "[ 1.     3.14  -2.718]\n"
     ]
    }
   ],
   "source": [
    "# A simple import:\n",
    "import numpy\n",
    "print( numpy.array([1, 2, 3]) )\n",
    "\n",
    "# An import that creates a shorthand:\n",
    "import numpy as np\n",
    "print( np.array(['a', 'simple', 'array', 5.13]) )\n",
    "\n",
    "# Or you can import a specific module from inside the package:\n",
    "from numpy import array\n",
    "print( array([1., 3.14, -2.718]) )"
   ]
  },
  {
   "cell_type": "markdown",
   "metadata": {},
   "source": [
    "## 2. Basic Constructs\n",
    "\n",
    "Now we'll start actually programming in Python!\n",
    "\n",
    "### 2.1. Basic Data Structures\n",
    "\n",
    "The simplest (i.e. most usual) data types that you will use are:\n",
    "\n",
    "- `int` : normal integers. Python integers have a variable size: they are as big as your memory permits!\n",
    "- `float` : real numbers. For the C++ nerds: it is equivalent to a double-precision floating-point number.\n",
    "- `str` : character strings."
   ]
  },
  {
   "cell_type": "code",
   "execution_count": 46,
   "metadata": {},
   "outputs": [
    {
     "name": "stdout",
     "output_type": "stream",
     "text": [
      "26426482684862482648264865\n",
      "12.56\n",
      "I am a \"concatenated\" string.\n"
     ]
    }
   ],
   "source": [
    "# Integers:\n",
    "print( 1 + 2 + 132132413424312413241324312 // 5) # Modulo division is //, not %\n",
    "\n",
    "# Real numbers:\n",
    "print( 3.14 *  2. ** 2 ) # Raise a number to a power using **\n",
    "\n",
    "# Strings:\n",
    "print( \"I am a\" + ' \"concatenated\" string.' )"
   ]
  },
  {
   "cell_type": "markdown",
   "metadata": {},
   "source": [
    "#### 2.1.1. Lists\n",
    "\n",
    "The `list` is a built-in data structure. Unlike a MATLAB array, it is a variable-length container. This makes it very handy when we are dynamically allocating / reading in data:"
   ]
  },
  {
   "cell_type": "code",
   "execution_count": 47,
   "metadata": {},
   "outputs": [
    {
     "name": "stdout",
     "output_type": "stream",
     "text": [
      "[1, 'hey', 2.718]\n",
      "[1, 'hey', 2.718, 42]\n",
      "[1, 2, 3, 4, 5, 6]\n",
      "[-1, 1, -1, 1, -1, 1]\n"
     ]
    }
   ],
   "source": [
    "# Define a list with []. Only use semicolons when writing\n",
    "# multiple commands on the same line.\n",
    "x = [1, 'hey', 2.718] ; print(x)\n",
    "\n",
    "# Dynamically add elements to it:\n",
    "x.append(42) ; print(x)\n",
    "\n",
    "# It is a list, not a mathematical array!\n",
    "print( [1, 2, 3] + [4, 5, 6] )\n",
    "print( [-1, 1] * 3 ) "
   ]
  },
  {
   "cell_type": "markdown",
   "metadata": {},
   "source": [
    "### 2.2. Conditionals and Loops:\n",
    "\n",
    "In Python we have the usual `if / elif / else` statements and the `for / while` loops.\n",
    "\n",
    "Python is a whitespace-delimited language. This means that blocks of code are delimited by the indentation level, rather than curly braces or start/end statements."
   ]
  },
  {
   "cell_type": "code",
   "execution_count": 48,
   "metadata": {},
   "outputs": [
    {
     "name": "stdout",
     "output_type": "stream",
     "text": [
      "x is a float!\n"
     ]
    }
   ],
   "source": [
    "# Conditionals:\n",
    "x = 3.14\n",
    "\n",
    "# The start of a block is usually denoted with a colon:\n",
    "if type(x) == int:\n",
    "    print(\"x is an integer!\")\n",
    "elif type(x) == float:\n",
    "    print(\"x is a float!\")\n",
    "else:\n",
    "    print(\"well who knows?\")"
   ]
  },
  {
   "cell_type": "code",
   "execution_count": 49,
   "metadata": {},
   "outputs": [
    {
     "name": "stdout",
     "output_type": "stream",
     "text": [
      "while\n",
      "while\n",
      "while\n",
      "while\n",
      "\n",
      "1\n",
      "2\n",
      "3\n",
      "\n",
      "0\n",
      "1\n",
      "2\n",
      "3\n",
      "4\n"
     ]
    }
   ],
   "source": [
    "# Loops:\n",
    "\n",
    "# The while loop is exactly like in other programming languages\n",
    "i = 0\n",
    "while i < 4:             # Note the colon! \n",
    "    print(\"while\")\n",
    "    i += 1\n",
    "    \n",
    "print() # Print a newline\n",
    "    \n",
    "# The for loop, on the other hand, might be a bit different.\n",
    "# It iterates through the elements of an iterable, like a list:\n",
    "data = [1, 2, 3]\n",
    "for i in data:\n",
    "    print(i)\n",
    "    \n",
    "print()\n",
    "    \n",
    "# range() is an iterable\n",
    "for i in range(5):\n",
    "    print(i)"
   ]
  },
  {
   "cell_type": "markdown",
   "metadata": {},
   "source": [
    "## 2.3. Functions\n",
    "\n",
    "Functions in Python have a few extra features:\n",
    "- Positional arguments.\n",
    "- Keyword arguments.\n",
    "- Default values."
   ]
  },
  {
   "cell_type": "code",
   "execution_count": 50,
   "metadata": {},
   "outputs": [
    {
     "name": "stdout",
     "output_type": "stream",
     "text": [
      "6.28\n"
     ]
    }
   ],
   "source": [
    "# A simple function with one positional argument.\n",
    "def double(x):       # Don't forget the colon!\n",
    "    x = x * 2        # There are no braces or start/end, only tabs/spaces\n",
    "    return x\n",
    "\n",
    "print( double(3.14) )\n",
    "    "
   ]
  },
  {
   "cell_type": "code",
   "execution_count": 51,
   "metadata": {},
   "outputs": [
    {
     "name": "stdout",
     "output_type": "stream",
     "text": [
      "42\n",
      "Hello world!\n",
      "16\n"
     ]
    }
   ],
   "source": [
    "# A function with one positional argument and one optional keyword argument.\n",
    "def add(x, value = 10):           # value is 10 by default\n",
    "    return x + value\n",
    "\n",
    "print( add(2, value = 40) )       # keyword argument\n",
    "print( add('Hello', ' world!') )  # positional arguments\n",
    "print( add(6) )                   # default value\n"
   ]
  },
  {
   "cell_type": "markdown",
   "metadata": {},
   "source": [
    "## 2.4. Classes\n",
    "\n",
    "A `class` is a powerful way to encapsulate data (\"properties\") and functions (\"methods\"):\n"
   ]
  },
  {
   "cell_type": "code",
   "execution_count": 52,
   "metadata": {},
   "outputs": [
    {
     "name": "stdout",
     "output_type": "stream",
     "text": [
      "John Doe\n",
      "Employee data:\n",
      "- name: John Doe\n",
      "- age: 20\n",
      "- wage: 6.15\n",
      "- status: poor\n",
      "Employee data:\n",
      "- name: John Doe\n",
      "- age: 21\n",
      "- wage: 7.7\n",
      "- status: still poor\n"
     ]
    }
   ],
   "source": [
    "# Define a simple class:\n",
    "\n",
    "class Employee:\n",
    "    \n",
    "    # This is the constructor, which is called when instantiating the class.\n",
    "    # The `self` argument is supplied as the first parameter to every method.\n",
    "    def __init__(self, name, surname, age):\n",
    "        # We 'attach' the parameters to the class instance via self.\n",
    "        self.name = name\n",
    "        self.surname = surname\n",
    "        self.age = age\n",
    "        \n",
    "        # Create new class properties\n",
    "        self.wage = 6.15\n",
    "        self.status = \"poor\"\n",
    "        \n",
    "    # Define a method, supplying the default `self`\n",
    "    def show(self):\n",
    "        print('Employee data:')\n",
    "        print('- name: ' + self.name + ' ' + self.surname)\n",
    "        print('- age: ' + str(self.age) )\n",
    "        print('- wage: ' + str(self.wage) )\n",
    "        print('- status: ' + self.status)\n",
    "        \n",
    "        \n",
    "# Instantiate the class, providing the 3 positional arguments of __init__\n",
    "# Note that `self` is omitted\n",
    "worker = Employee('John', 'Doe', 20)\n",
    "\n",
    "# We can access the class properties with dots:\n",
    "print( worker.name + ' ' + worker.surname )\n",
    "\n",
    "# We can call a method, omitting `self` again:\n",
    "worker.show()\n",
    "\n",
    "# We can change the class properties just as we access them:\n",
    "worker.age += 1\n",
    "worker.wage = 7.7\n",
    "worker.status = \"still poor\"\n",
    "worker.show()\n"
   ]
  },
  {
   "cell_type": "markdown",
   "metadata": {},
   "source": [
    "Don't worry if you are not sure about what the point of a `class` is. It is a more advanced concept that only becomes useful once your project increases in size. The most important things to understand are:\n",
    "- A class is a container for properties and methods.\n",
    "- You \"instantiate\" a class and it will remember the properties you set.\n",
    "- You access the properties and methods of instances of classes using a dot."
   ]
  },
  {
   "cell_type": "markdown",
   "metadata": {},
   "source": [
    "## 3. NumPy Basics\n",
    "\n",
    "Now let's extend our Python arsenal with some NumPy-fuelled mathematical power! The easiest way to explain it is by example:"
   ]
  },
  {
   "cell_type": "markdown",
   "metadata": {},
   "source": [
    "### 3.1. NumPy Array Creation and Basic Properties\n",
    "\n",
    "Starting from lists:"
   ]
  },
  {
   "cell_type": "code",
   "execution_count": 53,
   "metadata": {},
   "outputs": [
    {
     "name": "stdout",
     "output_type": "stream",
     "text": [
      "[1 2 3]\n",
      "<class 'numpy.ndarray'>\n",
      "int32\n",
      "(3,)\n",
      "1\n",
      "----------------\n",
      "[[1.1 2.2]\n",
      " [3.3 4.4]]\n",
      "float64\n",
      "(2, 2)\n",
      "2.2\n",
      "2.2\n"
     ]
    }
   ],
   "source": [
    "import numpy as np\n",
    "\n",
    "# From a list:\n",
    "x = np.array([1, 2, 3])\n",
    "print(x)          # The whole array: [1, 2, 3]\n",
    "print(type(x))    # Variable type: numpy.ndarray\n",
    "print(x.dtype)    # Type of the elements of the array: int32\n",
    "print(x.shape)    # Shape of array: (3)\n",
    "print(x[0])       # Element at index 0. Yes, Python is 0-indexed, like a proper language.\n",
    "\n",
    "print('----------------')\n",
    "\n",
    "y = np.array( [ [1.1, 2.2] , [3.3, 4.4] ] )\n",
    "print(y)\n",
    "print(y.dtype)\n",
    "print(y.shape)\n",
    "print(y[0][1])\n",
    "print(y[0, 1])"
   ]
  },
  {
   "cell_type": "markdown",
   "metadata": {},
   "source": [
    "Using NumPy functions:"
   ]
  },
  {
   "cell_type": "code",
   "execution_count": 54,
   "metadata": {},
   "outputs": [
    {
     "name": "stdout",
     "output_type": "stream",
     "text": [
      "[0. 0. 0. 0. 0.]\n",
      "[[1. 1. 1.]\n",
      " [1. 1. 1.]]\n",
      "[[1. 0.]\n",
      " [0. 1.]]\n"
     ]
    }
   ],
   "source": [
    "import numpy as np\n",
    "\n",
    "# Using numpy functions:\n",
    "x = np.zeros(5) ;        print(x)\n",
    "y = np.ones( (2, 3) ) ;  print(y)  # (2, 3) is a tuple\n",
    "z = np.eye(2) ;          print(z)"
   ]
  },
  {
   "cell_type": "markdown",
   "metadata": {},
   "source": [
    "### 3.2. NumPy Array Indexing\n",
    "\n",
    "This part is very similar to MATLAB's arrays."
   ]
  },
  {
   "cell_type": "code",
   "execution_count": 55,
   "metadata": {},
   "outputs": [
    {
     "name": "stdout",
     "output_type": "stream",
     "text": [
      " Original array: \n",
      "[0 1 2 3 4 5 6 7 8 9]\n",
      "\n",
      " Selecting slices: \n",
      "[3 4 5 6 7 8 9]\n",
      "[3 4 5]\n",
      "\n",
      " Logical indexing: \n",
      "[False False False False False False  True  True  True  True]\n",
      "[6 7 8 9]\n"
     ]
    }
   ],
   "source": [
    "import numpy as np\n",
    "\n",
    "x = np.arange(10)\n",
    "print(\" Original array: \")\n",
    "print(x)\n",
    "\n",
    "print(\"\\n Selecting slices: \")\n",
    "print( x[3:] )   # Everything after index 3\n",
    "print( x[3:6] )  # Indexes 3, 4, 5. It excludes 6.\n",
    "\n",
    "print(\"\\n Logical indexing: \")\n",
    "print( x > 5 )\n",
    "print( x[ x > 5 ] )"
   ]
  },
  {
   "cell_type": "code",
   "execution_count": 56,
   "metadata": {},
   "outputs": [
    {
     "name": "stdout",
     "output_type": "stream",
     "text": [
      " Original array: \n",
      "[[ 0  1  2  3  4  5]\n",
      " [ 6  7  8  9 10 11]\n",
      " [12 13 14 15 16 17]]\n",
      "\n",
      " Slicing rows: \n",
      "[0 1 2 3 4 5]\n",
      "[0 1 2 3 4 5]\n",
      "\n",
      " Slicing columns: \n",
      "[ 3  9 15]\n",
      "\n",
      " x[:, 2] is not equivalent to x[:][2] !\n",
      "[ 2  8 14]\n",
      "[12 13 14 15 16 17]\n"
     ]
    }
   ],
   "source": [
    "import numpy as np\n",
    "\n",
    "x = np.arange(18).reshape(3, 6)\n",
    "print(\" Original array: \")\n",
    "print(x)\n",
    "\n",
    "print(\"\\n Slicing rows: \")\n",
    "print( x[0] )\n",
    "print( x[0, :] )\n",
    "\n",
    "print(\"\\n Slicing columns: \")\n",
    "print( x[:, 3] )\n",
    "\n",
    "print(\"\\n x[:, 2] is not equivalent to x[:][2] !\")\n",
    "print(x[:, 2])    # Selects all rows at column 2\n",
    "print(x[:][2])    # Selects the whole array, THEN selects row 2"
   ]
  },
  {
   "cell_type": "markdown",
   "metadata": {},
   "source": [
    "### 3.3. Operations on NumPy Arrays\n",
    "\n",
    "Inspired by MATLAB, extended by NumPy (TM). Here are some basic operations; some other, more usual things are illustrated towards the end of the tutorial."
   ]
  },
  {
   "cell_type": "code",
   "execution_count": 57,
   "metadata": {},
   "outputs": [
    {
     "name": "stdout",
     "output_type": "stream",
     "text": [
      " Element-wise addition: \n",
      "[[2. 1. 1.]\n",
      " [1. 2. 1.]\n",
      " [1. 1. 2.]]\n",
      "\n",
      " Element-wise multiplication: \n",
      "[[1. 0. 0.]\n",
      " [0. 1. 0.]\n",
      " [0. 0. 1.]]\n",
      "\n",
      " Scalar multiplication: \n",
      "[[2. 2. 2.]\n",
      " [2. 2. 2.]\n",
      " [2. 2. 2.]]\n",
      "\n",
      " Add a scalar to the whole array: \n",
      "[[42. 42. 42.]\n",
      " [42. 42. 42.]\n",
      " [42. 42. 42.]]\n"
     ]
    }
   ],
   "source": [
    "import numpy as np\n",
    "\n",
    "x = np.ones( (3, 3) )\n",
    "y = np.eye(3)\n",
    "\n",
    "# Element-wise operators:\n",
    "print(\" Element-wise addition: \")\n",
    "print(x + y)\n",
    "\n",
    "print(\"\\n Element-wise multiplication: \")\n",
    "print(x * y)\n",
    "\n",
    "# Scalar operations:\n",
    "print(\"\\n Scalar multiplication: \")\n",
    "print(x * 2)\n",
    "\n",
    "print(\"\\n Add a scalar to the whole array: \")\n",
    "print(x + 41)"
   ]
  },
  {
   "cell_type": "code",
   "execution_count": 58,
   "metadata": {},
   "outputs": [
    {
     "name": "stdout",
     "output_type": "stream",
     "text": [
      " Matrix-wise multiplication:\n",
      "[[13.56674678 13.56674678 13.56674678]\n",
      " [11.33694413 11.33694413 11.33694413]\n",
      " [17.27457887 17.27457887 17.27457887]]\n",
      "\n",
      " Matrix inverse:\n",
      "[[-0.2199641  -0.69611414  0.68748445]\n",
      " [-0.00584208  0.15800984 -0.04122189]\n",
      " [ 0.20025736  0.23946542 -0.25654154]]\n"
     ]
    }
   ],
   "source": [
    "import numpy as np\n",
    "\n",
    "x = np.random.random( (3, 3) ) * 10   # create a 3x3 array with random values from (0, 1)\n",
    "y = np.ones( (3, 3) )\n",
    "\n",
    "# Matrix-wise operations:\n",
    "print(\" Matrix-wise multiplication:\")\n",
    "print( np.matmul(x, y) )\n",
    "\n",
    "print(\"\\n Matrix inverse:\")\n",
    "print( np.linalg.inv(x) )"
   ]
  },
  {
   "cell_type": "code",
   "execution_count": 59,
   "metadata": {},
   "outputs": [
    {
     "name": "stdout",
     "output_type": "stream",
     "text": [
      " Dot product of vectors: \n",
      "5\n",
      "5\n",
      "\n",
      " Dot product of vector and matrix: \n",
      "[15 18 21]\n"
     ]
    }
   ],
   "source": [
    "import numpy as np\n",
    "\n",
    "x = np.arange(3)\n",
    "y = np.arange(9).reshape(3, 3)\n",
    "\n",
    "print(\" Dot product of vectors: \")\n",
    "print(np.dot(x, x))\n",
    "print(x @ x)\n",
    "\n",
    "print(\"\\n Dot product of vector and matrix: \")\n",
    "print(x @ y)"
   ]
  },
  {
   "cell_type": "code",
   "execution_count": 60,
   "metadata": {},
   "outputs": [
    {
     "name": "stdout",
     "output_type": "stream",
     "text": [
      " Functions are applied element-wise by default: \n",
      "[[ 0.          0.84147098  0.90929743]\n",
      " [ 0.14112001 -0.7568025  -0.95892427]\n",
      " [-0.2794155   0.6569866   0.98935825]]\n"
     ]
    }
   ],
   "source": [
    "import numpy as np\n",
    "\n",
    "x = np.arange(9).reshape(3, 3)\n",
    "\n",
    "print(\" Functions are applied element-wise by default: \")\n",
    "print(np.sin(x))"
   ]
  },
  {
   "cell_type": "markdown",
   "metadata": {},
   "source": [
    "## 4. Matplotlib Basics\n",
    "\n",
    "Now let's plot some basic things using Matplotlib. The quickest way is using MATLAB-style 'stateful' plotting:"
   ]
  },
  {
   "cell_type": "code",
   "execution_count": 61,
   "metadata": {},
   "outputs": [
    {
     "data": {
      "image/png": "[encoded data removed]",
      "text/plain": [
       "<Figure size 432x288 with 1 Axes>"
      ]
     },
     "metadata": {
      "needs_background": "light"
     },
     "output_type": "display_data"
    }
   ],
   "source": [
    "import numpy as np\n",
    "import matplotlib.pyplot as plt\n",
    "\n",
    "x = np.linspace(0, 2, 100)\n",
    "\n",
    "plt.plot(x, x, label='linear')\n",
    "plt.plot(x, x**2, label='quadratic')\n",
    "plt.plot(x, x**3, label='cubic')\n",
    "\n",
    "plt.xlabel('x label')\n",
    "plt.ylabel('y label')\n",
    "\n",
    "plt.title(\"Simple Plot\")\n",
    "\n",
    "plt.legend()\n",
    "\n",
    "plt.show()"
   ]
  },
  {
   "cell_type": "markdown",
   "metadata": {},
   "source": [
    "A more programmatic way would be to use individual figures and axes in the object-oriented style:"
   ]
  },
  {
   "cell_type": "code",
   "execution_count": 62,
   "metadata": {},
   "outputs": [
    {
     "data": {
      "image/png": "[encoded data removed]",
      "text/plain": [
       "<Figure size 432x288 with 1 Axes>"
      ]
     },
     "metadata": {
      "needs_background": "light"
     },
     "output_type": "display_data"
    }
   ],
   "source": [
    "import numpy as np\n",
    "import matplotlib.pyplot as plt\n",
    "\n",
    "x = np.arange(0, 10, 0.1)\n",
    "y = np.sin(x)\n",
    "\n",
    "fig, ax = plt.subplots() # Creates a subplot with one figure by default\n",
    "\n",
    "ax.plot(x, y)\n",
    "plt.show()"
   ]
  },
  {
   "cell_type": "markdown",
   "metadata": {},
   "source": [
    "When using subplots, the object-oriented style becomes more useful:"
   ]
  },
  {
   "cell_type": "code",
   "execution_count": 63,
   "metadata": {},
   "outputs": [
    {
     "name": "stdout",
     "output_type": "stream",
     "text": [
      "Created a list of axes:\n",
      "[<matplotlib.axes._subplots.AxesSubplot object at 0x0000014670D0DA20>\n",
      " <matplotlib.axes._subplots.AxesSubplot object at 0x0000014670802EF0>]\n"
     ]
    },
    {
     "data": {
      "image/png": "[encoded data removed]",
      "text/plain": [
       "<Figure size 432x288 with 2 Axes>"
      ]
     },
     "metadata": {
      "needs_background": "light"
     },
     "output_type": "display_data"
    }
   ],
   "source": [
    "import numpy as np\n",
    "import matplotlib.pyplot as plt\n",
    "\n",
    "x = np.arange(0, 10, 0.5)\n",
    "y = np.sin(x)\n",
    "\n",
    "# Create a figure and an *array of axes*\n",
    "fig, ax = plt.subplots(1, 2)\n",
    "\n",
    "print(\"Created a list of axes:\")\n",
    "print(ax)\n",
    "\n",
    "ax[0].plot(x, y, 'go')\n",
    "ax[1].plot(x, y, marker = 'x', color = 'r')\n",
    "plt.show()"
   ]
  },
  {
   "cell_type": "markdown",
   "metadata": {},
   "source": [
    "## 5. Plotly Basics\n",
    "\n",
    "Plotly is JavaScript-based plotting engine that creates beautiful figures. They can be exported as interactive webpages and can be more efficient than Matplotlib in handling big datasets.\n",
    "\n",
    "Plotly is not a 'standard' package like NumPy or Matplotlib. Let's install it using `pip`:"
   ]
  },
  {
   "cell_type": "code",
   "execution_count": 64,
   "metadata": {},
   "outputs": [
    {
     "name": "stdout",
     "output_type": "stream",
     "text": [
      "Requirement already satisfied: plotly in c:\\programdata\\anaconda3\\lib\\site-packages (4.1.1)\n",
      "Requirement already satisfied: six in c:\\programdata\\anaconda3\\lib\\site-packages (from plotly) (1.12.0)\n",
      "Requirement already satisfied: retrying>=1.3.3 in c:\\programdata\\anaconda3\\lib\\site-packages (from plotly) (1.3.3)\n"
     ]
    }
   ],
   "source": [
    "# Again, use an exclamation mark in front of system commands:\n",
    "!pip install plotly"
   ]
  },
  {
   "cell_type": "markdown",
   "metadata": {},
   "source": [
    "Plotly is a high-level, declarative charting library. This means that every setting of the plot can be accessed and set as a property of the instance."
   ]
  },
  {
   "cell_type": "code",
   "execution_count": 65,
   "metadata": {},
   "outputs": [
    {
     "data": {
      "application/vnd.plotly.v1+json": {
       "config": {
        "plotlyServerURL": "https://plot.ly"
       },
       "data": [
        {
         "marker": {
          "color": [
           0.6927254619497158,
           9.767736289595797,
           7.4519031623250696,
           4.389878935224787,
           2.3498072296042127,
           7.249875747103549,
           4.6115895401032505,
           7.961993779801212,
           9.920105128104048,
           8.16159643850214,
           5.546699030414083,
           4.796324860981444,
           4.668059725547106,
           3.4403664587044003,
           7.578167970526797,
           2.2198487989411064,
           7.603584491395785,
           8.330117240558634,
           1.5569596630941707,
           4.182393774936482,
           9.669294233404232,
           0.2729482888345991,
           0.8077670727517383,
           1.7932028773891417,
           4.950758047000213,
           1.836634544886977,
           0.9117531102919341,
           7.384633737513346,
           2.6956086686127403,
           7.675521353072002,
           9.724882626398298,
           8.480744392051921,
           8.651103601425756,
           0.6329880163029533,
           0.5045499541941934,
           8.290836064576823,
           0.5666690514415196,
           2.5358946802524063,
           4.2733812608160715,
           2.574338498130487,
           8.286913735511419,
           3.1990178651607537,
           6.387726885834997,
           9.849246344523113,
           9.280106767336457,
           1.229967181719639,
           1.6482650142413446,
           6.442646887334447,
           9.394766213176478,
           0.9637022398769612,
           0.19352538949039988,
           8.430830335972882,
           2.563413936383201,
           9.878675125777255,
           9.368005897499009,
           5.558498696962145,
           2.2677133173224187,
           6.155552630320785,
           9.795633765036,
           6.403304570213022,
           6.568990015117455,
           4.302223519414149,
           5.332084602873337,
           5.929384001455883,
           4.644766513142175,
           6.879274720364559,
           7.9145124120635835,
           9.443223215811523,
           0.4694525877967992,
           7.037453799974628,
           4.150492956793382,
           4.100120559403048,
           2.4602719141492315,
           2.453078657507076,
           2.1544222621130604,
           8.818647245774553,
           7.824830614775745,
           7.314796465353793,
           8.127086950560114,
           4.109464101960818,
           7.9075950855807475,
           9.427568588804045,
           7.456079745320564,
           5.9021776094970395,
           4.5064328042058595,
           0.5965049121057941,
           9.706945435286904,
           1.5759864075556362,
           3.3510956457032637,
           5.020214217960768,
           1.6814548799647133,
           3.8252090519397686,
           7.608100885463072,
           1.1139074410309502,
           0.500088284781155,
           5.643033247335051,
           8.611744383662622,
           0.09679999560380015,
           5.101856375855011,
           3.951493000120676
          ]
         },
         "mode": "markers",
         "type": "scatter3d",
         "x": [
          6.907276204959593,
          6.864057727875612,
          0.2870379662948219,
          6.10108176460553,
          4.638544314682312,
          0.9796487495050044,
          0.38641262845421576,
          0.7889814583515831,
          3.146079915703406,
          7.621050304549604,
          3.018227209200328,
          7.420759974058958,
          9.45614657065384,
          5.515281509025195,
          8.72544727380684,
          2.7700970103182665,
          0.9924376793638967,
          9.242279315226693,
          1.4492433893960432,
          8.692716030517296,
          0.22971234487234704,
          6.137174323887146,
          4.618992390989969,
          1.3626611966868973,
          3.226561243035282,
          2.1182944201764142,
          1.647851269800401,
          4.655100742916854,
          9.29046043307032,
          3.2020562356582136,
          5.998307345545266,
          6.492100737634657,
          4.08811894338206,
          2.560313550390906,
          1.0988748884344868,
          9.151430269261091,
          8.97980565728523,
          8.537113507702735,
          9.00851847052981,
          8.916284718625468,
          7.465446417704581,
          2.2134082442061698,
          4.499231589427099,
          5.825860970974716,
          9.519308148603965,
          3.4397707109674256,
          3.886246272322839,
          2.0065589292497132,
          4.914973107268487,
          2.818774086565199,
          0.41529145741703855,
          1.6239381984679369,
          9.263916470235996,
          9.391568675983562,
          8.909257059202751,
          1.7894102421861013,
          9.034809652435934,
          7.538820842728748,
          0.5569304252691976,
          0.9208347702147679,
          4.691614070254167,
          2.8009545221158683,
          7.457986246871836,
          4.847804225047395,
          4.9193460935481745,
          4.5074910315761185,
          4.953040942884545,
          2.9827984547996977,
          3.8182713520013434,
          0.19350147007845764,
          6.888050761582733,
          0.482005143480011,
          0.9184820703219976,
          6.2595125157896145,
          0.46733839038911595,
          8.88255873562844,
          9.6726985681031,
          6.522623155422336,
          1.8935834115640227,
          6.025749579144579,
          9.28543815895271,
          1.8522659247016682,
          6.251710170427989,
          9.472270045373225,
          1.688178177935079,
          0.5423380742836204,
          6.969166007697245,
          1.1504105274021936,
          7.393435227105693,
          7.989675182815166,
          4.653231178369062,
          3.1545855960892046,
          3.3427264552636196,
          8.58123380551612,
          8.890012074377168,
          0.8788819923091629,
          9.597347847998703,
          9.669030558183119,
          5.9431889442320385,
          9.336849012396499
         ],
         "y": [
          8.602166893067235,
          6.170955717330777,
          1.095736171673054,
          6.89036313873552,
          9.504457921680615,
          1.0240574332364838,
          7.099104880627973,
          9.666113540289523,
          6.932261090449421,
          8.274395901583913,
          6.494325743990036,
          0.7647129136043995,
          7.890117374426513,
          5.092979596552687,
          2.0533885919492336,
          8.075682413448343,
          6.787178660982774,
          6.884017761121629,
          5.952619062398066,
          7.2758502815584265,
          1.6598450289734978,
          1.2713604505834308,
          0.057665900062799924,
          5.405836133334869,
          9.399460869221034,
          4.197439482580419,
          9.384403400927617,
          1.0531893382465973,
          4.445955947995923,
          1.0616398850655062,
          0.3724961342773103,
          8.926297616429883,
          3.290943029940885,
          1.884485005760974,
          2.666488383177702,
          9.026340368817289,
          0.9695695573487673,
          5.403950320728397,
          9.765570421425167,
          2.154956927264765,
          1.9831185236392068,
          5.904182048316483,
          4.6774244225853066,
          7.3965854572150285,
          4.872826885609397,
          4.459394383976311,
          5.995834121049331,
          1.7337470892853812,
          7.771840039384282,
          3.0452556057582636,
          5.4277957346690275,
          7.8410216344697705,
          4.180356837367354,
          0.7440924138991123,
          2.342235773948318,
          3.53401658366297,
          1.7873510913975676,
          2.4286799580698504,
          6.371357313055414,
          0.9895538111365509,
          5.4417054124957485,
          2.445436412262063,
          8.519966984416651,
          7.436609324347851,
          9.367595755317918,
          6.354375633369779,
          3.7937793336430756,
          8.581082937295024,
          3.829891374596727,
          0.5064824773097509,
          4.052524304180464,
          8.97572148067124,
          1.2147362950346374,
          1.6111927402812931,
          7.559100551351433,
          4.204859159866424,
          4.622628303726116,
          9.447965460348783,
          7.769862819087365,
          9.659603897054513,
          3.057840775245324,
          5.089730577265805,
          3.6200852257567506,
          3.599341912430728,
          1.1688852069491873,
          6.976241654159497,
          9.720691278367532,
          8.961726045825435,
          1.0194743433527598,
          2.412422826183981,
          3.1523468782607944,
          5.356236484607396,
          4.603876991474047,
          4.04683089215802,
          2.433311131141328,
          9.400881283054343,
          0.834895681969815,
          9.113204742834618,
          0.717738374832636,
          8.859510324761574
         ],
         "z": [
          0.6927254619497158,
          9.767736289595797,
          7.4519031623250696,
          4.389878935224787,
          2.3498072296042127,
          7.249875747103549,
          4.6115895401032505,
          7.961993779801212,
          9.920105128104048,
          8.16159643850214,
          5.546699030414083,
          4.796324860981444,
          4.668059725547106,
          3.4403664587044003,
          7.578167970526797,
          2.2198487989411064,
          7.603584491395785,
          8.330117240558634,
          1.5569596630941707,
          4.182393774936482,
          9.669294233404232,
          0.2729482888345991,
          0.8077670727517383,
          1.7932028773891417,
          4.950758047000213,
          1.836634544886977,
          0.9117531102919341,
          7.384633737513346,
          2.6956086686127403,
          7.675521353072002,
          9.724882626398298,
          8.480744392051921,
          8.651103601425756,
          0.6329880163029533,
          0.5045499541941934,
          8.290836064576823,
          0.5666690514415196,
          2.5358946802524063,
          4.2733812608160715,
          2.574338498130487,
          8.286913735511419,
          3.1990178651607537,
          6.387726885834997,
          9.849246344523113,
          9.280106767336457,
          1.229967181719639,
          1.6482650142413446,
          6.442646887334447,
          9.394766213176478,
          0.9637022398769612,
          0.19352538949039988,
          8.430830335972882,
          2.563413936383201,
          9.878675125777255,
          9.368005897499009,
          5.558498696962145,
          2.2677133173224187,
          6.155552630320785,
          9.795633765036,
          6.403304570213022,
          6.568990015117455,
          4.302223519414149,
          5.332084602873337,
          5.929384001455883,
          4.644766513142175,
          6.879274720364559,
          7.9145124120635835,
          9.443223215811523,
          0.4694525877967992,
          7.037453799974628,
          4.150492956793382,
          4.100120559403048,
          2.4602719141492315,
          2.453078657507076,
          2.1544222621130604,
          8.818647245774553,
          7.824830614775745,
          7.314796465353793,
          8.127086950560114,
          4.109464101960818,
          7.9075950855807475,
          9.427568588804045,
          7.456079745320564,
          5.9021776094970395,
          4.5064328042058595,
          0.5965049121057941,
          9.706945435286904,
          1.5759864075556362,
          3.3510956457032637,
          5.020214217960768,
          1.6814548799647133,
          3.8252090519397686,
          7.608100885463072,
          1.1139074410309502,
          0.500088284781155,
          5.643033247335051,
          8.611744383662622,
          0.09679999560380015,
          5.101856375855011,
          3.951493000120676
         ]
        }
       ],
       "layout": {
        "template": {
         "data": {
          "bar": [
           {
            "error_x": {
             "color": "#2a3f5f"
            },
            "error_y": {
             "color": "#2a3f5f"
            },
            "marker": {
             "line": {
              "color": "#E5ECF6",
              "width": 0.5
             }
            },
            "type": "bar"
           }
          ],
          "barpolar": [
           {
            "marker": {
             "line": {
              "color": "#E5ECF6",
              "width": 0.5
             }
            },
            "type": "barpolar"
           }
          ],
          "carpet": [
           {
            "aaxis": {
             "endlinecolor": "#2a3f5f",
             "gridcolor": "white",
             "linecolor": "white",
             "minorgridcolor": "white",
             "startlinecolor": "#2a3f5f"
            },
            "baxis": {
             "endlinecolor": "#2a3f5f",
             "gridcolor": "white",
             "linecolor": "white",
             "minorgridcolor": "white",
             "startlinecolor": "#2a3f5f"
            },
            "type": "carpet"
           }
          ],
          "choropleth": [
           {
            "colorbar": {
             "outlinewidth": 0,
             "ticks": ""
            },
            "type": "choropleth"
           }
          ],
          "contour": [
           {
            "colorbar": {
             "outlinewidth": 0,
             "ticks": ""
            },
            "colorscale": [
             [
              0,
              "#0d0887"
             ],
             [
              0.1111111111111111,
              "#46039f"
             ],
             [
              0.2222222222222222,
              "#7201a8"
             ],
             [
              0.3333333333333333,
              "#9c179e"
             ],
             [
              0.4444444444444444,
              "#bd3786"
             ],
             [
              0.5555555555555556,
              "#d8576b"
             ],
             [
              0.6666666666666666,
              "#ed7953"
             ],
             [
              0.7777777777777778,
              "#fb9f3a"
             ],
             [
              0.8888888888888888,
              "#fdca26"
             ],
             [
              1,
              "#f0f921"
             ]
            ],
            "type": "contour"
           }
          ],
          "contourcarpet": [
           {
            "colorbar": {
             "outlinewidth": 0,
             "ticks": ""
            },
            "type": "contourcarpet"
           }
          ],
          "heatmap": [
           {
            "colorbar": {
             "outlinewidth": 0,
             "ticks": ""
            },
            "colorscale": [
             [
              0,
              "#0d0887"
             ],
             [
              0.1111111111111111,
              "#46039f"
             ],
             [
              0.2222222222222222,
              "#7201a8"
             ],
             [
              0.3333333333333333,
              "#9c179e"
             ],
             [
              0.4444444444444444,
              "#bd3786"
             ],
             [
              0.5555555555555556,
              "#d8576b"
             ],
             [
              0.6666666666666666,
              "#ed7953"
             ],
             [
              0.7777777777777778,
              "#fb9f3a"
             ],
             [
              0.8888888888888888,
              "#fdca26"
             ],
             [
              1,
              "#f0f921"
             ]
            ],
            "type": "heatmap"
           }
          ],
          "heatmapgl": [
           {
            "colorbar": {
             "outlinewidth": 0,
             "ticks": ""
            },
            "colorscale": [
             [
              0,
              "#0d0887"
             ],
             [
              0.1111111111111111,
              "#46039f"
             ],
             [
              0.2222222222222222,
              "#7201a8"
             ],
             [
              0.3333333333333333,
              "#9c179e"
             ],
             [
              0.4444444444444444,
              "#bd3786"
             ],
             [
              0.5555555555555556,
              "#d8576b"
             ],
             [
              0.6666666666666666,
              "#ed7953"
             ],
             [
              0.7777777777777778,
              "#fb9f3a"
             ],
             [
              0.8888888888888888,
              "#fdca26"
             ],
             [
              1,
              "#f0f921"
             ]
            ],
            "type": "heatmapgl"
           }
          ],
          "histogram": [
           {
            "marker": {
             "colorbar": {
              "outlinewidth": 0,
              "ticks": ""
             }
            },
            "type": "histogram"
           }
          ],
          "histogram2d": [
           {
            "colorbar": {
             "outlinewidth": 0,
             "ticks": ""
            },
            "colorscale": [
             [
              0,
              "#0d0887"
             ],
             [
              0.1111111111111111,
              "#46039f"
             ],
             [
              0.2222222222222222,
              "#7201a8"
             ],
             [
              0.3333333333333333,
              "#9c179e"
             ],
             [
              0.4444444444444444,
              "#bd3786"
             ],
             [
              0.5555555555555556,
              "#d8576b"
             ],
             [
              0.6666666666666666,
              "#ed7953"
             ],
             [
              0.7777777777777778,
              "#fb9f3a"
             ],
             [
              0.8888888888888888,
              "#fdca26"
             ],
             [
              1,
              "#f0f921"
             ]
            ],
            "type": "histogram2d"
           }
          ],
          "histogram2dcontour": [
           {
            "colorbar": {
             "outlinewidth": 0,
             "ticks": ""
            },
            "colorscale": [
             [
              0,
              "#0d0887"
             ],
             [
              0.1111111111111111,
              "#46039f"
             ],
             [
              0.2222222222222222,
              "#7201a8"
             ],
             [
              0.3333333333333333,
              "#9c179e"
             ],
             [
              0.4444444444444444,
              "#bd3786"
             ],
             [
              0.5555555555555556,
              "#d8576b"
             ],
             [
              0.6666666666666666,
              "#ed7953"
             ],
             [
              0.7777777777777778,
              "#fb9f3a"
             ],
             [
              0.8888888888888888,
              "#fdca26"
             ],
             [
              1,
              "#f0f921"
             ]
            ],
            "type": "histogram2dcontour"
           }
          ],
          "mesh3d": [
           {
            "colorbar": {
             "outlinewidth": 0,
             "ticks": ""
            },
            "type": "mesh3d"
           }
          ],
          "parcoords": [
           {
            "line": {
             "colorbar": {
              "outlinewidth": 0,
              "ticks": ""
             }
            },
            "type": "parcoords"
           }
          ],
          "scatter": [
           {
            "marker": {
             "colorbar": {
              "outlinewidth": 0,
              "ticks": ""
             }
            },
            "type": "scatter"
           }
          ],
          "scatter3d": [
           {
            "line": {
             "colorbar": {
              "outlinewidth": 0,
              "ticks": ""
             }
            },
            "marker": {
             "colorbar": {
              "outlinewidth": 0,
              "ticks": ""
             }
            },
            "type": "scatter3d"
           }
          ],
          "scattercarpet": [
           {
            "marker": {
             "colorbar": {
              "outlinewidth": 0,
              "ticks": ""
             }
            },
            "type": "scattercarpet"
           }
          ],
          "scattergeo": [
           {
            "marker": {
             "colorbar": {
              "outlinewidth": 0,
              "ticks": ""
             }
            },
            "type": "scattergeo"
           }
          ],
          "scattergl": [
           {
            "marker": {
             "colorbar": {
              "outlinewidth": 0,
              "ticks": ""
             }
            },
            "type": "scattergl"
           }
          ],
          "scattermapbox": [
           {
            "marker": {
             "colorbar": {
              "outlinewidth": 0,
              "ticks": ""
             }
            },
            "type": "scattermapbox"
           }
          ],
          "scatterpolar": [
           {
            "marker": {
             "colorbar": {
              "outlinewidth": 0,
              "ticks": ""
             }
            },
            "type": "scatterpolar"
           }
          ],
          "scatterpolargl": [
           {
            "marker": {
             "colorbar": {
              "outlinewidth": 0,
              "ticks": ""
             }
            },
            "type": "scatterpolargl"
           }
          ],
          "scatterternary": [
           {
            "marker": {
             "colorbar": {
              "outlinewidth": 0,
              "ticks": ""
             }
            },
            "type": "scatterternary"
           }
          ],
          "surface": [
           {
            "colorbar": {
             "outlinewidth": 0,
             "ticks": ""
            },
            "colorscale": [
             [
              0,
              "#0d0887"
             ],
             [
              0.1111111111111111,
              "#46039f"
             ],
             [
              0.2222222222222222,
              "#7201a8"
             ],
             [
              0.3333333333333333,
              "#9c179e"
             ],
             [
              0.4444444444444444,
              "#bd3786"
             ],
             [
              0.5555555555555556,
              "#d8576b"
             ],
             [
              0.6666666666666666,
              "#ed7953"
             ],
             [
              0.7777777777777778,
              "#fb9f3a"
             ],
             [
              0.8888888888888888,
              "#fdca26"
             ],
             [
              1,
              "#f0f921"
             ]
            ],
            "type": "surface"
           }
          ],
          "table": [
           {
            "cells": {
             "fill": {
              "color": "#EBF0F8"
             },
             "line": {
              "color": "white"
             }
            },
            "header": {
             "fill": {
              "color": "#C8D4E3"
             },
             "line": {
              "color": "white"
             }
            },
            "type": "table"
           }
          ]
         },
         "layout": {
          "annotationdefaults": {
           "arrowcolor": "#2a3f5f",
           "arrowhead": 0,
           "arrowwidth": 1
          },
          "colorscale": {
           "diverging": [
            [
             0,
             "#8e0152"
            ],
            [
             0.1,
             "#c51b7d"
            ],
            [
             0.2,
             "#de77ae"
            ],
            [
             0.3,
             "#f1b6da"
            ],
            [
             0.4,
             "#fde0ef"
            ],
            [
             0.5,
             "#f7f7f7"
            ],
            [
             0.6,
             "#e6f5d0"
            ],
            [
             0.7,
             "#b8e186"
            ],
            [
             0.8,
             "#7fbc41"
            ],
            [
             0.9,
             "#4d9221"
            ],
            [
             1,
             "#276419"
            ]
           ],
           "sequential": [
            [
             0,
             "#0d0887"
            ],
            [
             0.1111111111111111,
             "#46039f"
            ],
            [
             0.2222222222222222,
             "#7201a8"
            ],
            [
             0.3333333333333333,
             "#9c179e"
            ],
            [
             0.4444444444444444,
             "#bd3786"
            ],
            [
             0.5555555555555556,
             "#d8576b"
            ],
            [
             0.6666666666666666,
             "#ed7953"
            ],
            [
             0.7777777777777778,
             "#fb9f3a"
            ],
            [
             0.8888888888888888,
             "#fdca26"
            ],
            [
             1,
             "#f0f921"
            ]
           ],
           "sequentialminus": [
            [
             0,
             "#0d0887"
            ],
            [
             0.1111111111111111,
             "#46039f"
            ],
            [
             0.2222222222222222,
             "#7201a8"
            ],
            [
             0.3333333333333333,
             "#9c179e"
            ],
            [
             0.4444444444444444,
             "#bd3786"
            ],
            [
             0.5555555555555556,
             "#d8576b"
            ],
            [
             0.6666666666666666,
             "#ed7953"
            ],
            [
             0.7777777777777778,
             "#fb9f3a"
            ],
            [
             0.8888888888888888,
             "#fdca26"
            ],
            [
             1,
             "#f0f921"
            ]
           ]
          },
          "colorway": [
           "#636efa",
           "#EF553B",
           "#00cc96",
           "#ab63fa",
           "#FFA15A",
           "#19d3f3",
           "#FF6692",
           "#B6E880",
           "#FF97FF",
           "#FECB52"
          ],
          "font": {
           "color": "#2a3f5f"
          },
          "geo": {
           "bgcolor": "white",
           "lakecolor": "white",
           "landcolor": "#E5ECF6",
           "showlakes": true,
           "showland": true,
           "subunitcolor": "white"
          },
          "hoverlabel": {
           "align": "left"
          },
          "hovermode": "closest",
          "mapbox": {
           "style": "light"
          },
          "paper_bgcolor": "white",
          "plot_bgcolor": "#E5ECF6",
          "polar": {
           "angularaxis": {
            "gridcolor": "white",
            "linecolor": "white",
            "ticks": ""
           },
           "bgcolor": "#E5ECF6",
           "radialaxis": {
            "gridcolor": "white",
            "linecolor": "white",
            "ticks": ""
           }
          },
          "scene": {
           "xaxis": {
            "backgroundcolor": "#E5ECF6",
            "gridcolor": "white",
            "gridwidth": 2,
            "linecolor": "white",
            "showbackground": true,
            "ticks": "",
            "zerolinecolor": "white"
           },
           "yaxis": {
            "backgroundcolor": "#E5ECF6",
            "gridcolor": "white",
            "gridwidth": 2,
            "linecolor": "white",
            "showbackground": true,
            "ticks": "",
            "zerolinecolor": "white"
           },
           "zaxis": {
            "backgroundcolor": "#E5ECF6",
            "gridcolor": "white",
            "gridwidth": 2,
            "linecolor": "white",
            "showbackground": true,
            "ticks": "",
            "zerolinecolor": "white"
           }
          },
          "shapedefaults": {
           "line": {
            "color": "#2a3f5f"
           }
          },
          "ternary": {
           "aaxis": {
            "gridcolor": "white",
            "linecolor": "white",
            "ticks": ""
           },
           "baxis": {
            "gridcolor": "white",
            "linecolor": "white",
            "ticks": ""
           },
           "bgcolor": "#E5ECF6",
           "caxis": {
            "gridcolor": "white",
            "linecolor": "white",
            "ticks": ""
           }
          },
          "title": {
           "x": 0.05
          },
          "xaxis": {
           "automargin": true,
           "gridcolor": "white",
           "linecolor": "white",
           "ticks": "",
           "zerolinecolor": "white",
           "zerolinewidth": 2
          },
          "yaxis": {
           "automargin": true,
           "gridcolor": "white",
           "linecolor": "white",
           "ticks": "",
           "zerolinecolor": "white",
           "zerolinewidth": 2
          }
         }
        }
       }
      },
      "text/html": [
       "<div>\n",
       "        \n",
       "        \n",
       "            <div id=\"edd9d35b-d4c1-40f7-9c29-d63bd38d3e92\" class=\"plotly-graph-div\" style=\"height:525px; width:100%;\"></div>\n",
       "            <script type=\"text/javascript\">\n",
       "                require([\"plotly\"], function(Plotly) {\n",
       "                    window.PLOTLYENV=window.PLOTLYENV || {};\n",
       "                    \n",
       "                if (document.getElementById(\"edd9d35b-d4c1-40f7-9c29-d63bd38d3e92\")) {\n",
       "                    Plotly.newPlot(\n",
       "                        'edd9d35b-d4c1-40f7-9c29-d63bd38d3e92',\n",
       "                        [{\"marker\": {\"color\": [0.6927254619497158, 9.767736289595797, 7.4519031623250696, 4.389878935224787, 2.3498072296042127, 7.249875747103549, 4.6115895401032505, 7.961993779801212, 9.920105128104048, 8.16159643850214, 5.546699030414083, 4.796324860981444, 4.668059725547106, 3.4403664587044003, 7.578167970526797, 2.2198487989411064, 7.603584491395785, 8.330117240558634, 1.5569596630941707, 4.182393774936482, 9.669294233404232, 0.2729482888345991, 0.8077670727517383, 1.7932028773891417, 4.950758047000213, 1.836634544886977, 0.9117531102919341, 7.384633737513346, 2.6956086686127403, 7.675521353072002, 9.724882626398298, 8.480744392051921, 8.651103601425756, 0.6329880163029533, 0.5045499541941934, 8.290836064576823, 0.5666690514415196, 2.5358946802524063, 4.2733812608160715, 2.574338498130487, 8.286913735511419, 3.1990178651607537, 6.387726885834997, 9.849246344523113, 9.280106767336457, 1.229967181719639, 1.6482650142413446, 6.442646887334447, 9.394766213176478, 0.9637022398769612, 0.19352538949039988, 8.430830335972882, 2.563413936383201, 9.878675125777255, 9.368005897499009, 5.558498696962145, 2.2677133173224187, 6.155552630320785, 9.795633765036, 6.403304570213022, 6.568990015117455, 4.302223519414149, 5.332084602873337, 5.929384001455883, 4.644766513142175, 6.879274720364559, 7.9145124120635835, 9.443223215811523, 0.4694525877967992, 7.037453799974628, 4.150492956793382, 4.100120559403048, 2.4602719141492315, 2.453078657507076, 2.1544222621130604, 8.818647245774553, 7.824830614775745, 7.314796465353793, 8.127086950560114, 4.109464101960818, 7.9075950855807475, 9.427568588804045, 7.456079745320564, 5.9021776094970395, 4.5064328042058595, 0.5965049121057941, 9.706945435286904, 1.5759864075556362, 3.3510956457032637, 5.020214217960768, 1.6814548799647133, 3.8252090519397686, 7.608100885463072, 1.1139074410309502, 0.500088284781155, 5.643033247335051, 8.611744383662622, 0.09679999560380015, 5.101856375855011, 3.951493000120676]}, \"mode\": \"markers\", \"type\": \"scatter3d\", \"x\": [6.907276204959593, 6.864057727875612, 0.2870379662948219, 6.10108176460553, 4.638544314682312, 0.9796487495050044, 0.38641262845421576, 0.7889814583515831, 3.146079915703406, 7.621050304549604, 3.018227209200328, 7.420759974058958, 9.45614657065384, 5.515281509025195, 8.72544727380684, 2.7700970103182665, 0.9924376793638967, 9.242279315226693, 1.4492433893960432, 8.692716030517296, 0.22971234487234704, 6.137174323887146, 4.618992390989969, 1.3626611966868973, 3.226561243035282, 2.1182944201764142, 1.647851269800401, 4.655100742916854, 9.29046043307032, 3.2020562356582136, 5.998307345545266, 6.492100737634657, 4.08811894338206, 2.560313550390906, 1.0988748884344868, 9.151430269261091, 8.97980565728523, 8.537113507702735, 9.00851847052981, 8.916284718625468, 7.465446417704581, 2.2134082442061698, 4.499231589427099, 5.825860970974716, 9.519308148603965, 3.4397707109674256, 3.886246272322839, 2.0065589292497132, 4.914973107268487, 2.818774086565199, 0.41529145741703855, 1.6239381984679369, 9.263916470235996, 9.391568675983562, 8.909257059202751, 1.7894102421861013, 9.034809652435934, 7.538820842728748, 0.5569304252691976, 0.9208347702147679, 4.691614070254167, 2.8009545221158683, 7.457986246871836, 4.847804225047395, 4.9193460935481745, 4.5074910315761185, 4.953040942884545, 2.9827984547996977, 3.8182713520013434, 0.19350147007845764, 6.888050761582733, 0.482005143480011, 0.9184820703219976, 6.2595125157896145, 0.46733839038911595, 8.88255873562844, 9.6726985681031, 6.522623155422336, 1.8935834115640227, 6.025749579144579, 9.28543815895271, 1.8522659247016682, 6.251710170427989, 9.472270045373225, 1.688178177935079, 0.5423380742836204, 6.969166007697245, 1.1504105274021936, 7.393435227105693, 7.989675182815166, 4.653231178369062, 3.1545855960892046, 3.3427264552636196, 8.58123380551612, 8.890012074377168, 0.8788819923091629, 9.597347847998703, 9.669030558183119, 5.9431889442320385, 9.336849012396499], \"y\": [8.602166893067235, 6.170955717330777, 1.095736171673054, 6.89036313873552, 9.504457921680615, 1.0240574332364838, 7.099104880627973, 9.666113540289523, 6.932261090449421, 8.274395901583913, 6.494325743990036, 0.7647129136043995, 7.890117374426513, 5.092979596552687, 2.0533885919492336, 8.075682413448343, 6.787178660982774, 6.884017761121629, 5.952619062398066, 7.2758502815584265, 1.6598450289734978, 1.2713604505834308, 0.057665900062799924, 5.405836133334869, 9.399460869221034, 4.197439482580419, 9.384403400927617, 1.0531893382465973, 4.445955947995923, 1.0616398850655062, 0.3724961342773103, 8.926297616429883, 3.290943029940885, 1.884485005760974, 2.666488383177702, 9.026340368817289, 0.9695695573487673, 5.403950320728397, 9.765570421425167, 2.154956927264765, 1.9831185236392068, 5.904182048316483, 4.6774244225853066, 7.3965854572150285, 4.872826885609397, 4.459394383976311, 5.995834121049331, 1.7337470892853812, 7.771840039384282, 3.0452556057582636, 5.4277957346690275, 7.8410216344697705, 4.180356837367354, 0.7440924138991123, 2.342235773948318, 3.53401658366297, 1.7873510913975676, 2.4286799580698504, 6.371357313055414, 0.9895538111365509, 5.4417054124957485, 2.445436412262063, 8.519966984416651, 7.436609324347851, 9.367595755317918, 6.354375633369779, 3.7937793336430756, 8.581082937295024, 3.829891374596727, 0.5064824773097509, 4.052524304180464, 8.97572148067124, 1.2147362950346374, 1.6111927402812931, 7.559100551351433, 4.204859159866424, 4.622628303726116, 9.447965460348783, 7.769862819087365, 9.659603897054513, 3.057840775245324, 5.089730577265805, 3.6200852257567506, 3.599341912430728, 1.1688852069491873, 6.976241654159497, 9.720691278367532, 8.961726045825435, 1.0194743433527598, 2.412422826183981, 3.1523468782607944, 5.356236484607396, 4.603876991474047, 4.04683089215802, 2.433311131141328, 9.400881283054343, 0.834895681969815, 9.113204742834618, 0.717738374832636, 8.859510324761574], \"z\": [0.6927254619497158, 9.767736289595797, 7.4519031623250696, 4.389878935224787, 2.3498072296042127, 7.249875747103549, 4.6115895401032505, 7.961993779801212, 9.920105128104048, 8.16159643850214, 5.546699030414083, 4.796324860981444, 4.668059725547106, 3.4403664587044003, 7.578167970526797, 2.2198487989411064, 7.603584491395785, 8.330117240558634, 1.5569596630941707, 4.182393774936482, 9.669294233404232, 0.2729482888345991, 0.8077670727517383, 1.7932028773891417, 4.950758047000213, 1.836634544886977, 0.9117531102919341, 7.384633737513346, 2.6956086686127403, 7.675521353072002, 9.724882626398298, 8.480744392051921, 8.651103601425756, 0.6329880163029533, 0.5045499541941934, 8.290836064576823, 0.5666690514415196, 2.5358946802524063, 4.2733812608160715, 2.574338498130487, 8.286913735511419, 3.1990178651607537, 6.387726885834997, 9.849246344523113, 9.280106767336457, 1.229967181719639, 1.6482650142413446, 6.442646887334447, 9.394766213176478, 0.9637022398769612, 0.19352538949039988, 8.430830335972882, 2.563413936383201, 9.878675125777255, 9.368005897499009, 5.558498696962145, 2.2677133173224187, 6.155552630320785, 9.795633765036, 6.403304570213022, 6.568990015117455, 4.302223519414149, 5.332084602873337, 5.929384001455883, 4.644766513142175, 6.879274720364559, 7.9145124120635835, 9.443223215811523, 0.4694525877967992, 7.037453799974628, 4.150492956793382, 4.100120559403048, 2.4602719141492315, 2.453078657507076, 2.1544222621130604, 8.818647245774553, 7.824830614775745, 7.314796465353793, 8.127086950560114, 4.109464101960818, 7.9075950855807475, 9.427568588804045, 7.456079745320564, 5.9021776094970395, 4.5064328042058595, 0.5965049121057941, 9.706945435286904, 1.5759864075556362, 3.3510956457032637, 5.020214217960768, 1.6814548799647133, 3.8252090519397686, 7.608100885463072, 1.1139074410309502, 0.500088284781155, 5.643033247335051, 8.611744383662622, 0.09679999560380015, 5.101856375855011, 3.951493000120676]}],\n",
       "                        {\"template\": {\"data\": {\"bar\": [{\"error_x\": {\"color\": \"#2a3f5f\"}, \"error_y\": {\"color\": \"#2a3f5f\"}, \"marker\": {\"line\": {\"color\": \"#E5ECF6\", \"width\": 0.5}}, \"type\": \"bar\"}], \"barpolar\": [{\"marker\": {\"line\": {\"color\": \"#E5ECF6\", \"width\": 0.5}}, \"type\": \"barpolar\"}], \"carpet\": [{\"aaxis\": {\"endlinecolor\": \"#2a3f5f\", \"gridcolor\": \"white\", \"linecolor\": \"white\", \"minorgridcolor\": \"white\", \"startlinecolor\": \"#2a3f5f\"}, \"baxis\": {\"endlinecolor\": \"#2a3f5f\", \"gridcolor\": \"white\", \"linecolor\": \"white\", \"minorgridcolor\": \"white\", \"startlinecolor\": \"#2a3f5f\"}, \"type\": \"carpet\"}], \"choropleth\": [{\"colorbar\": {\"outlinewidth\": 0, \"ticks\": \"\"}, \"type\": \"choropleth\"}], \"contour\": [{\"colorbar\": {\"outlinewidth\": 0, \"ticks\": \"\"}, \"colorscale\": [[0.0, \"#0d0887\"], [0.1111111111111111, \"#46039f\"], [0.2222222222222222, \"#7201a8\"], [0.3333333333333333, \"#9c179e\"], [0.4444444444444444, \"#bd3786\"], [0.5555555555555556, \"#d8576b\"], [0.6666666666666666, \"#ed7953\"], [0.7777777777777778, \"#fb9f3a\"], [0.8888888888888888, \"#fdca26\"], [1.0, \"#f0f921\"]], \"type\": \"contour\"}], \"contourcarpet\": [{\"colorbar\": {\"outlinewidth\": 0, \"ticks\": \"\"}, \"type\": \"contourcarpet\"}], \"heatmap\": [{\"colorbar\": {\"outlinewidth\": 0, \"ticks\": \"\"}, \"colorscale\": [[0.0, \"#0d0887\"], [0.1111111111111111, \"#46039f\"], [0.2222222222222222, \"#7201a8\"], [0.3333333333333333, \"#9c179e\"], [0.4444444444444444, \"#bd3786\"], [0.5555555555555556, \"#d8576b\"], [0.6666666666666666, \"#ed7953\"], [0.7777777777777778, \"#fb9f3a\"], [0.8888888888888888, \"#fdca26\"], [1.0, \"#f0f921\"]], \"type\": \"heatmap\"}], \"heatmapgl\": [{\"colorbar\": {\"outlinewidth\": 0, \"ticks\": \"\"}, \"colorscale\": [[0.0, \"#0d0887\"], [0.1111111111111111, \"#46039f\"], [0.2222222222222222, \"#7201a8\"], [0.3333333333333333, \"#9c179e\"], [0.4444444444444444, \"#bd3786\"], [0.5555555555555556, \"#d8576b\"], [0.6666666666666666, \"#ed7953\"], [0.7777777777777778, \"#fb9f3a\"], [0.8888888888888888, \"#fdca26\"], [1.0, \"#f0f921\"]], \"type\": \"heatmapgl\"}], \"histogram\": [{\"marker\": {\"colorbar\": {\"outlinewidth\": 0, \"ticks\": \"\"}}, \"type\": \"histogram\"}], \"histogram2d\": [{\"colorbar\": {\"outlinewidth\": 0, \"ticks\": \"\"}, \"colorscale\": [[0.0, \"#0d0887\"], [0.1111111111111111, \"#46039f\"], [0.2222222222222222, \"#7201a8\"], [0.3333333333333333, \"#9c179e\"], [0.4444444444444444, \"#bd3786\"], [0.5555555555555556, \"#d8576b\"], [0.6666666666666666, \"#ed7953\"], [0.7777777777777778, \"#fb9f3a\"], [0.8888888888888888, \"#fdca26\"], [1.0, \"#f0f921\"]], \"type\": \"histogram2d\"}], \"histogram2dcontour\": [{\"colorbar\": {\"outlinewidth\": 0, \"ticks\": \"\"}, \"colorscale\": [[0.0, \"#0d0887\"], [0.1111111111111111, \"#46039f\"], [0.2222222222222222, \"#7201a8\"], [0.3333333333333333, \"#9c179e\"], [0.4444444444444444, \"#bd3786\"], [0.5555555555555556, \"#d8576b\"], [0.6666666666666666, \"#ed7953\"], [0.7777777777777778, \"#fb9f3a\"], [0.8888888888888888, \"#fdca26\"], [1.0, \"#f0f921\"]], \"type\": \"histogram2dcontour\"}], \"mesh3d\": [{\"colorbar\": {\"outlinewidth\": 0, \"ticks\": \"\"}, \"type\": \"mesh3d\"}], \"parcoords\": [{\"line\": {\"colorbar\": {\"outlinewidth\": 0, \"ticks\": \"\"}}, \"type\": \"parcoords\"}], \"scatter\": [{\"marker\": {\"colorbar\": {\"outlinewidth\": 0, \"ticks\": \"\"}}, \"type\": \"scatter\"}], \"scatter3d\": [{\"line\": {\"colorbar\": {\"outlinewidth\": 0, \"ticks\": \"\"}}, \"marker\": {\"colorbar\": {\"outlinewidth\": 0, \"ticks\": \"\"}}, \"type\": \"scatter3d\"}], \"scattercarpet\": [{\"marker\": {\"colorbar\": {\"outlinewidth\": 0, \"ticks\": \"\"}}, \"type\": \"scattercarpet\"}], \"scattergeo\": [{\"marker\": {\"colorbar\": {\"outlinewidth\": 0, \"ticks\": \"\"}}, \"type\": \"scattergeo\"}], \"scattergl\": [{\"marker\": {\"colorbar\": {\"outlinewidth\": 0, \"ticks\": \"\"}}, \"type\": \"scattergl\"}], \"scattermapbox\": [{\"marker\": {\"colorbar\": {\"outlinewidth\": 0, \"ticks\": \"\"}}, \"type\": \"scattermapbox\"}], \"scatterpolar\": [{\"marker\": {\"colorbar\": {\"outlinewidth\": 0, \"ticks\": \"\"}}, \"type\": \"scatterpolar\"}], \"scatterpolargl\": [{\"marker\": {\"colorbar\": {\"outlinewidth\": 0, \"ticks\": \"\"}}, \"type\": \"scatterpolargl\"}], \"scatterternary\": [{\"marker\": {\"colorbar\": {\"outlinewidth\": 0, \"ticks\": \"\"}}, \"type\": \"scatterternary\"}], \"surface\": [{\"colorbar\": {\"outlinewidth\": 0, \"ticks\": \"\"}, \"colorscale\": [[0.0, \"#0d0887\"], [0.1111111111111111, \"#46039f\"], [0.2222222222222222, \"#7201a8\"], [0.3333333333333333, \"#9c179e\"], [0.4444444444444444, \"#bd3786\"], [0.5555555555555556, \"#d8576b\"], [0.6666666666666666, \"#ed7953\"], [0.7777777777777778, \"#fb9f3a\"], [0.8888888888888888, \"#fdca26\"], [1.0, \"#f0f921\"]], \"type\": \"surface\"}], \"table\": [{\"cells\": {\"fill\": {\"color\": \"#EBF0F8\"}, \"line\": {\"color\": \"white\"}}, \"header\": {\"fill\": {\"color\": \"#C8D4E3\"}, \"line\": {\"color\": \"white\"}}, \"type\": \"table\"}]}, \"layout\": {\"annotationdefaults\": {\"arrowcolor\": \"#2a3f5f\", \"arrowhead\": 0, \"arrowwidth\": 1}, \"colorscale\": {\"diverging\": [[0, \"#8e0152\"], [0.1, \"#c51b7d\"], [0.2, \"#de77ae\"], [0.3, \"#f1b6da\"], [0.4, \"#fde0ef\"], [0.5, \"#f7f7f7\"], [0.6, \"#e6f5d0\"], [0.7, \"#b8e186\"], [0.8, \"#7fbc41\"], [0.9, \"#4d9221\"], [1, \"#276419\"]], \"sequential\": [[0.0, \"#0d0887\"], [0.1111111111111111, \"#46039f\"], [0.2222222222222222, \"#7201a8\"], [0.3333333333333333, \"#9c179e\"], [0.4444444444444444, \"#bd3786\"], [0.5555555555555556, \"#d8576b\"], [0.6666666666666666, \"#ed7953\"], [0.7777777777777778, \"#fb9f3a\"], [0.8888888888888888, \"#fdca26\"], [1.0, \"#f0f921\"]], \"sequentialminus\": [[0.0, \"#0d0887\"], [0.1111111111111111, \"#46039f\"], [0.2222222222222222, \"#7201a8\"], [0.3333333333333333, \"#9c179e\"], [0.4444444444444444, \"#bd3786\"], [0.5555555555555556, \"#d8576b\"], [0.6666666666666666, \"#ed7953\"], [0.7777777777777778, \"#fb9f3a\"], [0.8888888888888888, \"#fdca26\"], [1.0, \"#f0f921\"]]}, \"colorway\": [\"#636efa\", \"#EF553B\", \"#00cc96\", \"#ab63fa\", \"#FFA15A\", \"#19d3f3\", \"#FF6692\", \"#B6E880\", \"#FF97FF\", \"#FECB52\"], \"font\": {\"color\": \"#2a3f5f\"}, \"geo\": {\"bgcolor\": \"white\", \"lakecolor\": \"white\", \"landcolor\": \"#E5ECF6\", \"showlakes\": true, \"showland\": true, \"subunitcolor\": \"white\"}, \"hoverlabel\": {\"align\": \"left\"}, \"hovermode\": \"closest\", \"mapbox\": {\"style\": \"light\"}, \"paper_bgcolor\": \"white\", \"plot_bgcolor\": \"#E5ECF6\", \"polar\": {\"angularaxis\": {\"gridcolor\": \"white\", \"linecolor\": \"white\", \"ticks\": \"\"}, \"bgcolor\": \"#E5ECF6\", \"radialaxis\": {\"gridcolor\": \"white\", \"linecolor\": \"white\", \"ticks\": \"\"}}, \"scene\": {\"xaxis\": {\"backgroundcolor\": \"#E5ECF6\", \"gridcolor\": \"white\", \"gridwidth\": 2, \"linecolor\": \"white\", \"showbackground\": true, \"ticks\": \"\", \"zerolinecolor\": \"white\"}, \"yaxis\": {\"backgroundcolor\": \"#E5ECF6\", \"gridcolor\": \"white\", \"gridwidth\": 2, \"linecolor\": \"white\", \"showbackground\": true, \"ticks\": \"\", \"zerolinecolor\": \"white\"}, \"zaxis\": {\"backgroundcolor\": \"#E5ECF6\", \"gridcolor\": \"white\", \"gridwidth\": 2, \"linecolor\": \"white\", \"showbackground\": true, \"ticks\": \"\", \"zerolinecolor\": \"white\"}}, \"shapedefaults\": {\"line\": {\"color\": \"#2a3f5f\"}}, \"ternary\": {\"aaxis\": {\"gridcolor\": \"white\", \"linecolor\": \"white\", \"ticks\": \"\"}, \"baxis\": {\"gridcolor\": \"white\", \"linecolor\": \"white\", \"ticks\": \"\"}, \"bgcolor\": \"#E5ECF6\", \"caxis\": {\"gridcolor\": \"white\", \"linecolor\": \"white\", \"ticks\": \"\"}}, \"title\": {\"x\": 0.05}, \"xaxis\": {\"automargin\": true, \"gridcolor\": \"white\", \"linecolor\": \"white\", \"ticks\": \"\", \"zerolinecolor\": \"white\", \"zerolinewidth\": 2}, \"yaxis\": {\"automargin\": true, \"gridcolor\": \"white\", \"linecolor\": \"white\", \"ticks\": \"\", \"zerolinecolor\": \"white\", \"zerolinewidth\": 2}}}},\n",
       "                        {\"responsive\": true}\n",
       "                    ).then(function(){\n",
       "                            \n",
       "var gd = document.getElementById('edd9d35b-d4c1-40f7-9c29-d63bd38d3e92');\n",
       "var x = new MutationObserver(function (mutations, observer) {{\n",
       "        var display = window.getComputedStyle(gd).display;\n",
       "        if (!display || display === 'none') {{\n",
       "            console.log([gd, 'removed!']);\n",
       "            Plotly.purge(gd);\n",
       "            observer.disconnect();\n",
       "        }}\n",
       "}});\n",
       "\n",
       "// Listen for the removal of the full notebook cells\n",
       "var notebookContainer = gd.closest('#notebook-container');\n",
       "if (notebookContainer) {{\n",
       "    x.observe(notebookContainer, {childList: true});\n",
       "}}\n",
       "\n",
       "// Listen for the clearing of the current output cell\n",
       "var outputEl = gd.closest('.output');\n",
       "if (outputEl) {{\n",
       "    x.observe(outputEl, {childList: true});\n",
       "}}\n",
       "\n",
       "                        })\n",
       "                };\n",
       "                });\n",
       "            </script>\n",
       "        </div>"
      ]
     },
     "metadata": {},
     "output_type": "display_data"
    }
   ],
   "source": [
    "# If run in JupyterLab (as opposed to Jupyter Notebook), check settings > Enable Extensions Manager\n",
    "\n",
    "import plotly.graph_objects as go\n",
    "import numpy as np\n",
    "\n",
    "data_x = np.random.random(100) * 10\n",
    "data_y = np.random.random(100) * 10\n",
    "data_z = np.random.random(100) * 10\n",
    "\n",
    "fig = go.Figure()\n",
    "\n",
    "# A trace is an individual graph. Multiple traces can be\n",
    "# displayed on a single figure.\n",
    "trace = go.Scatter3d(\n",
    "    x = data_x,\n",
    "    y = data_y,\n",
    "    z = data_z,\n",
    "    mode = 'markers',\n",
    "    marker = dict(\n",
    "        color = data_z,   # Encode z as a colorbar\n",
    "    )\n",
    ")\n",
    "\n",
    "fig.add_trace(trace)\n",
    "fig.show()\n"
   ]
  },
  {
   "cell_type": "markdown",
   "metadata": {},
   "source": [
    "## 6. Extra\n",
    "\n",
    "This section is entirely optional. It shows some more advanced, but only sometimes used features of Python. I recommend you skim through it, such that you are at least familiar with the concepts. If the need for them arises, you'll know of their existence."
   ]
  },
  {
   "cell_type": "markdown",
   "metadata": {},
   "source": [
    "### 6.1. Other Data Structures\n",
    "\n",
    "Some other data structures are:\n",
    "- `tuple` : ordered, unchangeable collection.\n",
    "- `dict` : a dictionary, mapping keys to values. It has very efficient data access.\n",
    "- `set` : a set, like the mathematical definition: no repeating values.\n",
    "- `None` : a special value that signifies an undefined or unset variable. Can be used as a default function parameter.\n",
    "\n",
    "Each of them defines some special operations:"
   ]
  },
  {
   "cell_type": "code",
   "execution_count": 66,
   "metadata": {},
   "outputs": [
    {
     "name": "stdout",
     "output_type": "stream",
     "text": [
      "Tuple x:  ('Sam', 3)\n",
      "\n",
      "Dict y:  {'sam': 5, 'john': 18}\n",
      "Dict z:  {'sam': 5, 'john': 18}\n",
      "Key 'sam' in dict y:  True\n",
      "Key 'peter' in dict y:  False\n",
      "\n",
      "Set 't':  {1, 2, 3}\n",
      "Element 1 in set t:  True\n",
      "Element 5 in set t:  False\n"
     ]
    }
   ],
   "source": [
    "# Tuple:\n",
    "x = (\"Sam\", 3)\n",
    "print('Tuple x: ', x)\n",
    "\n",
    "# Dictionaries can be defined in two ways.\n",
    "y = dict(sam = 5, john = 18)\n",
    "z = {'sam': 5, 'john': 18}\n",
    "print('\\nDict y: ', y)\n",
    "print('Dict z: ', z)\n",
    "\n",
    "# Dictionaries have a special operation to check the existence of a key:\n",
    "print(\"Key 'sam' in dict y: \", ('sam' in y))\n",
    "print(\"Key 'peter' in dict y: \", ('peter' in y))\n",
    "\n",
    "# Sets\n",
    "t = {1, 2, 3, 1, 1}    # repeated entries are ignored\n",
    "print(\"\\nSet 't': \", t)\n",
    "\n",
    "# The existence of an element in a set is checked with 'in', again:\n",
    "print(\"Element 1 in set t: \", (1 in t))\n",
    "print(\"Element 5 in set t: \", (5 in t))"
   ]
  },
  {
   "cell_type": "code",
   "execution_count": 67,
   "metadata": {},
   "outputs": [
    {
     "name": "stdout",
     "output_type": "stream",
     "text": [
      "Database is unset!\n",
      "Database is  test\n"
     ]
    }
   ],
   "source": [
    "# Using None as default function parameter:\n",
    "def database_query(query, database = None):\n",
    "    # Use 'is' for checking specifically for None,\n",
    "    # rather than False\n",
    "    if database is None:\n",
    "        print(\"Database is unset!\")\n",
    "        return\n",
    "    if database is not None:\n",
    "        print(\"Database is \", (database))\n",
    "        query\n",
    "        \n",
    "database_query(\"select\")\n",
    "database_query(\"select\", database = \"test\")"
   ]
  },
  {
   "cell_type": "markdown",
   "metadata": {},
   "source": [
    "### 6.2. Documentation\n",
    "\n",
    "The documentation of a function / class / module can be accessed in a couple of ways:"
   ]
  },
  {
   "cell_type": "code",
   "execution_count": 68,
   "metadata": {},
   "outputs": [
    {
     "data": {
      "text/plain": [
       "\u001b[1;31mSignature:\u001b[0m  \u001b[0mnp\u001b[0m\u001b[1;33m.\u001b[0m\u001b[0mlinalg\u001b[0m\u001b[1;33m.\u001b[0m\u001b[0minv\u001b[0m\u001b[1;33m(\u001b[0m\u001b[0ma\u001b[0m\u001b[1;33m)\u001b[0m\u001b[1;33m\u001b[0m\u001b[1;33m\u001b[0m\u001b[0m\n",
       "\u001b[1;31mDocstring:\u001b[0m\n",
       "Compute the (multiplicative) inverse of a matrix.\n",
       "\n",
       "Given a square matrix `a`, return the matrix `ainv` satisfying\n",
       "``dot(a, ainv) = dot(ainv, a) = eye(a.shape[0])``.\n",
       "\n",
       "Parameters\n",
       "----------\n",
       "a : (..., M, M) array_like\n",
       "    Matrix to be inverted.\n",
       "\n",
       "Returns\n",
       "-------\n",
       "ainv : (..., M, M) ndarray or matrix\n",
       "    (Multiplicative) inverse of the matrix `a`.\n",
       "\n",
       "Raises\n",
       "------\n",
       "LinAlgError\n",
       "    If `a` is not square or inversion fails.\n",
       "\n",
       "Notes\n",
       "-----\n",
       "\n",
       ".. versionadded:: 1.8.0\n",
       "\n",
       "Broadcasting rules apply, see the `numpy.linalg` documentation for\n",
       "details.\n",
       "\n",
       "Examples\n",
       "--------\n",
       ">>> from numpy.linalg import inv\n",
       ">>> a = np.array([[1., 2.], [3., 4.]])\n",
       ">>> ainv = inv(a)\n",
       ">>> np.allclose(np.dot(a, ainv), np.eye(2))\n",
       "True\n",
       ">>> np.allclose(np.dot(ainv, a), np.eye(2))\n",
       "True\n",
       "\n",
       "If a is a matrix object, then the return value is a matrix as well:\n",
       "\n",
       ">>> ainv = inv(np.matrix(a))\n",
       ">>> ainv\n",
       "matrix([[-2. ,  1. ],\n",
       "        [ 1.5, -0.5]])\n",
       "\n",
       "Inverses of several matrices can be computed at once:\n",
       "\n",
       ">>> a = np.array([[[1., 2.], [3., 4.]], [[1, 3], [3, 5]]])\n",
       ">>> inv(a)\n",
       "array([[[-2. ,  1. ],\n",
       "        [ 1.5, -0.5]],\n",
       "       [[-5. ,  2. ],\n",
       "        [ 3. , -1. ]]])\n",
       "\u001b[1;31mFile:\u001b[0m      c:\\programdata\\anaconda3\\lib\\site-packages\\numpy\\linalg\\linalg.py\n",
       "\u001b[1;31mType:\u001b[0m      function\n"
      ]
     },
     "metadata": {},
     "output_type": "display_data"
    }
   ],
   "source": [
    "import numpy as np\n",
    "\n",
    "# Short documentation:\n",
    "? np.linalg.inv\n",
    "\n",
    "# Long documentation:\n",
    "#?? np.linalg.inv\n",
    "\n",
    "# Using the __doc__ method\n",
    "#print(np.linalg.inv.__doc__)"
   ]
  },
  {
   "cell_type": "markdown",
   "metadata": {},
   "source": [
    "You can easily document your own code, and Python will automatically generate the documentation strings:"
   ]
  },
  {
   "cell_type": "code",
   "execution_count": 69,
   "metadata": {},
   "outputs": [
    {
     "data": {
      "text/plain": [
       "\u001b[1;31mSignature:\u001b[0m  \u001b[0mdoc_test\u001b[0m\u001b[1;33m(\u001b[0m\u001b[0mx\u001b[0m\u001b[1;33m)\u001b[0m\u001b[1;33m\u001b[0m\u001b[1;33m\u001b[0m\u001b[0m\n",
       "\u001b[1;31mDocstring:\u001b[0m\n",
       "The first line is the short documentation. This is a quick description of the function.\n",
       "\n",
       "This string is only shown when adding one question mark in front of the function. The\n",
       "implementation below is only shown when adding two question marks.\n",
       "\u001b[1;31mFile:\u001b[0m      c:\\users\\andreinicusan\\python\\<ipython-input-69-e281398c204b>\n",
       "\u001b[1;31mType:\u001b[0m      function\n"
      ]
     },
     "metadata": {},
     "output_type": "display_data"
    }
   ],
   "source": [
    "# Show how documentation works. Triple quotes are comments that\n",
    "# span multiple lines.\n",
    "\n",
    "def doc_test(x):\n",
    "    '''The first line is the short documentation. This is a quick description of the function.\n",
    "    \n",
    "    This string is only shown when adding one question mark in front of the function. The\n",
    "    implementation below is only shown when adding two question marks.\n",
    "    '''\n",
    "    \n",
    "    print(\"This is the actual implementation of the function, only shown with ??.\")\n",
    "    \n",
    "# Only check one at a time:\n",
    "? doc_test\n",
    "#?? doc_test"
   ]
  },
  {
   "cell_type": "markdown",
   "metadata": {},
   "source": [
    "### 6.3. Python Virtual Environments\n",
    "\n",
    "Once you start building larger applications, it is important to have a reliable programming environment. What happens if:\n",
    "- Your app only works on one version of the Python interpreter.\n",
    "- Your app only works with older versions of some modules.\n",
    "\n",
    "The set of Python and modules' versions forms a \"Virtual Environment\". You can 'freeze' the state of your Virtual Environment and know that what you are developing surely works on those versions.\n",
    "\n",
    "This is the main idea. There are quite a few ways of managing multiple virtual environments. I will let you read about them once their need arises."
   ]
  },
  {
   "cell_type": "markdown",
   "metadata": {},
   "source": [
    "## 7. Usual how-to\n",
    "\n",
    "This is the final chapter of this tutorial, congratulations!\n",
    "\n",
    "I will show you the 'easy' (or 'right', following Python's philosophy) way of doing a few usual tasks. This should save you a few trips to StackOverflow and NumPy's documentation.\n"
   ]
  },
  {
   "cell_type": "markdown",
   "metadata": {},
   "source": [
    "### 7.1. Formatting Strings\n",
    "\n",
    "We frequently need to output data in a nice format. Thankfully, Python has some nice ways of printing stuff:"
   ]
  },
  {
   "cell_type": "code",
   "execution_count": 70,
   "metadata": {},
   "outputs": [
    {
     "name": "stdout",
     "output_type": "stream",
     "text": [
      "Number:  12 \n",
      "List:  [1, 2, 3] \n",
      "Vector:  [1 2 3] \n",
      "\n",
      "Number: 12\n",
      "List: [1, 2, 3]\n",
      "Vector: [1 2 3]\n"
     ]
    }
   ],
   "source": [
    "# Format strings to output data nicely:\n",
    "import numpy as np\n",
    "\n",
    "num = 12\n",
    "lst = [1, 2, 3]\n",
    "vec = np.array(lst)\n",
    "\n",
    "# Supply multiple arguments to print:\n",
    "print(\"Number: \", num, \"\\nList: \", lst, \"\\nVector: \", vec, \"\\n\")\n",
    "\n",
    "# Use the format identifier. Add curly braces {} inside a string,\n",
    "# then supply the variables to format:\n",
    "print(\"Number: {}\\nList: {}\\nVector: {}\".format(num, lst, vec))\n"
   ]
  },
  {
   "cell_type": "markdown",
   "metadata": {},
   "source": [
    "### 7.2. Iteration + List Comprehensions\n",
    "\n",
    "If you start using C++-style for/while loops, stop and think if there isn't a more concise (i.e. better) way of doing what you want. Python has some nice features for different types of iteration:"
   ]
  },
  {
   "cell_type": "code",
   "execution_count": 71,
   "metadata": {},
   "outputs": [
    {
     "name": "stdout",
     "output_type": "stream",
     "text": [
      "Looped using range: x = 5\n",
      "\n",
      "At index 0, we have apple\n",
      "At index 1, we have pears\n",
      "At index 2, we have oranges\n",
      "\n"
     ]
    }
   ],
   "source": [
    "# Iterate using an index range:\n",
    "x = 0\n",
    "for i in range(5):\n",
    "    x += 1\n",
    "    \n",
    "print(\"Looped using range: x = {}\\n\".format(x))\n",
    "\n",
    "# Iterate through the elements of a list, while also\n",
    "# having the index:\n",
    "data = [\"apple\", \"pears\", \"oranges\"]\n",
    "for index, elem in enumerate(data):\n",
    "    print(\"At index {}, we have {}\".format(index, elem))\n",
    "print() # For the newline"
   ]
  },
  {
   "cell_type": "markdown",
   "metadata": {},
   "source": [
    "List comprehensions provide a concise and powerful way of generating or accessing iterable data.\n",
    "\n",
    "The main syntax is:\n",
    "\n",
    "```python\n",
    "[ expression for element in iterable if condition ]\n",
    "```"
   ]
  },
  {
   "cell_type": "code",
   "execution_count": 72,
   "metadata": {},
   "outputs": [
    {
     "name": "stdout",
     "output_type": "stream",
     "text": [
      "['The', 'world', 'is', 'definitely', 'not', 'deterministic']\n",
      "['world', 'definitely', 'deterministic']\n",
      "[0, 1, 4, 9]\n"
     ]
    }
   ],
   "source": [
    "# For-comprehensions are powerful ways of accessing data\n",
    "data = \"The world is definitely not deterministic\".split()\n",
    "print(data)\n",
    "\n",
    "# Collect words whose length is > 4\n",
    "new_data = [elem for elem in data if len(elem) > 4]\n",
    "print(new_data)\n",
    "\n",
    "# You can also use list comprehensions to generate data\n",
    "squares = [x ** 2 for x in range(4)]\n",
    "print(squares)"
   ]
  },
  {
   "cell_type": "code",
   "execution_count": 73,
   "metadata": {},
   "outputs": [
    {
     "name": "stdout",
     "output_type": "stream",
     "text": [
      "[array([[0, 1, 2, 3, 4],\n",
      "       [5, 6, 7, 8, 9]]), array([[0, 1, 2, 3, 4],\n",
      "       [5, 6, 7, 8, 9]]), array([[0, 1, 2, 3, 4],\n",
      "       [5, 6, 7, 8, 9]]), array([[0, 1, 2, 3, 4],\n",
      "       [5, 6, 7, 8, 9]])]\n",
      "[[5 6 7 8 9]\n",
      " [5 6 7 8 9]\n",
      " [5 6 7 8 9]\n",
      " [5 6 7 8 9]]\n"
     ]
    }
   ],
   "source": [
    "# List comprehensions are great for concise data extraction:\n",
    "# Generate a list of arrays:\n",
    "import numpy as np\n",
    "\n",
    "data = [np.arange(10).reshape(2, 5)] * 4\n",
    "print(data)\n",
    "\n",
    "# Extract the second row of every array\n",
    "# and create a new NumPy array\n",
    "rows = np.array( [arr[1] for arr in data] )\n",
    "print(rows)"
   ]
  },
  {
   "cell_type": "markdown",
   "metadata": {},
   "source": [
    "### 7.3. Dynamic Array Creation\n",
    "\n",
    "We frequently need to create arrays dynamically, without knowing how much there will be (e.g. reading lines from a file). Python `list`s  have variable size, but are not great for maths, while NumPy `array`s are very powerful but are not resizable. How can we achieve the best of both worlds? Combining them, of course:"
   ]
  },
  {
   "cell_type": "code",
   "execution_count": 74,
   "metadata": {},
   "outputs": [
    {
     "name": "stdout",
     "output_type": "stream",
     "text": [
      "[array([0., 0., 0., 0., 0.]), array([1., 1., 1., 1., 1.]), array([2., 2., 2., 2., 2.]), array([3., 3., 3., 3., 3.]), array([4., 4., 4., 4., 4.])]\n",
      "[[0. 0. 0. 0. 0.]\n",
      " [1. 1. 1. 1. 1.]\n",
      " [2. 2. 2. 2. 2.]\n",
      " [3. 3. 3. 3. 3.]\n",
      " [4. 4. 4. 4. 4.]]\n"
     ]
    }
   ],
   "source": [
    "# First append stuff to a dynamic list\n",
    "import numpy as np\n",
    "\n",
    "\n",
    "data = []\n",
    "# Random number of iterations:\n",
    "for i in range(int(2 + 10 * np.random.random())):\n",
    "    data.append(np.ones(5) * i)\n",
    "\n",
    "print(data) # list of 1D arrays\n",
    "# After reading stuff into a list, transform it into a numpy array\n",
    "data = np.array(data)\n",
    "\n",
    "print(data) # 2D array\n"
   ]
  },
  {
   "cell_type": "markdown",
   "metadata": {},
   "source": [
    "### 7.4. Saving and Loading Data\n",
    "\n",
    "We frequently need to load data from a file, do something to it, then save it somewhere else. In engineering, we most often handle big piles of numerical data that is usually saved as in a CSV (comma-separated-values) format. Again, Python has a few tricks up its sleeve.\n",
    "\n",
    "Reading or writing files line by line is laborious and oftentimes slow. NumPy has some optimised functions for this:"
   ]
  },
  {
   "cell_type": "code",
   "execution_count": 75,
   "metadata": {},
   "outputs": [
    {
     "name": "stdout",
     "output_type": "stream",
     "text": [
      "Generated data: \n",
      " [[2.71049104 6.3367893  4.36217195 4.7815844  1.85593233]\n",
      " [4.17322142 8.76640863 0.73038891 8.64451825 5.68126144]\n",
      " [6.86910278 2.37510954 7.76814919 7.50355948 5.54861531]\n",
      " [5.66206815 7.08853646 0.22717545 8.40435694 8.51447847]\n",
      " [3.88277707 6.8403091  0.09159559 6.46554123 1.48512294]\n",
      " [1.70500375 5.22460072 4.04647353 4.73514738 3.00945845]\n",
      " [2.24412051 6.19929258 1.5546722  2.7512191  8.14066144]\n",
      " [8.60311202 1.67685698 3.64739168 6.56183256 4.09570612]\n",
      " [2.64212331 8.05196694 5.43681597 2.00803021 3.016985  ]\n",
      " [1.51609635 1.34269474 3.58943119 1.57664596 6.25381503]]\n",
      "\n",
      "Loaded data: \n",
      " [[6.86910278 2.37510954 7.76814919 7.50355948 5.54861531]\n",
      " [5.66206815 7.08853646 0.22717545 8.40435694 8.51447847]\n",
      " [3.88277707 6.8403091  0.09159559 6.46554123 1.48512294]]\n"
     ]
    }
   ],
   "source": [
    "import numpy as np\n",
    "\n",
    "# Generate some random data\n",
    "data = np.random.random( (10, 5) ) * 10\n",
    "print(\"Generated data: \\n\", data)\n",
    "\n",
    "# Save the data as .csv using savetxt\n",
    "filepath = \"pretty_data.csv\"\n",
    "np.savetxt(filepath, data)\n",
    "\n",
    "# We can afterwards load the data, with a few options\n",
    "loaded_data = np.loadtxt(filepath, skiprows = 2, max_rows = 3)\n",
    "print(\"\\nLoaded data: \\n\", loaded_data)"
   ]
  },
  {
   "cell_type": "markdown",
   "metadata": {},
   "source": [
    "Sometimes the input file has an ugly format (e.g. variable number of columns) and the NumPy `loadtxt` function cannot be used. This can happen with underdeveloped simulation packages, for example. \n",
    "\n",
    "In these cases, the best approach is to create a parser Python function, which reads the data line by line, formats it nicely into a NumPy array, then saves it using `savetxt`. The initial step is slow, but following iterations can just use the quick `loadtxt` function."
   ]
  },
  {
   "cell_type": "code",
   "execution_count": 76,
   "metadata": {},
   "outputs": [
    {
     "name": "stdout",
     "output_type": "stream",
     "text": [
      "0, 1, 2, 3, 4\n",
      "0, 1, \"hello\",\n",
      "2, 3, \"bad\",\n",
      "5, 6, \"data\"\n"
     ]
    }
   ],
   "source": [
    "# This is an example of a badly-formatted csv file:\n",
    "!type ugly_data.csv"
   ]
  },
  {
   "cell_type": "code",
   "execution_count": 77,
   "metadata": {},
   "outputs": [
    {
     "name": "stdout",
     "output_type": "stream",
     "text": [
      "line[0] = ['0', ' 1', ' 2', ' 3', ' 4']\n",
      "line[1] = ['0', ' 1', ' \"hello\"', '']\n",
      "line[2] = ['2', ' 3', ' \"bad\"', '']\n",
      "line[3] = ['5', ' 6', ' \"data\"']\n",
      "\n",
      "Nice data: \n",
      " [[0. 1.]\n",
      " [0. 1.]\n",
      " [2. 3.]\n",
      " [5. 6.]]\n"
     ]
    }
   ],
   "source": [
    "# Read in ugly data, then put it into a numpy array, then save it\n",
    "import csv\n",
    "import numpy as np\n",
    "\n",
    "nice_data = []\n",
    "with open(\"ugly_data.csv\", \"r\") as f:\n",
    "    reader = csv.reader(f, delimiter=\",\")\n",
    "    for i, line in enumerate(reader):\n",
    "        print( 'line[{}] = {}'.format(i, line) )\n",
    "        nice_data.append(np.array(line[0:2], dtype = float))\n",
    "        \n",
    "nice_data = np.array(nice_data)\n",
    "print(\"\\nNice data: \\n\", nice_data)\n",
    "\n",
    "np.savetxt(\"nice_data.csv\", nice_data)"
   ]
  },
  {
   "cell_type": "markdown",
   "metadata": {},
   "source": [
    "### 7.5. Sorting\n",
    "\n",
    "Sorting data is terribly common. NumPy has one of the best sorting functions available, called TimSort (read about it, it's great).\n",
    "A common circumstance is when we want to sort the rows of an array based on one of the columns (e.g. time from a simulation)."
   ]
  },
  {
   "cell_type": "code",
   "execution_count": 78,
   "metadata": {},
   "outputs": [
    {
     "name": "stdout",
     "output_type": "stream",
     "text": [
      "Vector of random values between 0 and 10: \n",
      " [5.19037483 4.20096949 3.17088224 5.44006199 5.63871278 5.76790854\n",
      " 0.21940061 2.53994284 9.29475925 4.92069733]\n",
      "Sorted: \n",
      " [0.21940061 2.53994284 3.17088224 4.20096949 4.92069733 5.19037483\n",
      " 5.44006199 5.63871278 5.76790854 9.29475925]\n",
      "\n",
      "Array of random values between 0 and 10: \n",
      " [[2.71049104 6.3367893  4.36217195 4.7815844  1.85593233]\n",
      " [4.17322142 8.76640863 0.73038891 8.64451825 5.68126144]\n",
      " [6.86910278 2.37510954 7.76814919 7.50355948 5.54861531]\n",
      " [5.66206815 7.08853646 0.22717545 8.40435694 8.51447847]\n",
      " [3.88277707 6.8403091  0.09159559 6.46554123 1.48512294]\n",
      " [1.70500375 5.22460072 4.04647353 4.73514738 3.00945845]\n",
      " [2.24412051 6.19929258 1.5546722  2.7512191  8.14066144]\n",
      " [8.60311202 1.67685698 3.64739168 6.56183256 4.09570612]\n",
      " [2.64212331 8.05196694 5.43681597 2.00803021 3.016985  ]\n",
      " [1.51609635 1.34269474 3.58943119 1.57664596 6.25381503]]\n",
      "\n",
      "NumPy arrays have the .argsort function. We can use it on, say, column 3: \n",
      " [4 3 1 6 9 7 5 0 8 2]\n",
      "Those are the indices that the elements should have such that the vector would be sorted.\n",
      "\n",
      "Using argsort and logical indexing, we can sort an array based on, say, column 3: \n",
      " [[3.88277707 6.8403091  0.09159559 6.46554123 1.48512294]\n",
      " [5.66206815 7.08853646 0.22717545 8.40435694 8.51447847]\n",
      " [4.17322142 8.76640863 0.73038891 8.64451825 5.68126144]\n",
      " [2.24412051 6.19929258 1.5546722  2.7512191  8.14066144]\n",
      " [1.51609635 1.34269474 3.58943119 1.57664596 6.25381503]\n",
      " [8.60311202 1.67685698 3.64739168 6.56183256 4.09570612]\n",
      " [1.70500375 5.22460072 4.04647353 4.73514738 3.00945845]\n",
      " [2.71049104 6.3367893  4.36217195 4.7815844  1.85593233]\n",
      " [2.64212331 8.05196694 5.43681597 2.00803021 3.016985  ]\n",
      " [6.86910278 2.37510954 7.76814919 7.50355948 5.54861531]]\n"
     ]
    }
   ],
   "source": [
    "# Some typical sorting\n",
    "import numpy as np\n",
    "\n",
    "vec = np.random.random(10) * 10\n",
    "print(\"Vector of random values between 0 and 10: \\n\", vec)\n",
    "print(\"Sorted: \\n\", np.sort(vec))\n",
    "\n",
    "\n",
    "arr = np.random.random((7, 5)) * 10\n",
    "print(\"\\nArray of random values between 0 and 10: \\n\", data)\n",
    "\n",
    "print(\"\\nNumPy arrays have the .argsort function. We can use it on, say, column 3: \\n\", data[:, 2].argsort())\n",
    "print(\"Those are the indices that the elements should have such that the vector would be sorted.\")\n",
    "\n",
    "print(\"\\nUsing argsort and logical indexing, we can sort an array based on, say, column 3: \\n\", data[ data[:, 2].argsort() ])"
   ]
  },
  {
   "cell_type": "code",
   "execution_count": null,
   "metadata": {},
   "outputs": [],
   "source": []
  }
 ],
 "metadata": {
  "kernelspec": {
   "display_name": "Python 3",
   "language": "python",
   "name": "python3"
  },
  "language_info": {
   "codemirror_mode": {
    "name": "ipython",
    "version": 3
   },
   "file_extension": ".py",
   "mimetype": "text/x-python",
   "name": "python",
   "nbconvert_exporter": "python",
   "pygments_lexer": "ipython3",
   "version": "3.7.3"
  }
 },
 "nbformat": 4,
 "nbformat_minor": 4
}
