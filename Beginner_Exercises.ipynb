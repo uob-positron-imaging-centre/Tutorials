{
  "nbformat": 4,
  "nbformat_minor": 0,
  "metadata": {
    "kernelspec": {
      "display_name": "Python 3",
      "language": "python",
      "name": "python3"
    },
    "language_info": {
      "codemirror_mode": {
        "name": "ipython",
        "version": 3
      },
      "file_extension": ".py",
      "mimetype": "text/x-python",
      "name": "python",
      "nbconvert_exporter": "python",
      "pygments_lexer": "ipython3",
      "version": "3.7.6"
    },
    "colab": {
      "name": "Beginner_Exercises.ipynb",
      "provenance": [],
      "include_colab_link": true
    }
  },
  "cells": [
    {
      "cell_type": "markdown",
      "metadata": {
        "id": "view-in-github",
        "colab_type": "text"
      },
      "source": [
        "<a href=\"https://colab.research.google.com/github/uob-positron-imaging-centre/tutorials/blob/master/Beginner_Exercises.ipynb\" target=\"_parent\"><img src=\"https://colab.research.google.com/assets/colab-badge.svg\" alt=\"Open In Colab\"/></a>"
      ]
    },
    {
      "cell_type": "markdown",
      "metadata": {
        "id": "s-Baq3XsBJS3"
      },
      "source": [
        "<a target=\"_blank\"  href=\"https://www.birmingham.ac.uk/schools/chemical-engineering/index.aspx\"><img src=\"https://intranet.birmingham.ac.uk/staff/images/brand/download/jpg/crested-wm-full-colour.jpg\" style=\"height:200px; display: block; margin-left: auto; margin-right: auto;\"/></a>\n",
        "\n",
        "# Beginner Python Exercises\n",
        "## Labs and Data Analysis 1 - Seminar Session 2\n",
        "\n",
        "### For engineers and other people who just want a computer to do their work.\n",
        "\n",
        "---\n",
        "\n",
        "#### Copyright 2020 The University of Birmingham, School of Chemical Engineering.\n",
        "##### Authored by Andrei Leonard Nicusan with help from Dr. Kit Windows-Yule, Matthew Herald and Dominik Werner.\n",
        "\n",
        "Licensed under the GNU License, Version 3.0 (the \"License\")."
      ]
    },
    {
      "cell_type": "markdown",
      "metadata": {
        "id": "b83_L6OeBJS4"
      },
      "source": [
        "# 1. Predicting Code Outputs\n",
        "\n",
        "The next cells contain code that you can *execute* (or *run*).\n",
        "Before executing a code cell:\n",
        "\n",
        "1. Read its code and try to understand it\n",
        "2. **Mentally predict what it will output**\n",
        "3. Run it and check your prediction\n",
        "\n",
        "Was your prediction correct? If not, why?\n",
        "I *really* recommend changing the code, playing with variables and seeing how your output changes."
      ]
    },
    {
      "cell_type": "markdown",
      "metadata": {
        "id": "a0E1k-f1BJS5"
      },
      "source": [
        "## 1.1. Variables and Printing"
      ]
    },
    {
      "cell_type": "code",
      "metadata": {
        "id": "ELnxQcAWBJS6"
      },
      "source": [
        "print(\"Hello world!\", \"Hello you!\")"
      ],
      "execution_count": null,
      "outputs": []
    },
    {
      "cell_type": "code",
      "metadata": {
        "id": "-NpEfe-OBJS-"
      },
      "source": [
        "number_of_products = 42\n",
        "print(number_of_products)"
      ],
      "execution_count": null,
      "outputs": []
    },
    {
      "cell_type": "code",
      "metadata": {
        "id": "Y35VOGjHBJTB"
      },
      "source": [
        "print(\"Hello\", \"there\", \"y'all\")"
      ],
      "execution_count": null,
      "outputs": []
    },
    {
      "cell_type": "code",
      "metadata": {
        "id": "gF4_uQiSBJTF"
      },
      "source": [
        "material1 = \"Steel\"\n",
        "materials_list = [\"Copper\", \"Aluminium\", material1]\n",
        "\n",
        "print(materials_list)"
      ],
      "execution_count": null,
      "outputs": []
    },
    {
      "cell_type": "code",
      "metadata": {
        "id": "p5GLXJTSBJTI"
      },
      "source": [
        "print(\"42 multiplied by 1.618 is\", 42 * 1.618)"
      ],
      "execution_count": null,
      "outputs": []
    },
    {
      "cell_type": "code",
      "metadata": {
        "id": "2k2AFPirBJTL"
      },
      "source": [
        "x = 10\n",
        "print(\"x raised to the power of 3 is\", x**3)"
      ],
      "execution_count": null,
      "outputs": []
    },
    {
      "cell_type": "markdown",
      "metadata": {
        "id": "qFl8x1yOBJTP"
      },
      "source": [
        "## 1.2. Program Control Flow - Conditionals"
      ]
    },
    {
      "cell_type": "code",
      "metadata": {
        "id": "XxJUFdAPBJTQ"
      },
      "source": [
        "materials_stock = 42\n",
        "\n",
        "if materials_stock > 20:\n",
        "    print(\"Got more than 20 materials in stock\")"
      ],
      "execution_count": null,
      "outputs": []
    },
    {
      "cell_type": "code",
      "metadata": {
        "id": "Yxev_AD8BJTT"
      },
      "source": [
        "materials_stock = 10\n",
        "\n",
        "if materials_stock > 20:\n",
        "    print(\"Got more than 20 materials in stock\")"
      ],
      "execution_count": null,
      "outputs": []
    },
    {
      "cell_type": "code",
      "metadata": {
        "id": "Oymz3tucBJTW"
      },
      "source": [
        "materials_stock = 20\n",
        "\n",
        "if materials_stock > 20:\n",
        "    print(\"Got more than 20 materials in stock\")\n",
        "else:\n",
        "    print(\"Got less than or exactly 20 materials in stock\")"
      ],
      "execution_count": null,
      "outputs": []
    },
    {
      "cell_type": "code",
      "metadata": {
        "id": "DcipVIiBBJTY"
      },
      "source": [
        "score = 62.5\n",
        "\n",
        "if score > 70:\n",
        "    print(\"First class\")\n",
        "elif score > 60:\n",
        "    print(\"Upper second class\")\n",
        "else:\n",
        "    print(\"Other conditional branch?\")"
      ],
      "execution_count": null,
      "outputs": []
    },
    {
      "cell_type": "markdown",
      "metadata": {
        "id": "Dd0SfDDWBJTb"
      },
      "source": [
        "## 1.3. Program Flow Control - \"for\" Loops"
      ]
    },
    {
      "cell_type": "code",
      "metadata": {
        "id": "3HbYTCgtBJTb"
      },
      "source": [
        "# Comments start with a hashtag (\"#\") - a comment is not executed by the Python\n",
        "# interpreter. They are useful for explaining your code.\n",
        "# A list is defined using square brackets, with its elements separated by commas\n",
        "materials_list = [\"Copper\", \"Aluminium\", \"Steel\"]\n",
        "\n",
        "for material in materials_list:\n",
        "    print(material)"
      ],
      "execution_count": null,
      "outputs": []
    },
    {
      "cell_type": "code",
      "metadata": {
        "id": "F0Cdf3YBBJTe"
      },
      "source": [
        "random_list = [\"Apples\", 15, \"Bees\", 25, 40.245]\n",
        "\n",
        "for element in random_list:\n",
        "    print(element)"
      ],
      "execution_count": null,
      "outputs": []
    },
    {
      "cell_type": "code",
      "metadata": {
        "id": "zLa_qxQGBJTh"
      },
      "source": [
        "materials_list = [\"Copper\", \"Aluminium\", \"Steel\"]\n",
        "index = 0\n",
        "\n",
        "for material in materials_list:\n",
        "    print(\"At index\", index, \"we have\", material)\n",
        "    index = index + 1"
      ],
      "execution_count": null,
      "outputs": []
    },
    {
      "cell_type": "code",
      "metadata": {
        "id": "_xcmp3vWBJTj"
      },
      "source": [
        "# A \"range\" produces a sequence of numbers starting from zero\n",
        "# Run this cell, then predict what the next one will output\n",
        "for index in range(3):\n",
        "    print(index)"
      ],
      "execution_count": null,
      "outputs": []
    },
    {
      "cell_type": "code",
      "metadata": {
        "id": "p_QpUdG6BJTm"
      },
      "source": [
        "for index in range(5):\n",
        "    print(index)"
      ],
      "execution_count": null,
      "outputs": []
    },
    {
      "cell_type": "code",
      "metadata": {
        "id": "uFM6W5vlBJTq"
      },
      "source": [
        "# If we call \"range\" with two parameters, we get a sequence starting from the\n",
        "# first number (inclusive), up to the second number (exclusive)\n",
        "for number in range(2, 5):\n",
        "    print(number)"
      ],
      "execution_count": null,
      "outputs": []
    },
    {
      "cell_type": "markdown",
      "metadata": {
        "id": "YP9DrrT-BJTt"
      },
      "source": [
        "## 1.4. Program Flow Control - \"while\" Loops\n",
        "\n",
        "This kind of loop is very popular in other programming languages, though they are harder to think through than \"for\" loops. Thankfully, Python has so many nice tools for creating / manipulating sequences that you will not use \"while\" loops too often.\n",
        "\n",
        "However, I do recommend you mentally (and with some pen and paper) step through the code in the next cells and understand what is happening to the variables at each iteration. It *is* difficult the first time - it is a new way for our brains to think about repeating operations - but it will quickly become second nature, I promise."
      ]
    },
    {
      "cell_type": "code",
      "metadata": {
        "id": "LI72Lbo-BJTt"
      },
      "source": [
        "stock = 10\n",
        "\n",
        "while stock < 15:\n",
        "    stock = stock + 1\n",
        "    print(\"Current stock is\", stock)"
      ],
      "execution_count": null,
      "outputs": []
    },
    {
      "cell_type": "code",
      "metadata": {
        "id": "AbNJxBBsBJTw"
      },
      "source": [
        "stock = 10\n",
        "\n",
        "while stock < 15:\n",
        "    print(\"Current stock is\", stock)\n",
        "    stock = stock + 1"
      ],
      "execution_count": null,
      "outputs": []
    },
    {
      "cell_type": "markdown",
      "metadata": {
        "id": "0IzzpduVBJTz"
      },
      "source": [
        "---\n",
        "Python has three types of division, for different purposes:\n",
        "\n",
        "1. Real number division: `23 / 10 = 2.3`\n",
        "2. Integer division: `23 // 10 = 2`\n",
        "3. Modulo division (i.e. remainder): `23 % 10 = 3`"
      ]
    },
    {
      "cell_type": "code",
      "metadata": {
        "id": "B1R1QOnkBJT0"
      },
      "source": [
        "number = 12321\n",
        "print(\"Number divided by 10 is\", number / 10)    # \"/\" is real number division\n",
        "\n",
        "print(\"Digits in Number:\")\n",
        "while number > 0:\n",
        "    print(number % 10)                           # \"%\" is modulo division (i.e. remainder)\n",
        "    number = number // 10                        # \"//\" integer division"
      ],
      "execution_count": null,
      "outputs": []
    },
    {
      "cell_type": "markdown",
      "metadata": {
        "id": "1y_HYjHtBJT2"
      },
      "source": [
        "## 1.5. Functions"
      ]
    },
    {
      "cell_type": "code",
      "metadata": {
        "id": "XBV0KL_IBJT3"
      },
      "source": [
        "# Function printing a \"Hello!\" message\n",
        "# Note the function syntax:\n",
        "#     1. The \"def\" keyword\n",
        "#     2. The function name; in this case \"print_list\"\n",
        "#     3. Brackets and any input parameters; in this case none\n",
        "#     4. Colon to declare the start of a *block* of code\n",
        "#     5. The function body, *indented with 4 spaces*\n",
        "def greet():\n",
        "    print(\"Hello!\")\n",
        "\n",
        "# Calling the function\n",
        "greet()"
      ],
      "execution_count": null,
      "outputs": []
    },
    {
      "cell_type": "code",
      "metadata": {
        "id": "DMElAQxyBJT5"
      },
      "source": [
        "# Function that prints its first input parameter\n",
        "def print_list(some_list):\n",
        "    print(some_list)\n",
        "    \n",
        "print_list([1, 2, 3])"
      ],
      "execution_count": null,
      "outputs": []
    },
    {
      "cell_type": "code",
      "metadata": {
        "id": "L1SfhBAoBJT8"
      },
      "source": [
        "# Function returning the product of its two input parameters\n",
        "# Note the \"return\" keyword\n",
        "def multiplier(x1, x2):\n",
        "    product = x1 * x2\n",
        "    return product\n",
        "\n",
        "# We assign the return value of the function to the variable \"x\"\n",
        "x = multiplier(5, 3)\n",
        "print(x)"
      ],
      "execution_count": null,
      "outputs": []
    },
    {
      "cell_type": "code",
      "metadata": {
        "id": "zybID3oUBJT-"
      },
      "source": [
        "# Function evaluating a polynomial for a given value\n",
        "def polynomial(x):\n",
        "    return x**2 + 2 * x + 1\n",
        "\n",
        "print( polynomial(3) )"
      ],
      "execution_count": null,
      "outputs": []
    },
    {
      "cell_type": "markdown",
      "metadata": {
        "id": "sYdah93hBJUB"
      },
      "source": [
        "# 2. Operations on Python Data Types"
      ]
    },
    {
      "cell_type": "markdown",
      "metadata": {
        "id": "OmPF_GNHBJUB"
      },
      "source": [
        "## 2.1. Integers and Real Numbers\n",
        "\n",
        "In Python, integers (the `int` type) can be positive or negative. They can be fairly large - as in > 1E+10000 - but you will probably not get into those ranges.\n",
        "\n",
        "Real numbers (the `float` type) in computing are called *floating-point numbers* (this is due to their representation on computers - it is fairly complicated, but the main idea is that you store a sequence of digits and, separately, the exponent - as if you *moved* the point inside the number). Their range is relatively fixed: from 1E-1022 to 1E+1023, negative or positive.\n",
        "\n",
        "Below are examples of operations you can do on `int`s and `float`s, like addition, multiplication, exponentiation and three different types of division. "
      ]
    },
    {
      "cell_type": "code",
      "metadata": {
        "id": "zPbibKwSBJUC"
      },
      "source": [
        "# Integer\n",
        "x = 5\n",
        "print( type(x) )   # Print the type of variable x\n",
        "print( x + 15 )    # Addition\n",
        "print( x * 2 )     # Multiplication\n",
        "print( x ** 2 )    # Exponentiation"
      ],
      "execution_count": null,
      "outputs": []
    },
    {
      "cell_type": "code",
      "metadata": {
        "id": "VvWwvKWGBJUF"
      },
      "source": [
        "# Python has three types of division, for different purposes:\n",
        "#     1. Real number division: `23 / 10 = 2.3`\n",
        "#     2. Integer division: `23 // 10 = 2`\n",
        "#     3. Modulo division (i.e. remainder): `23 % 10 = 3`\n",
        "x = 23\n",
        "print( 23 / 10 )    # Real division\n",
        "print( 23 // 10 )   # Integer division\n",
        "print( 23 % 10 )    # Modulo division"
      ],
      "execution_count": null,
      "outputs": []
    },
    {
      "cell_type": "code",
      "metadata": {
        "id": "3Z2p7hh1BJUJ"
      },
      "source": [
        "# Simple float\n",
        "x = 5.0\n",
        "print( type(x) )\n",
        "print(x)\n",
        "\n",
        "# Define a float using engineering notation\n",
        "y = 16.42e-12\n",
        "print(y)\n",
        "\n",
        "# Floats only have a precision of about 18 *significant figures*, no matter\n",
        "# how many zeros you have before or after the number!\n",
        "#\n",
        "# Beyond those significant figures, you will have erroneous digits! Python\n",
        "# helpfully truncates the printed number to 17 figures - but the last one is\n",
        "# still wrong\n",
        "z = 123456789.123456789123456789\n",
        "print(z)"
      ],
      "execution_count": null,
      "outputs": []
    },
    {
      "cell_type": "markdown",
      "metadata": {
        "id": "68uGju02BJUM"
      },
      "source": [
        "## 2.2. Text Strings\n",
        "\n",
        "A piece of text - technically a *string of characters* - is represented in Python by the `str` type. Below are some example uses of text strings."
      ]
    },
    {
      "cell_type": "code",
      "metadata": {
        "id": "3S-aCDn9BJUM"
      },
      "source": [
        "# A string is defined using single- or double-quotes\n",
        "text1 = 'The world is definitely not deterministic.'\n",
        "print( type(text1) )\n",
        "\n",
        "text2 = \"The ships hung in the sky in much the same way that bricks don't.\"\n",
        "print(text2)\n",
        "\n",
        "# String can be concatenated using the plus (\"+\") sign\n",
        "text3 = \"I'd far rather be happy \" + 'than right any day.'\n",
        "print(text3)"
      ],
      "execution_count": null,
      "outputs": []
    },
    {
      "cell_type": "code",
      "metadata": {
        "id": "La6tpWUlBJUP"
      },
      "source": [
        "# Some operations on strings. You don't need to memorise them, just know of\n",
        "# their existence and how to find out about them\n",
        "text = \"I'd far rather be happy than right any day.\"\n",
        "\n",
        "# The *len*gth of a string - i.e. the number of characters\n",
        "print( len(text) )\n",
        "\n",
        "# Make all letters upper case. Notice the calling notation, using a dot. This\n",
        "# is still a function, but it is \"attached\" to the string object, rather than\n",
        "# being free-floating\n",
        "print( text.upper() ) \n",
        "\n",
        "# Make all letters lower case\n",
        "print( text.lower() )\n",
        "\n",
        "# Replace a substring with another\n",
        "print( text.replace(\"happy\", \"wrong\") )\n",
        "\n",
        "# Check whether it contains a substring\n",
        "print( \"happy\" in text )\n",
        "\n",
        "# Split it into a list of substrings with the separator being an empty space \" \"\n",
        "print( text.split(\" \") )\n"
      ],
      "execution_count": null,
      "outputs": []
    },
    {
      "cell_type": "markdown",
      "metadata": {
        "id": "m__T_JD-BJUS"
      },
      "source": [
        "## 2.3. Lists\n",
        "\n",
        "Perhaps the most widely used non-basic data kind in Python is the `list` type - an ordered sequence of elements of any type. Below are examples of defining, extending, indexing and *slicing* through a `list`. Note that many concepts below apply to MATLAB as well."
      ]
    },
    {
      "cell_type": "code",
      "metadata": {
        "id": "_V5IEdACBJUT"
      },
      "source": [
        "# A list is defined using square brackets with comma-separated elements\n",
        "simple_list = [1, 2, 3]\n",
        "\n",
        "print( type(simple_list) )\n",
        "print(simple_list)\n",
        "\n",
        "# The elements can be accessed using the \"subscript notation\" - putting the\n",
        "# element index between square brackets.\n",
        "# The index starts at zero!\n",
        "print(\"At index 0 we have the element\", simple_list[0])\n",
        "\n",
        "# You can access elements from the end of the list using a negative index\n",
        "print(\"At index -1 we have the last element\", simple_list[-1])"
      ],
      "execution_count": null,
      "outputs": []
    },
    {
      "cell_type": "code",
      "metadata": {
        "id": "bMCAU8oSBJUV"
      },
      "source": [
        "# A list can contain elements of different types\n",
        "random_list = [\"Determinism\", 42, \"Hitchhikers\", 1.618, 1.38e-23]\n",
        "\n",
        "# Multiple elements can be selected using a colon with the syntax\n",
        "# list[ start_index:end_index ]\n",
        "# where the start_index is inclusive and the end_index is exclusive\n",
        "print(\"Elements between indices 1 and 4:\", random_list[1:4])\n",
        "\n",
        "# You can omit the start_index if you want to select elements from the\n",
        "# beginning of the list\n",
        "print(\"Elements up to index 3:\", random_list[:3])\n",
        "\n",
        "# You can also omit the end_index if you want to select elements up to\n",
        "# the end of the list\n",
        "print(\"Elements from index 2:\", random_list[2:])"
      ],
      "execution_count": null,
      "outputs": []
    },
    {
      "cell_type": "markdown",
      "metadata": {
        "id": "xy_EiH6xBJUY"
      },
      "source": [
        "---\n",
        "Below are more advanced indexing methods using the **slicing syntax**:\n",
        "`start_index:end_index:step_size`\n",
        "\n",
        "I definitely recommend playing with this - you will be *slicing* through many data arrays, even in MATLAB."
      ]
    },
    {
      "cell_type": "code",
      "metadata": {
        "id": "kltxIpz6BJUY"
      },
      "source": [
        "# More advanced indexing\n",
        "numbers = [0, 1, 2, 3, 4, 5, 6, 7, 8, 9]\n",
        "\n",
        "# Access every *second* element between 2 and 8\n",
        "print( numbers[2:8:2] )\n",
        "\n",
        "# Access every second element in the whole list (step_size = 2)\n",
        "print( numbers[::2] )\n",
        "\n",
        "# Reverse the list by having a negative step_size\n",
        "print( numbers[::-1] )"
      ],
      "execution_count": null,
      "outputs": []
    },
    {
      "cell_type": "code",
      "metadata": {
        "id": "Akk3hJhGBJUb"
      },
      "source": [
        "# Other operations on lists:\n",
        "# Concatenate two lists using the plus sign\n",
        "numbers = [1,2,3] + [4,5,6]\n",
        "print(numbers)\n",
        "\n",
        "# Append individual elements to a list\n",
        "numbers.append(7)\n",
        "numbers.append(8)\n",
        "print(numbers)\n",
        "\n",
        "# Extend a list with elements from another (basically concatenation)\n",
        "numbers.extend([9, 10, 11])\n",
        "print(numbers)"
      ],
      "execution_count": null,
      "outputs": []
    },
    {
      "cell_type": "markdown",
      "metadata": {
        "id": "eXXLEi36BJUd"
      },
      "source": [
        "# 3. Hack this Code!\n",
        "\n",
        "This section contains pre-written code. Your task is to modify the question marks (\"?\") to achieve the result specified in the top comment."
      ]
    },
    {
      "cell_type": "code",
      "metadata": {
        "id": "NnB3zjyYBJUd"
      },
      "source": [
        "# Change ? so this script prints \"B\"\n",
        "value = ?\n",
        "\n",
        "if value > 100:\n",
        "    print(\"A\")\n",
        "elif value > 50:\n",
        "    print(\"B\")\n",
        "else:\n",
        "    print(\"C\")"
      ],
      "execution_count": null,
      "outputs": []
    },
    {
      "cell_type": "code",
      "metadata": {
        "id": "MFOz3nViBJUh"
      },
      "source": [
        "# Change ??? to a conditional branch such that if `score` is between 40 and 50,\n",
        "# then print \"Third class\"\n",
        "score = 45\n",
        "\n",
        "if score > 70:\n",
        "    print(\"First class\")\n",
        "elif score > 60:\n",
        "    print(\"Upper second class\")\n",
        "???\n",
        "else:\n",
        "    print(\"Failed\")"
      ],
      "execution_count": null,
      "outputs": []
    },
    {
      "cell_type": "code",
      "metadata": {
        "id": "MwNwZmMNBJUj"
      },
      "source": [
        "# Change ?? and ???? to two conditional branches such that the `print_class`\n",
        "# function prints the possible classes awarded by a UK university for any\n",
        "# valid score\n",
        "\n",
        "def print_class(score):\n",
        "    if score > 70:\n",
        "        print(\"First class\")\n",
        "    elif score > 60:\n",
        "        print(\"Upper second class\")\n",
        "    ??\n",
        "    ????\n",
        "    else:\n",
        "        print(\"Failed\")\n",
        "        \n",
        "print_class(75)    # Prints \"First class\"\n",
        "print_class(55)    # Prints \"Lower second class\"\n",
        "print_class(45)    # Prints \"Third class\"\n",
        "print_class(39)    # Prints \"Failed\""
      ],
      "execution_count": null,
      "outputs": []
    },
    {
      "cell_type": "code",
      "metadata": {
        "id": "6G-Hr87ZBJUm"
      },
      "source": [
        "# Change ? such that this cell prints:\n",
        "#    10\n",
        "#    11\n",
        "#    13\n",
        "#    14\n",
        "\n",
        "stock = 10\n",
        "while stock < ?:\n",
        "    print(stock)\n",
        "    stock = stock + 1"
      ],
      "execution_count": null,
      "outputs": []
    },
    {
      "cell_type": "code",
      "metadata": {
        "id": "BBnxZuDCBJUo"
      },
      "source": [
        "# Change ? such that this cell prints:\n",
        "#    10\n",
        "#    11\n",
        "#    13\n",
        "#    14\n",
        "\n",
        "stock = 10\n",
        "while stock <= ?:\n",
        "    print(stock)\n",
        "    stock = stock + 1"
      ],
      "execution_count": null,
      "outputs": []
    },
    {
      "cell_type": "code",
      "metadata": {
        "id": "eWDozjA0BJUq"
      },
      "source": [
        "# Change ? and ?? such that this cell prints:\n",
        "#    10\n",
        "#    11\n",
        "#    13\n",
        "#    14\n",
        "\n",
        "stock = ?\n",
        "while stock < ??:\n",
        "    stock = stock + 1\n",
        "    print(stock)"
      ],
      "execution_count": null,
      "outputs": []
    },
    {
      "cell_type": "code",
      "metadata": {
        "id": "FIJSnT6CBJUt"
      },
      "source": [
        "# Change ? such that this cell prints:\n",
        "#    0\n",
        "#    1\n",
        "#    2\n",
        "\n",
        "for number in range(?):\n",
        "    print(number)"
      ],
      "execution_count": null,
      "outputs": []
    },
    {
      "cell_type": "code",
      "metadata": {
        "id": "XQqqnPNbBJUw"
      },
      "source": [
        "# Change ? and ?? such that this cell prints:\n",
        "#    3\n",
        "#    4\n",
        "#    5\n",
        "#    6\n",
        "\n",
        "for number in range(?, ??):\n",
        "    print(number)"
      ],
      "execution_count": null,
      "outputs": []
    },
    {
      "cell_type": "code",
      "metadata": {
        "id": "fj2zC8FqBJU0"
      },
      "source": [
        "# Change ? such that this cell prints:\n",
        "#    2\n",
        "#    4\n",
        "#    6\n",
        "\n",
        "my_list = ?\n",
        "\n",
        "for element in my_list:\n",
        "    print(element)"
      ],
      "execution_count": null,
      "outputs": []
    },
    {
      "cell_type": "code",
      "metadata": {
        "id": "cu_em40OBJU3"
      },
      "source": [
        "# Change ? such that this cell prints:\n",
        "#    [2, 4, 6]\n",
        "\n",
        "my_list = ?\n",
        "print(my_list)"
      ],
      "execution_count": null,
      "outputs": []
    },
    {
      "cell_type": "code",
      "metadata": {
        "id": "B6MqEHAoBJU5"
      },
      "source": [
        "# Change ? such that this cell prints:\n",
        "#    [2, 4, 6]\n",
        "\n",
        "my_list = ?\n",
        "\n",
        "print(my_list[2:4])"
      ],
      "execution_count": null,
      "outputs": []
    },
    {
      "cell_type": "code",
      "metadata": {
        "id": "5EEpWQIrBJU9"
      },
      "source": [
        "# Change ? such that this cell prints:\n",
        "#    [2, 4, 6]\n",
        "\n",
        "my_list = ?\n",
        "\n",
        "print(my_list[:3])"
      ],
      "execution_count": null,
      "outputs": []
    },
    {
      "cell_type": "code",
      "metadata": {
        "id": "qCXQcHEKBJU_"
      },
      "source": [
        "# Change ? such that this cell prints:\n",
        "#    [2, 4, 6]\n",
        "\n",
        "my_list = ?\n",
        "\n",
        "print(my_list[::2])"
      ],
      "execution_count": null,
      "outputs": []
    },
    {
      "cell_type": "code",
      "metadata": {
        "id": "YAqDhNa5BJVB"
      },
      "source": [
        "# Change ? such that this cell prints:\n",
        "#    [2, 4, 6]\n",
        "\n",
        "my_list = ?\n",
        "\n",
        "print(my_list[::-1])"
      ],
      "execution_count": null,
      "outputs": []
    },
    {
      "cell_type": "code",
      "metadata": {
        "id": "zMutJOFCBJVD"
      },
      "source": [
        "# Change ? such that this function computes the distance from the origin of\n",
        "# a 2D Cartesian space to a point defined by the input parameters `x` and `y`\n",
        "\n",
        "import math\n",
        "\n",
        "def ?(x, y):\n",
        "    distance = math.sqrt(x**2 + y**2)\n",
        "    return distance\n",
        "\n",
        "print(euclidean(3, 4))\n"
      ],
      "execution_count": null,
      "outputs": []
    },
    {
      "cell_type": "code",
      "metadata": {
        "id": "PjJE9jH4BJVF"
      },
      "source": [
        "# Change ?, ?? and ?? such that this function computes the sum of the squares\n",
        "# of the three input parameters\n",
        "\n",
        "def sum_squares(?, ??, ???):\n",
        "    return x**2 + y**2 + z**2\n",
        "\n",
        "print( sum_squares(3, 4, 5) )"
      ],
      "execution_count": null,
      "outputs": []
    },
    {
      "cell_type": "code",
      "metadata": {
        "id": "v4MaDY9aBJVI"
      },
      "source": [
        "# What's wrong with this code? Fix it!\n",
        "\n",
        "def average(x, y)\n",
        "    return (x + y) / 2\n",
        "\n",
        "print( average(4, 6) )   # Prints 5.0"
      ],
      "execution_count": null,
      "outputs": []
    },
    {
      "cell_type": "code",
      "metadata": {
        "id": "h7i8BIXEBJVJ"
      },
      "source": [
        "# What's wrong with this code? Fix it!\n",
        "\n",
        "def average(a, b, c, d)\n",
        "    avg = a + b + c + d / 4\n",
        "  return avg\n",
        "\n",
        "print( average(4, 6, 8, 10) )   # Prints 7.0"
      ],
      "execution_count": null,
      "outputs": []
    },
    {
      "cell_type": "markdown",
      "metadata": {
        "id": "R_UC6bjYBJVO"
      },
      "source": [
        "# 4. Solve Problems\n",
        "\n",
        "This section contains problems for you to solve - *with almost no code provided*! This is very similar to tasks you will face in your engineering career: you know **_what_** you should do, but then it's your job to figure out **_how_**.\n",
        "\n",
        "Write Python scripts and / or functions that solve the following problems. Even though this notebook teaches all the concepts necessary to solve them, don't forget that it is perfectly fine to use Google - in fact it is even recommended! Your task is not *remembering* all functions and algorithms in Python; you should work on your problem-solving - not *what*, but *how* - including where to find needed information."
      ]
    },
    {
      "cell_type": "markdown",
      "metadata": {
        "id": "pNbYdrwjBJVO"
      },
      "source": [
        "4.1. Calculate the average of 5 numbers."
      ]
    },
    {
      "cell_type": "markdown",
      "metadata": {
        "id": "bYUvnkaBBJVO"
      },
      "source": [
        "4.2. Given a list of numbers, print the largest one."
      ]
    },
    {
      "cell_type": "markdown",
      "metadata": {
        "id": "5KKfjjekBJVP"
      },
      "source": [
        "4.3. Create **a function** that, given a list of numbers, returns the largest one."
      ]
    },
    {
      "cell_type": "markdown",
      "metadata": {
        "id": "tXSNH_JFBJVP"
      },
      "source": [
        "4.4. Given a list of 5 numbers, calculate their average."
      ]
    },
    {
      "cell_type": "code",
      "metadata": {
        "id": "lWBDwl5tBJVP"
      },
      "source": [
        "# Problem 4.4. - calculate the average of the numbers in the following list\n",
        "numbers = [10, 23, 74, 33, 91]"
      ],
      "execution_count": null,
      "outputs": []
    },
    {
      "cell_type": "markdown",
      "metadata": {
        "id": "LmpFPwZ6BJVR"
      },
      "source": [
        "4.5. Create a function that calculates and returns the average of the numbers given in an input list."
      ]
    },
    {
      "cell_type": "code",
      "metadata": {
        "id": "5TeFP7pzBJVR"
      },
      "source": [
        "# Problem 4.5.\n",
        "def average(numbers_list):\n",
        "    ???"
      ],
      "execution_count": null,
      "outputs": []
    },
    {
      "cell_type": "markdown",
      "metadata": {
        "id": "V-s9iwRvBJVV"
      },
      "source": [
        "4.6. Print the first 8 natural numbers using a **while loop**."
      ]
    },
    {
      "cell_type": "markdown",
      "metadata": {
        "id": "fxHDhYfJBJVW"
      },
      "source": [
        "4.7. Given a list of strings, print the longest one."
      ]
    },
    {
      "cell_type": "markdown",
      "metadata": {
        "id": "36BWmbxsBJVX"
      },
      "source": [
        "4.8. Create a function accepting a string. If the string has fewer than 5 characters, return the string `\"too short\"`, otherwise return the string `\"accepted\"`."
      ]
    },
    {
      "cell_type": "markdown",
      "metadata": {
        "id": "FttVyHCsBJVY"
      },
      "source": [
        "4.9. Create a function that, given a list of strings, returns the longest one."
      ]
    },
    {
      "cell_type": "markdown",
      "metadata": {
        "id": "LISq5nA0BJVY"
      },
      "source": [
        "4.10. Create a function that, given a list of strings, returns a list of all strings with more than 5 characters."
      ]
    },
    {
      "cell_type": "markdown",
      "metadata": {
        "id": "DxAaIP5hBJVZ"
      },
      "source": [
        "4.11. Create a list of numbers divisible by 5, up to 30."
      ]
    },
    {
      "cell_type": "markdown",
      "metadata": {
        "id": "S7GWjBKBBJVZ"
      },
      "source": [
        "4.12. Create a list of numbers divisible by 5, up to 3000."
      ]
    },
    {
      "cell_type": "markdown",
      "metadata": {
        "id": "kxtxDMeyBJVZ"
      },
      "source": [
        "4.13. Create a function evaluating the polynomial `x^3 + 2x^2 + 4x + 5` for a given `x`, then evaluate it for all natural numbers up to 100, storing the results in a list."
      ]
    },
    {
      "cell_type": "markdown",
      "metadata": {
        "id": "Gt2xpStXBJVa"
      },
      "source": [
        "4.14. Create a function accepting a number, calculating the sum of all natural numbers up to it."
      ]
    },
    {
      "cell_type": "markdown",
      "metadata": {
        "id": "Bq1upZ9dBJVa"
      },
      "source": [
        "4.15. Given a list, iterate it and display the numbers which are divisible by 5. If you find a number greater than 125, stop the loop iteration.\n",
        "\n",
        "**Example input**:\n",
        "\n",
        "list1 = [2, 5, 15, 32, 55, 75, 112, 120, 125, 150, 201, 290]\n",
        "\n",
        "**Expected output**:\n",
        "```\n",
        "5,15,55,75,120,125\n",
        "```"
      ]
    },
    {
      "cell_type": "markdown",
      "metadata": {
        "id": "s4ZLLKchBJVa"
      },
      "source": [
        "4.16. Print the following pattern using a loop:\n",
        "\n",
        "`\n",
        "1 \n",
        "1 2 \n",
        "1 2 3 \n",
        "1 2 3 4 \n",
        "1 2 3 4 5\n",
        "`"
      ]
    }
  ]
}