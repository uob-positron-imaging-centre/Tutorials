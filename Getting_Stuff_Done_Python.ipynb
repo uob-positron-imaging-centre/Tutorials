{
  "nbformat": 4,
  "nbformat_minor": 0,
  "metadata": {
    "kernelspec": {
      "display_name": "Python 3",
      "language": "python",
      "name": "python3"
    },
    "language_info": {
      "codemirror_mode": {
        "name": "ipython",
        "version": 3
      },
      "file_extension": ".py",
      "mimetype": "text/x-python",
      "name": "python",
      "nbconvert_exporter": "python",
      "pygments_lexer": "ipython3",
      "version": "3.7.6"
    },
    "colab": {
      "name": "Getting_Stuff_Done_Python.ipynb",
      "provenance": [],
      "include_colab_link": true
    }
  },
  "cells": [
    {
      "cell_type": "markdown",
      "metadata": {
        "id": "view-in-github",
        "colab_type": "text"
      },
      "source": [
        "<a href=\"https://colab.research.google.com/github/uob-positron-imaging-centre/tutorials/blob/master/Getting_Stuff_Done_Python.ipynb\" target=\"_parent\"><img src=\"https://colab.research.google.com/assets/colab-badge.svg\" alt=\"Open In Colab\"/></a>"
      ]
    },
    {
      "cell_type": "markdown",
      "metadata": {
        "id": "SznJNw2hEZFH"
      },
      "source": [
        "<a target=\"_blank\"  href=\"https://www.birmingham.ac.uk/schools/chemical-engineering/index.aspx\"><img src=\"https://intranet.birmingham.ac.uk/staff/images/brand/download/jpg/crested-wm-full-colour.jpg\" style=\"height:200px; display: block; margin-left: auto; margin-right: auto;\"/></a>\n",
        "\n",
        "# Getting Stuff Done in Python\n",
        "#### i.e. using NumPy, SciPy, Matplotlib and Plotly for common engineering tasks\n",
        "\n",
        "---\n",
        "\n",
        "## Labs and Data Analysis 1 - Seminar Session 3\n",
        "\n",
        "### For engineers and other people who just want a computer to do their work.\n",
        "\n",
        "---\n",
        "\n",
        "#### Copyright 2020 The University of Birmingham, School of Chemical Engineering.\n",
        "##### Authored by Andrei Leonard Nicusan with help from Dr. Kit Windows-Yule, Matthew Herald and Dominik Werner.\n",
        "\n",
        "Licensed under the GNU License, Version 3.0 (the \"License\")."
      ]
    },
    {
      "cell_type": "markdown",
      "metadata": {
        "id": "C0Y_9f6kEZFI"
      },
      "source": [
        "# 1. NumPy Basics\n",
        "\n",
        "NumPy (_**Num**erical **Py**thon_) is probably the most important Python library, featuring powerful _and friendly_ n-dimensional arrays and an extensive suite of optimised mathematical operations. Like Python, it is free and open source, meaning anybody can see its [_source code_](https://github.com/numpy/numpy), modify it and improve it. If this does not seem like a big deal, know that besides people like me and you, companies and research bodies like Google and NASA contribute to its development; remember the first image of a black hole? It was created using [NumPy](https://numpy.org/case-studies/blackhole-image/).\n",
        "\n",
        "NumPy is the de facto standard in array computing applications, ranging from solving [diffusion problems](https://colab.research.google.com/github/ipython-books/cookbook-2nd-code/blob/master/chapter12_deterministic/04_turing.ipynb), forecasting [company sales](https://towardsdatascience.com/an-end-to-end-project-on-time-series-analysis-and-forecasting-with-python-4835e6bf050b), all the way to processing [brain CT scans](https://nbviewer.jupyter.org/github/vincent1bt/Healthy-notebooks/blob/master/CT_images.ipynb). Learning how to use NumPy is one of the most important skills you can acquire for your future career, no matter what field."
      ]
    },
    {
      "cell_type": "markdown",
      "metadata": {
        "id": "JVAzL6J0EZFJ"
      },
      "source": [
        "## 1.1. What's a NumPy array?\n",
        "\n",
        "Like most things in programming, introducing new techniques is best done by example. Up until now we have seen Python lists - which, like their name suggests, are just sequences of arbitrary elements, not mathematical vectors!"
      ]
    },
    {
      "cell_type": "code",
      "metadata": {
        "id": "UeEStdoYEZFJ",
        "outputId": "12aa9aa1-0313-42ed-c0fc-08ba7b9543b8"
      },
      "source": [
        "# Python lists are included in the base language - they are not an external library\n",
        "a = [1, 2, 3]\n",
        "b = [4, 5, 6]\n",
        "\n",
        "# Adding two lists is *concatenation* - lists do not act like maths!\n",
        "c = a + b\n",
        "print(c)"
      ],
      "execution_count": null,
      "outputs": [
        {
          "output_type": "stream",
          "text": [
            "[1, 2, 3, 4, 5, 6]\n"
          ],
          "name": "stdout"
        }
      ]
    },
    {
      "cell_type": "markdown",
      "metadata": {
        "id": "X8tTUUL1EZFO"
      },
      "source": [
        "And this is where NumPy comes in: it provides *mathematical* n-dimensional arrays (1D vectors, 2D matrices, 3D arrays, etc.) with an extensive suite for manipulating them. Here is an example:"
      ]
    },
    {
      "cell_type": "code",
      "metadata": {
        "id": "r2FYJcLzEZFP",
        "outputId": "ccf4b997-6079-4678-bd0a-bc27bc1b3f28"
      },
      "source": [
        "# Import the numpy package\n",
        "import numpy\n",
        "\n",
        "# Create numpy arrays from lists\n",
        "x = numpy.array( [1, 2, 3] )\n",
        "y = numpy.array( [4, 5, 6] )\n",
        "\n",
        "# Adding numpy arrays is mathematical\n",
        "z = x + y\n",
        "print(z)"
      ],
      "execution_count": null,
      "outputs": [
        {
          "output_type": "stream",
          "text": [
            "[5 7 9]\n"
          ],
          "name": "stdout"
        }
      ]
    },
    {
      "cell_type": "markdown",
      "metadata": {
        "id": "fihhSI8SEZFS"
      },
      "source": [
        "## 1.2. Array Creation\n",
        "\n",
        "There are a few different ways to create numpy arrays. The easiest one, as you've seen in the previous cell, is starting from a list:"
      ]
    },
    {
      "cell_type": "code",
      "metadata": {
        "id": "nEzc_6DFEZFT",
        "outputId": "a5dcf594-d8bc-4368-92d2-8ca512591ef3"
      },
      "source": [
        "# Import the numpy package using a shortname\n",
        "import numpy as np\n",
        "\n",
        "# Create a 1D numpy array from a list\n",
        "x = np.array([1, 2, 3])\n",
        "print(x)\n",
        "print( type(x) )"
      ],
      "execution_count": null,
      "outputs": [
        {
          "output_type": "stream",
          "text": [
            "[1 2 3]\n",
            "<class 'numpy.ndarray'>\n"
          ],
          "name": "stdout"
        }
      ]
    },
    {
      "cell_type": "markdown",
      "metadata": {
        "id": "IkplwVHQEZFW"
      },
      "source": [
        "The most important properties of a numpy array:"
      ]
    },
    {
      "cell_type": "code",
      "metadata": {
        "id": "nmV0S5VHEZFX",
        "outputId": "cd3fc8a9-645a-44c2-e762-f6e305dfa3ab"
      },
      "source": [
        "# Import the numpy package using a shortname\n",
        "import numpy as np\n",
        "\n",
        "# Create a 2D numpy array from a list of lists\n",
        "x = np.array([[1, 2, 3],\n",
        "              [4, 5, 6]])\n",
        "\n",
        "print(x)\n",
        "print(x.shape)    # Array shape as a tuple (rows, columns) \n",
        "print(x.dtype)    # Array d(ata)type - usually int or float\n",
        "print(len(x))     # The number of rows"
      ],
      "execution_count": null,
      "outputs": [
        {
          "output_type": "stream",
          "text": [
            "[[1 2 3]\n",
            " [4 5 6]]\n",
            "(2, 3)\n",
            "int64\n",
            "2\n"
          ],
          "name": "stdout"
        }
      ]
    },
    {
      "cell_type": "markdown",
      "metadata": {
        "id": "QCsAcUTSEZFa"
      },
      "source": [
        "Creating numpy arrays using predefined functions:"
      ]
    },
    {
      "cell_type": "code",
      "metadata": {
        "id": "EEzXhTRyEZFa",
        "outputId": "8a5e2bf9-2059-4f70-dc1d-8913b65c05ad"
      },
      "source": [
        "# Import the numpy package using a shortname\n",
        "import numpy as np\n",
        "\n",
        "# A numpy array containing only ones. Call the function with the number of\n",
        "# elements you want - here 5\n",
        "x = np.ones(5)\n",
        "print(x)\n",
        "\n",
        "# You can create a multi-dimensional array of ones by changing the function call\n",
        "y = np.ones( (3, 5) )  # Note the extra parantheses for (rows, columns)\n",
        "print(y)\n",
        "\n",
        "# This is a 3D array; it is harder to visualise\n",
        "z = np.ones( (2, 3, 4) )"
      ],
      "execution_count": null,
      "outputs": [
        {
          "output_type": "stream",
          "text": [
            "[1. 1. 1. 1. 1.]\n",
            "[[1. 1. 1. 1. 1.]\n",
            " [1. 1. 1. 1. 1.]\n",
            " [1. 1. 1. 1. 1.]]\n"
          ],
          "name": "stdout"
        }
      ]
    },
    {
      "cell_type": "code",
      "metadata": {
        "id": "kW2EhL35EZFd",
        "outputId": "21076a64-7187-4af1-ed8c-f04b7f217b3a"
      },
      "source": [
        "# Import the numpy package using a shortname\n",
        "import numpy as np\n",
        "\n",
        "# A numpy array containing only zeros - same as before\n",
        "x = np.zeros(4)\n",
        "print(x)\n",
        "\n",
        "y = np.zeros((4, 2))\n",
        "print(y)"
      ],
      "execution_count": null,
      "outputs": [
        {
          "output_type": "stream",
          "text": [
            "[0. 0. 0. 0.]\n",
            "[[0. 0.]\n",
            " [0. 0.]\n",
            " [0. 0.]\n",
            " [0. 0.]]\n"
          ],
          "name": "stdout"
        }
      ]
    },
    {
      "cell_type": "code",
      "metadata": {
        "id": "LOqMVhu9EZFh",
        "outputId": "432e8e99-8d67-4cf6-cbe5-585d2798f52e"
      },
      "source": [
        "# Import the numpy package using a shortname\n",
        "import numpy as np\n",
        "\n",
        "# A 2D identity array - the main diagonal contains ones; the rest are zeros \n",
        "x = np.eye(3)\n",
        "print(x)"
      ],
      "execution_count": null,
      "outputs": [
        {
          "output_type": "stream",
          "text": [
            "[[1. 0. 0.]\n",
            " [0. 1. 0.]\n",
            " [0. 0. 1.]]\n"
          ],
          "name": "stdout"
        }
      ]
    },
    {
      "cell_type": "markdown",
      "metadata": {
        "id": "vhfvtSnxEZFk"
      },
      "source": [
        "## 1.3. Array Indexing\n",
        "\n",
        "Indexing is just a fancy word for _accessing_ or _selecting_ the elements in an array. Numpy and Python have some powerful syntax for this, allowing common things like \"select all elements on column 3\" or \"select every tenth element on rows 4, 5 and 6\".\n",
        "\n",
        "Please modify the code below and try new combinations of indices - it is important you grasp how indexing works as you will be slicing and dicing *lots* of data throughout your degree and beyond (it is also very similar to what you will do in MATLAB)."
      ]
    },
    {
      "cell_type": "code",
      "metadata": {
        "id": "OzHL3UA-EZFk",
        "outputId": "a4ee3894-cf01-4e55-e2a9-9182dc53e16a"
      },
      "source": [
        "# Import numpy and create a simple 1D array\n",
        "import numpy as np\n",
        "\n",
        "x = np.array([1, 2, 3])\n",
        "\n",
        "# Access the first element in the array using subscript notation (i.e. square\n",
        "# brackets)\n",
        "print(\"First element in the array (that is, at index 0)\")\n",
        "print( x[0] )   # Python is 0-indexed"
      ],
      "execution_count": null,
      "outputs": [
        {
          "output_type": "stream",
          "text": [
            "First element in the array (that is, at index 0)\n",
            "1\n"
          ],
          "name": "stdout"
        }
      ]
    },
    {
      "cell_type": "code",
      "metadata": {
        "id": "VUnmVZG8EZFn",
        "outputId": "86b38470-08e2-4866-82a7-80c343fb86d7"
      },
      "source": [
        "# Import numpy and create a simple 2D array\n",
        "import numpy as np\n",
        "\n",
        "x = np.array([[1, 2, 3],\n",
        "              [4, 5, 6]])\n",
        "\n",
        "print(x)\n",
        "\n",
        "# For a 2D array, the first element is a row!\n",
        "print(\"First row in the array (at index 0)\")\n",
        "print( x[0] )\n",
        "\n",
        "print(\"Element at first row, second column (at index [0, 1])\")\n",
        "print( x[0, 1] )"
      ],
      "execution_count": null,
      "outputs": [
        {
          "output_type": "stream",
          "text": [
            "[[1 2 3]\n",
            " [4 5 6]]\n",
            "First row in the array (at index 0)\n",
            "[1 2 3]\n",
            "Element at first row, second column (at index [0, 1])\n",
            "2\n"
          ],
          "name": "stdout"
        }
      ]
    },
    {
      "cell_type": "markdown",
      "metadata": {
        "id": "3py11tn-EZFq"
      },
      "source": [
        "---\n",
        "\n",
        "**Slicing syntax**: you can select multiple elements at once using the following syntax:\n",
        "\n",
        "`start_index:end_index:step_size`\n",
        "\n",
        "Where the `start_index` is inclusive, `end_index` is *exclusive*; `step_size` is oftentimes omitted (it is one by default) - see the examples below:"
      ]
    },
    {
      "cell_type": "code",
      "metadata": {
        "id": "yTFI55UBEZFq",
        "outputId": "18fad655-07c7-40ae-e0d4-ba8ac5335852"
      },
      "source": [
        "# Import numpy and create a simple 1D array\n",
        "import numpy as np\n",
        "\n",
        "x = np.array([1, 2, 3, 4, 5, 6, 7, 8, 9])\n",
        "print(x)\n",
        "\n",
        "# The \"\\n\" introduces a newline\n",
        "print(\"\\nSelect first 3 elements (index [0:3])\")\n",
        "print( x[0:3] )\n",
        "\n",
        "print(\"\\nIf you select elements from the start of the array, you can omit the `start_index` (index [:3])\")\n",
        "print( x[:3] )\n",
        "\n",
        "print(\"\\nSelect all elements beyond the third (index [2:])\")\n",
        "print(\"Again, if you select elements up to the end of the array, you can omit the `end_index`\")\n",
        "print( x[2:] )"
      ],
      "execution_count": null,
      "outputs": [
        {
          "output_type": "stream",
          "text": [
            "[1 2 3 4 5 6 7 8 9]\n",
            "\n",
            "Select first 3 elements (index [0:3])\n",
            "[1 2 3]\n",
            "\n",
            "If you select elements from the start of the array, you can omit the `start_index` (index [:3])\n",
            "[1 2 3]\n",
            "\n",
            "Select all elements beyond the third (index [2:])\n",
            "Again, if you select elements up to the end of the array, you can omit the `end_index`\n",
            "[3 4 5 6 7 8 9]\n"
          ],
          "name": "stdout"
        }
      ]
    },
    {
      "cell_type": "code",
      "metadata": {
        "id": "oe0DE683EZFt",
        "outputId": "6ce51055-3c0f-4f42-dca2-5b3de5b9fdc2"
      },
      "source": [
        "# Import numpy and create a simple 1D array\n",
        "import numpy as np\n",
        "\n",
        "x = np.array([1, 2, 3, 4, 5, 6, 7, 8, 9])\n",
        "print(x)\n",
        "\n",
        "# The \"\\n\" introduces a newline\n",
        "print(\"\\nSelect the last element with a negative index (index [-1])\")\n",
        "print( x[-1] )\n",
        "\n",
        "print(\"\\nSelect the last 3 elements (index [-3:])\")\n",
        "print( x[-3:] )\n",
        "\n",
        "print(\"\\nSelect every second element (index [::2])\")\n",
        "print(\"Explanation: omit `start_index`, `end_index`, and set `step_size` to 2\")\n",
        "print( x[::2] )"
      ],
      "execution_count": null,
      "outputs": [
        {
          "output_type": "stream",
          "text": [
            "[1 2 3 4 5 6 7 8 9]\n",
            "\n",
            "Select the last element with a negative index (index [-1])\n",
            "9\n",
            "\n",
            "Select the last 3 elements (index [-3:])\n",
            "[7 8 9]\n",
            "\n",
            "Select every second element (index [::2])\n",
            "Explanation: omit `start_index`, `end_index`, and set `step_size` to 2\n",
            "[1 3 5 7 9]\n"
          ],
          "name": "stdout"
        }
      ]
    },
    {
      "cell_type": "code",
      "metadata": {
        "id": "WXpOyyU5EZFv",
        "outputId": "3d8af896-0f3e-42ff-bf85-f0c9548aac95"
      },
      "source": [
        "# Import numpy and create a simple 1D array\n",
        "import numpy as np\n",
        "\n",
        "x = np.array([[1, 2, 3, 4, 5],\n",
        "              [6, 7, 8, 9, 10],\n",
        "              [11, 12, 13, 14, 15]])\n",
        "print(x)\n",
        "\n",
        "# The \"\\n\" introduces a newline\n",
        "print(\"\\nSelect all rows except the first one (index [1:])\")\n",
        "print( x[1:] )\n",
        "\n",
        "# The \"\\n\" introduces a newline\n",
        "print(\"\\nSelect the second column (index [:, 1])\")\n",
        "print(\"Explanation: first index selects all rows, the second selects the column at index 1\")\n",
        "print( x[:, 1] )\n",
        "\n",
        "print(\"\\nSelect all columns after the third (index [:, 2:])\")\n",
        "print( x[:, 2:] )\n"
      ],
      "execution_count": null,
      "outputs": [
        {
          "output_type": "stream",
          "text": [
            "[[ 1  2  3  4  5]\n",
            " [ 6  7  8  9 10]\n",
            " [11 12 13 14 15]]\n",
            "\n",
            "Select all rows except the first one (index [1:])\n",
            "[[ 6  7  8  9 10]\n",
            " [11 12 13 14 15]]\n",
            "\n",
            "Select the second column (index [:, 1])\n",
            "Explanation: first index selects all rows, the second selects the column at index 1\n",
            "[ 2  7 12]\n",
            "\n",
            "Select all columns after the third (index [:, 2:])\n",
            "[[ 3  4  5]\n",
            " [ 8  9 10]\n",
            " [13 14 15]]\n"
          ],
          "name": "stdout"
        }
      ]
    },
    {
      "cell_type": "markdown",
      "metadata": {
        "id": "YH26gYagEZF0"
      },
      "source": [
        "## 1.4. Operations on NumPy Arrays\n",
        "\n",
        "Most mathematical operations (addition, exponentiation, trigonometric functions) are applied *element-wise* on NumPy arrays. Here are some examples - remember that any function that you'd need can probably be found via a Google search."
      ]
    },
    {
      "cell_type": "code",
      "metadata": {
        "id": "Rf-lAJJ_EZF0",
        "outputId": "81837ae6-9b2b-49b7-d1eb-33c8f55f2634"
      },
      "source": [
        "import numpy as np\n",
        "\n",
        "x = np.arange(10)\n",
        "\n",
        "print(\"x:\")\n",
        "print(x)\n",
        "\n",
        "print(\"\\n x ^ 2\")\n",
        "print(x ** 2)\n",
        "\n",
        "print(\"\\nnp.sin(x)\")\n",
        "print(np.sin(x))"
      ],
      "execution_count": null,
      "outputs": [
        {
          "output_type": "stream",
          "text": [
            "x:\n",
            "[0 1 2 3 4 5 6 7 8 9]\n",
            "\n",
            " x ^ 2\n",
            "[ 0  1  4  9 16 25 36 49 64 81]\n",
            "\n",
            "np.sin(x)\n",
            "[ 0.          0.84147098  0.90929743  0.14112001 -0.7568025  -0.95892427\n",
            " -0.2794155   0.6569866   0.98935825  0.41211849]\n"
          ],
          "name": "stdout"
        }
      ]
    },
    {
      "cell_type": "code",
      "metadata": {
        "id": "0_wGTavXEZF6",
        "outputId": "0f59c637-929d-41d6-b2b3-3a90f89bab09"
      },
      "source": [
        "import numpy as np\n",
        "\n",
        "x = np.ones((3, 3))\n",
        "y = np.eye(3)\n",
        "\n",
        "print(\"x:\")\n",
        "print(x)\n",
        "\n",
        "print(\"\\ny:\")\n",
        "print(y)\n",
        "\n",
        "print(\"\\nx * y (element-wise!)\")\n",
        "print(x * y)\n",
        "\n",
        "print(\"\\nx y (matrix multiplication)\")\n",
        "print(x @ y)"
      ],
      "execution_count": null,
      "outputs": [
        {
          "output_type": "stream",
          "text": [
            "x:\n",
            "[[1. 1. 1.]\n",
            " [1. 1. 1.]\n",
            " [1. 1. 1.]]\n",
            "\n",
            "y:\n",
            "[[1. 0. 0.]\n",
            " [0. 1. 0.]\n",
            " [0. 0. 1.]]\n",
            "\n",
            "x * y (element-wise!)\n",
            "[[1. 0. 0.]\n",
            " [0. 1. 0.]\n",
            " [0. 0. 1.]]\n",
            "\n",
            "x y (matrix multiplication)\n",
            "[[1. 1. 1.]\n",
            " [1. 1. 1.]\n",
            " [1. 1. 1.]]\n"
          ],
          "name": "stdout"
        }
      ]
    },
    {
      "cell_type": "markdown",
      "metadata": {
        "id": "d2YLIJ3TEZF9"
      },
      "source": [
        "## 1.5. Conditionals on NumPy Arrays\n",
        "\n",
        "A very powerful way of using NumPy arrays is *selecting elements based on a condition* (e.g. \"select all elements larger than 5\" or \"select all temperatures recorded after time = 5 s\"). Again, examples are better:"
      ]
    },
    {
      "cell_type": "code",
      "metadata": {
        "id": "Z-CRMoRqEZF-",
        "outputId": "798be81f-620c-41a8-c132-7b332def42ee"
      },
      "source": [
        "import numpy as np\n",
        "\n",
        "x = np.array([1, 2, 3, 4, 5, 6, 7, 8, 9])\n",
        "\n",
        "print(\"x:\")\n",
        "print(x)\n",
        "\n",
        "print(\"\\nApplying a condition on x: `x > 4`:\")\n",
        "print(x > 4)\n",
        "\n",
        "print(\"\\nThat is a so-called boolean mask - basically a vector of the same length as x filled with True and False\")\n",
        "print(\"We can use the boolean mask to index the array, like a selection: `x[ x > 4 ]`:\")\n",
        "print(x[ x > 4 ])"
      ],
      "execution_count": null,
      "outputs": [
        {
          "output_type": "stream",
          "text": [
            "x:\n",
            "[1 2 3 4 5 6 7 8 9]\n",
            "\n",
            "Applying a condition on x: `x > 4`:\n",
            "[False False False False  True  True  True  True  True]\n",
            "\n",
            "That is a so-called boolean mask - basically a vector of the same length as x filled with True and False\n",
            "We can use the boolean mask to index the array, like a selection: `x[ x > 4 ]`:\n",
            "[5 6 7 8 9]\n"
          ],
          "name": "stdout"
        }
      ]
    },
    {
      "cell_type": "code",
      "metadata": {
        "id": "x5MLqApcEZGB",
        "outputId": "e944b59c-d016-4612-e532-d9b043e5d003"
      },
      "source": [
        "import numpy as np\n",
        "\n",
        "x = np.array([1, 2, 3, 4, 5, 6, 7, 8, 9])\n",
        "\n",
        "print(\"x:\")\n",
        "print(x)\n",
        "\n",
        "print(\"\\nBoolean masks can be combined - parantheses are important!: `(x > 4) & (x < 8)`:\")\n",
        "print( (x > 4) & (x < 8) )\n",
        "\n",
        "print(\"\\nAnd the combined boolean masks can be used to select elements of the array: `x[ (x > 4) & (x < 8) ]`\")\n",
        "print( x[ (x > 4) & (x < 8) ] )"
      ],
      "execution_count": null,
      "outputs": [
        {
          "output_type": "stream",
          "text": [
            "x:\n",
            "[1 2 3 4 5 6 7 8 9]\n",
            "\n",
            "Boolean masks can be combined - parantheses are important!: `(x > 4) & (x < 8)`:\n",
            "[False False False False  True  True  True False False]\n",
            "\n",
            "And the combined boolean masks can be used to select elements of the array: `x[ (x > 4) & (x < 8) ]`\n",
            "[5 6 7]\n"
          ],
          "name": "stdout"
        }
      ]
    },
    {
      "cell_type": "code",
      "metadata": {
        "id": "Lqbxa0OTEZGE",
        "outputId": "e9979686-567f-4c29-d11d-bcf2da641e32"
      },
      "source": [
        "import numpy as np\n",
        "\n",
        "x = np.array([[1, 2, 3],\n",
        "              [4, 5, 6],\n",
        "              [7, 8, 9],\n",
        "              [10, 11, 12],\n",
        "              [13, 14, 15]])\n",
        "\n",
        "print(\"x:\")\n",
        "print(x)\n",
        "\n",
        "print(\"\\nFinally, you can do more advanced indexing using masks, like using a\")\n",
        "print(\"column in a matrix to select rows. For example, select all rows whose\")\n",
        "print(\"first column has a value larger than 5.\")\n",
        "\n",
        "print(\"\\nLet's break this down into subproblems: first select the first column - `x[:, 0]`:\")\n",
        "print(x[:, 0])\n",
        "\n",
        "print(\"\\nNow execute our condition on the first column - `x[:, 0] > 5`:\")\n",
        "print(x[:, 0] > 5)\n",
        "\n",
        "print(\"\\nNow this mask can be used on the initial array to select rows - `x[ x[:, 0] > 5 ]`:\")\n",
        "print(x[ x[:, 0] > 5 ])"
      ],
      "execution_count": null,
      "outputs": [
        {
          "output_type": "stream",
          "text": [
            "x:\n",
            "[[ 1  2  3]\n",
            " [ 4  5  6]\n",
            " [ 7  8  9]\n",
            " [10 11 12]\n",
            " [13 14 15]]\n",
            "\n",
            "Finally, you can do more advanced indexing using masks, like using a\n",
            "column in a matrix to select rows. For example, select all rows whose\n",
            "first column has a value larger than 5.\n",
            "\n",
            "Let's break this down into subproblems: first select the first column - `x[:, 0]`:\n",
            "[ 1  4  7 10 13]\n",
            "\n",
            "Now execute our condition on the first column - `x[:, 0] > 5`:\n",
            "[False False  True  True  True]\n",
            "\n",
            "Now this mask can be used on the initial array to select rows - `x[ x[:, 0] > 5 ]`:\n",
            "[[ 7  8  9]\n",
            " [10 11 12]\n",
            " [13 14 15]]\n"
          ],
          "name": "stdout"
        }
      ]
    },
    {
      "cell_type": "markdown",
      "metadata": {
        "id": "_hizE22sEZGH"
      },
      "source": [
        "# 2. Matplotlib Basics\n",
        "\n",
        "Matplotlib (_**Mat**rix **Plot**ting **Lib**rary_) is a very popular plotting library in Python. It is very easy to use and produces decent-looking graphs over which you have quite a bit of control (much, much more than, say, Excel). It does have a few drawbacks, stemming mostly from its MATLAB inspiration - but there are also quite a few libraries building on top of Matplotlib, solving most of its problems; and producing even prettier graphs.\n",
        "\n",
        "A useful resource for creating fancy Matplotlib figures is the `examples` section on their website - it has a large selection of pre-written plots whose code you can steal:\n",
        "https://matplotlib.org/3.3.2/gallery/index.html.\n",
        "\n",
        "For the basics, though, you have the commented examples below:"
      ]
    },
    {
      "cell_type": "code",
      "metadata": {
        "id": "cWglnqUGEZGH",
        "outputId": "04600054-3faa-4eec-b6ff-daec7ad1d6b9"
      },
      "source": [
        "# Import numpy\n",
        "import numpy as np\n",
        "\n",
        "# Import the matplotlib plotter\n",
        "import matplotlib.pyplot as plt\n",
        "\n",
        "# Create a numpy array with 100 equally-spaced values between 0 and 2\n",
        "x = np.linspace(0, 2, 100)   # Linear space, between 0 and 2, with 100 equally-spaced values\n",
        "y = 2 * x + 4                # Typical y = f(x) = ax + b transformation\n",
        "\n",
        "# To draw the x-y pairs of points, call the `plot` function from the matplotlib plotter\n",
        "plt.plot(x, y)\n",
        "\n",
        "# Need to call `show` to render the figure\n",
        "plt.show()"
      ],
      "execution_count": null,
      "outputs": [
        {
          "output_type": "display_data",
          "data": {
            "image/png": "[encoded data removed]",
            "text/plain": [
              "<Figure size 432x288 with 1 Axes>"
            ]
          },
          "metadata": {
            "tags": [],
            "needs_background": "light"
          }
        }
      ]
    },
    {
      "cell_type": "code",
      "metadata": {
        "id": "gpEkCoQEEZGK",
        "outputId": "6c26dca1-7f62-4694-ee41-a80b436e4844"
      },
      "source": [
        "# Import numpy\n",
        "import numpy as np\n",
        "\n",
        "# Import the matplotlib plotter\n",
        "import matplotlib.pyplot as plt\n",
        "\n",
        "# Create a numpy array with 100 equally-spaced values between 0 and 2\n",
        "x = np.linspace(0, 2, 100)        # Linear space, between 0 and 2, with 100 equally-spaced values\n",
        "y = x**3 - 4 * x**2 + 5 * x + 5   # Typical 3rd order polynomial y = p(x) = ax^3 + bx^2 + cx + d\n",
        "\n",
        "plt.plot(x, y)\n",
        "plt.title(\"Simple Plot\")   # Add a plot title above the figure\n",
        "plt.grid()                 # Add grid lines\n",
        "\n",
        "plt.show()"
      ],
      "execution_count": null,
      "outputs": [
        {
          "output_type": "display_data",
          "data": {
            "image/png": "[encoded data removed]",
            "text/plain": [
              "<Figure size 432x288 with 1 Axes>"
            ]
          },
          "metadata": {
            "tags": [],
            "needs_background": "light"
          }
        }
      ]
    },
    {
      "cell_type": "code",
      "metadata": {
        "id": "gSMpZJCZEZGN",
        "outputId": "fa0b2a99-52ab-4868-f5f9-3c1d9f8425cb"
      },
      "source": [
        "import numpy as np\n",
        "import matplotlib.pyplot as plt\n",
        "\n",
        "x = np.linspace(0, 2, 100)\n",
        "\n",
        "# When plotting, you can add a `label` keyword argument for specifying\n",
        "# different names for each plot. Call `plt.legend()` to show their labels\n",
        "plt.plot(x, x, label='linear')\n",
        "plt.plot(x, x**2, label='quadratic')\n",
        "plt.plot(x, x**3, label='cubic')\n",
        "\n",
        "# Set the x-axis title\n",
        "plt.xlabel('x label')\n",
        "plt.ylabel('y label')\n",
        "\n",
        "plt.title(\"Simple Plot\")\n",
        "plt.legend()\n",
        "plt.grid()\n",
        "\n",
        "plt.show()"
      ],
      "execution_count": null,
      "outputs": [
        {
          "output_type": "display_data",
          "data": {
            "image/png": "[encoded data removed]",
            "text/plain": [
              "<Figure size 432x288 with 1 Axes>"
            ]
          },
          "metadata": {
            "tags": [],
            "needs_background": "light"
          }
        }
      ]
    },
    {
      "cell_type": "markdown",
      "metadata": {
        "id": "npoNjGCQEZGP"
      },
      "source": [
        "---\n",
        "\n",
        "One of the drawbacks mentioned earlier is the fact that there are always two ways to do the same thing in Matplotlib. The previous examples show the Matplotlib **\"stateful\"** plotting (stateful in the sense that is keeps track of a global state containing your plot) - which is great for quickly plotting things.\n",
        "\n",
        "But what if we want multiple plots in the same code? Well, then we'd need to use the **\"object-oriented style\"** Matplotlib interface, in which we are explicitly handling each individual figure; but this method really shines when drawing multiple subplots in the same figure - see below."
      ]
    },
    {
      "cell_type": "code",
      "metadata": {
        "id": "2MkUg2yfEZGQ",
        "outputId": "5755414d-1676-4bde-be0f-6191d80869d1"
      },
      "source": [
        "import numpy as np\n",
        "import matplotlib.pyplot as plt\n",
        "\n",
        "x = np.linspace(0, 10, 100)\n",
        "y = np.sin(x)\n",
        "\n",
        "# Here is the object-oriented Matplotlib style: a call to `plt.subplots()`\n",
        "# creates a figure and *an axis for each individual subplot*.\n",
        "fig, ax = plt.subplots()   # Creates a subplot with one figure by default\n",
        "\n",
        "# Now call the `plot` function *on the axis that you want*.\n",
        "# Previously, it was `plt.plot(x, y)`\n",
        "# Here it is `ax.plot(x, y)`\n",
        "ax.plot(x, y)\n",
        "\n",
        "plt.show()"
      ],
      "execution_count": null,
      "outputs": [
        {
          "output_type": "display_data",
          "data": {
            "image/png": "[encoded data removed]",
            "text/plain": [
              "<Figure size 432x288 with 1 Axes>"
            ]
          },
          "metadata": {
            "tags": [],
            "needs_background": "light"
          }
        }
      ]
    },
    {
      "cell_type": "code",
      "metadata": {
        "id": "YZao-mykEZGT",
        "outputId": "60d091fd-b197-4208-c37a-5baff80de478"
      },
      "source": [
        "import numpy as np\n",
        "import matplotlib.pyplot as plt\n",
        "\n",
        "x = np.linspace(0, 10, 100)\n",
        "y = np.sin(x)\n",
        "\n",
        "# Create a figure with multiple subplots: one row and 2 columns.\n",
        "# The call to `subplots` then returns a figure and *a list of axes*\n",
        "fig, axes = plt.subplots(1, 2)\n",
        "\n",
        "print(\"Created a list of axes:\")\n",
        "print(axes)\n",
        "\n",
        "# Access each axis in the `axes` list using the subscript notation (square brackets)\n",
        "axes[0].plot(x, y, 'go')                        # 'g' means green, 'o' means points\n",
        "axes[1].plot(x, y, marker = 'x', color = 'r')   # another way of setting the marker and colour\n",
        "plt.show()"
      ],
      "execution_count": null,
      "outputs": [
        {
          "output_type": "stream",
          "text": [
            "Created a list of axes:\n",
            "[<matplotlib.axes._subplots.AxesSubplot object at 0x7ff2cedfc790>\n",
            " <matplotlib.axes._subplots.AxesSubplot object at 0x7ff2cede0490>]\n"
          ],
          "name": "stdout"
        },
        {
          "output_type": "display_data",
          "data": {
            "image/png": "[encoded data removed]",
            "text/plain": [
              "<Figure size 432x288 with 2 Axes>"
            ]
          },
          "metadata": {
            "tags": [],
            "needs_background": "light"
          }
        }
      ]
    },
    {
      "cell_type": "markdown",
      "metadata": {
        "id": "Lgq276wgEZGW"
      },
      "source": [
        "# 3. Plotly Basics\n",
        "\n",
        "**Plotly** is a modern plotting library that is natively written in JavaScript (a more verbose, but faster programming language than Python, that runs in web browsers). It simply has interfaces to other programming languages - which is why you can use it from Python, MATLAB, R, Julia, etc.\n",
        "\n",
        "It is widely used by companies for creating visualisations and dashboards. It is **very fast** (it can plot 100,000 points with ease, something Matplotlib struggles with) and produces *gorgeous-looking* graphs.\n",
        "\n",
        "Plotly, like Matplotlib, has a gallery of pre-written graphs whose code you can steal: https://plotly.com/python/."
      ]
    },
    {
      "cell_type": "markdown",
      "metadata": {
        "id": "sKJDoVZsEZGW"
      },
      "source": [
        "The fundamental concept in Plotly is the *trace*: a single graph that you can add to any figure; a single line added to a subplot is *one trace*. You can add multiple traces to a single figure.\n",
        "\n",
        "Plotly is not a \"core\" Python library like NumPy, so it might not be available on all systems. Simply install it using `pip`, Python's nice package manager."
      ]
    },
    {
      "cell_type": "code",
      "metadata": {
        "id": "uISkR1FiEZGX",
        "outputId": "aa87f78f-f22b-474f-919b-a22b73a60ba7"
      },
      "source": [
        "# Use an exclamation mark in front of system commands outside of Python:\n",
        "!pip install plotly"
      ],
      "execution_count": null,
      "outputs": [
        {
          "output_type": "stream",
          "text": [
            "Requirement already satisfied: plotly in /usr/local/anaconda3/lib/python3.7/site-packages (4.6.0)\n",
            "Requirement already satisfied: six in /usr/local/anaconda3/lib/python3.7/site-packages (from plotly) (1.14.0)\n",
            "Requirement already satisfied: retrying>=1.3.3 in /usr/local/anaconda3/lib/python3.7/site-packages (from plotly) (1.3.3)\n"
          ],
          "name": "stdout"
        }
      ]
    },
    {
      "cell_type": "code",
      "metadata": {
        "id": "eD4yGv_uEZGa"
      },
      "source": [
        "# This does not seem to show a plot in JupyterLab (as opposed to Jupyter\n",
        "# Notebook or Google Colab). If you're in a JupyterLab instance, uncomment\n",
        "# and run the following two lines to show the plot in another browser tab:\n",
        "\n",
        "#import plotly.io as pio\n",
        "#pio.renderers.default = \"browser\"\n",
        "\n",
        "\n",
        "import plotly.graph_objects as go\n",
        "import numpy as np\n",
        "\n",
        "data_x = np.linspace(0, 10, 100)\n",
        "data_y = np.sin(data_x)\n",
        "\n",
        "fig = go.Figure()\n",
        "\n",
        "# A trace is an individual graph. Multiple traces can be\n",
        "# displayed on a single figure.\n",
        "trace = go.Scatter(x = data_x, y = data_y)\n",
        "\n",
        "# Add the trace to the figure and render it\n",
        "fig.add_trace(trace)\n",
        "fig.show()"
      ],
      "execution_count": null,
      "outputs": []
    },
    {
      "cell_type": "code",
      "metadata": {
        "id": "N54bomsnEZGd"
      },
      "source": [
        "# This does not seem to show a plot in JupyterLab (as opposed to Jupyter\n",
        "# Notebook or Google Colab). If you're in a JupyterLab instance, uncomment\n",
        "# and run the following two lines to show the plot in another browser tab:\n",
        "\n",
        "#import plotly.io as pio\n",
        "#pio.renderers.default = \"browser\"\n",
        "\n",
        "\n",
        "import plotly.graph_objects as go\n",
        "import numpy as np\n",
        "\n",
        "data_x = np.random.random(100) * 10\n",
        "data_y = np.random.random(100) * 10\n",
        "data_z = np.random.random(100) * 10\n",
        "\n",
        "fig = go.Figure()\n",
        "\n",
        "# A trace is an individual graph. Multiple traces can be\n",
        "# displayed on a single figure.\n",
        "trace = go.Scatter3d(\n",
        "    x = data_x,\n",
        "    y = data_y,\n",
        "    z = data_z,\n",
        "    mode = 'markers',\n",
        "    marker = dict(\n",
        "        color = data_z,   # Encode z as a colorbar\n",
        "    )\n",
        ")\n",
        "\n",
        "fig.add_trace(trace)\n",
        "fig.show()"
      ],
      "execution_count": null,
      "outputs": []
    },
    {
      "cell_type": "markdown",
      "metadata": {
        "id": "PlMRfLw4EZGf"
      },
      "source": [
        "# 4. Slicing & Dicing Data\n",
        "\n",
        "Some of the main reasons we use programming languages are to crunch numbers, process data and extract information from it, then plot those results in human-comprehensible graphs. The process of extracting insights from any kind of data using modern tools such as Machine Learning (ML) is now commonly known as **Data Science**.\n",
        "\n",
        "Throughout your degrees you will learn many Data Science-inspired techniques - from solving large-scale PDEs to optimisation methods - but your great advantage in comparison with \"pure\" data scientists, computer scientists and mathematicians is your **knowledge of the field**. When looking at data as a chemical engineer, you *will* know the underlying physics of it and **whether it makes sense**. Don't tell your CS friends, but you can steal code off Google for almost anything, but you can't steal heat transfer understanding.\n",
        "\n",
        "This section of the notebook contains a few engineering-specific problems to solve using code. It includes pre-written code, open-ended questions and directions for other techniques you can use on data you acquire in labs. It is more than recommended to take the given code and modify it to solve other problems, now and in the future!\n",
        "\n",
        "For most of the problems in this section, we will generate visualisations - something that is essential for any coursework or job in the future. The most important kinds of plots you should familiarise yourself with during your degree are:\n",
        "1. Scatter plots, either 2D or 3D - though in 3D interactivity is important (i.e. being able to rotate the graph).\n",
        "2. Histograms\n",
        "3. Heatmaps - essentially 3D plots where the third dimension is colour-coded.\n",
        "4. Surface plots - important in Design of Experiments and Thermodynamics.\n"
      ]
    },
    {
      "cell_type": "markdown",
      "metadata": {
        "id": "W4bQScVGEZGf"
      },
      "source": [
        "## 4.1. Covid Data\n",
        "\n",
        "Unsurprisingly, the first exercise is something related to the Covid-19 pandemic - it's a bit less scary when you are in charge of making graphs and analysing them! There is an online, public dataset updated everyday by [Our World in Data](https://ourworldindata.org/coronavirus-source-data), which we can access to see data like the number of new cases in any country or continent in the world. Let's see this for the UK!\n",
        "\n",
        "The data will be read in from the online location using the `Pandas` library - it is an extension to NumPy better suited for tabular data like you would have in Excel. We will not teach or use `Pandas` in this course (\"Thank God!\" I hear you scream) - we only use it to read in data into a more familiar NumPy array that you can slice and dice."
      ]
    },
    {
      "cell_type": "code",
      "metadata": {
        "id": "ieWx7uB2EZGg"
      },
      "source": [
        "###\n",
        "### Pre-written code for reading in data from the online location using Pandas\n",
        "### You don't have to understand it now! Though it should be fairly comprehensible\n",
        "###\n",
        "import numpy as np\n",
        "import pandas as pd\n",
        "\n",
        "# Read in Covid data from online location and select only entries for United Kingdom\n",
        "data = pd.read_csv(\"https://raw.githubusercontent.com/owid/covid-19-data/master/public/data/owid-covid-data.csv\")\n",
        "data_uk = data[ data[\"location\"] == \"United Kingdom\" ]\n",
        "\n",
        "# Transform strings like \"2020-01-01\" into a datetime\n",
        "dates = pd.to_datetime(data_uk[\"date\"])\n",
        "new_cases = data_uk[\"new_cases\"]\n",
        "\n",
        "# Select only data from 2020\n",
        "dates2020 = dates[dates >= np.datetime64(\"2020\")]\n",
        "new_cases2020 = new_cases[dates >= np.datetime64(\"2020\")]\n",
        "\n",
        "# Transform dates into the day in the year (e.g. 2020-01-01 -> 1)\n",
        "# and transform them from Pandas DataFrames into numpy arrays\n",
        "day = dates2020.dt.dayofyear.to_numpy()\n",
        "new_cases2020 = new_cases2020.to_numpy()\n",
        "\n",
        "cases = np.vstack((day, new_cases2020)).T\n",
        "###\n",
        "### End of pre-written code.\n",
        "###"
      ],
      "execution_count": null,
      "outputs": []
    },
    {
      "cell_type": "code",
      "metadata": {
        "id": "qmvaCf_yEZGi",
        "outputId": "bb18e8d5-2d61-48f9-dfb1-88af04d34bec"
      },
      "source": [
        "# If you run the cell above, the variables created will be saved and be\n",
        "# available in other cells too. We will use the `cases` variable which\n",
        "# contains the 2020 day number in the first column, and the number of\n",
        "# new cases in the second column\n",
        "import numpy as np\n",
        "\n",
        "print(\"New cases of Covid-19 in the UK in 2020 - variable `cases`:\")\n",
        "print(cases)\n",
        "\n",
        "print(\"\\nThe first column is the 2020 day number (e.g. 1/1/2020 is 1)\")\n",
        "print(\"The second column is the number of new cases on that day\")"
      ],
      "execution_count": null,
      "outputs": [
        {
          "output_type": "stream",
          "text": [
            "New cases of Covid-19 in the UK in 2020 - variable `cases`:\n",
            "[[1.0000e+00 0.0000e+00]\n",
            " [2.0000e+00 0.0000e+00]\n",
            " [3.0000e+00 0.0000e+00]\n",
            " [4.0000e+00 0.0000e+00]\n",
            " [5.0000e+00 0.0000e+00]\n",
            " [6.0000e+00 0.0000e+00]\n",
            " [7.0000e+00 0.0000e+00]\n",
            " [8.0000e+00 0.0000e+00]\n",
            " [9.0000e+00 0.0000e+00]\n",
            " [1.0000e+01 0.0000e+00]\n",
            " [1.1000e+01 0.0000e+00]\n",
            " [1.2000e+01 0.0000e+00]\n",
            " [1.3000e+01 0.0000e+00]\n",
            " [1.4000e+01 0.0000e+00]\n",
            " [1.5000e+01 0.0000e+00]\n",
            " [1.6000e+01 0.0000e+00]\n",
            " [1.7000e+01 0.0000e+00]\n",
            " [1.8000e+01 0.0000e+00]\n",
            " [1.9000e+01 0.0000e+00]\n",
            " [2.0000e+01 0.0000e+00]\n",
            " [2.1000e+01 0.0000e+00]\n",
            " [2.2000e+01 0.0000e+00]\n",
            " [2.3000e+01 0.0000e+00]\n",
            " [2.4000e+01 0.0000e+00]\n",
            " [2.5000e+01 0.0000e+00]\n",
            " [2.6000e+01 0.0000e+00]\n",
            " [2.7000e+01 0.0000e+00]\n",
            " [2.8000e+01 0.0000e+00]\n",
            " [2.9000e+01 0.0000e+00]\n",
            " [3.0000e+01 0.0000e+00]\n",
            " [3.1000e+01 0.0000e+00]\n",
            " [3.2000e+01 2.0000e+00]\n",
            " [3.3000e+01 0.0000e+00]\n",
            " [3.4000e+01 0.0000e+00]\n",
            " [3.5000e+01 0.0000e+00]\n",
            " [3.6000e+01 1.0000e+00]\n",
            " [3.7000e+01 0.0000e+00]\n",
            " [3.8000e+01 1.0000e+00]\n",
            " [3.9000e+01 0.0000e+00]\n",
            " [4.0000e+01 0.0000e+00]\n",
            " [4.1000e+01 4.0000e+00]\n",
            " [4.2000e+01 1.0000e+00]\n",
            " [4.3000e+01 0.0000e+00]\n",
            " [4.4000e+01 1.0000e+00]\n",
            " [4.5000e+01 0.0000e+00]\n",
            " [4.6000e+01 0.0000e+00]\n",
            " [4.7000e+01 0.0000e+00]\n",
            " [4.8000e+01 0.0000e+00]\n",
            " [4.9000e+01 0.0000e+00]\n",
            " [5.0000e+01 0.0000e+00]\n",
            " [5.1000e+01 0.0000e+00]\n",
            " [5.2000e+01 0.0000e+00]\n",
            " [5.3000e+01 0.0000e+00]\n",
            " [5.4000e+01 1.0000e+00]\n",
            " [5.5000e+01 0.0000e+00]\n",
            " [5.6000e+01 0.0000e+00]\n",
            " [5.7000e+01 2.0000e+00]\n",
            " [5.8000e+01 5.0000e+00]\n",
            " [5.9000e+01 4.0000e+00]\n",
            " [6.0000e+01 8.0000e+00]\n",
            " [6.1000e+01 1.2000e+01]\n",
            " [6.2000e+01 5.0000e+00]\n",
            " [6.3000e+01 2.2000e+01]\n",
            " [6.4000e+01 4.0000e+01]\n",
            " [6.5000e+01 5.5000e+01]\n",
            " [6.6000e+01 5.6000e+01]\n",
            " [6.7000e+01 5.1000e+01]\n",
            " [6.8000e+01 8.1000e+01]\n",
            " [6.9000e+01 6.0000e+01]\n",
            " [7.0000e+01 5.7000e+01]\n",
            " [7.1000e+01 1.4800e+02]\n",
            " [7.2000e+01 2.5900e+02]\n",
            " [7.3000e+01 4.0600e+02]\n",
            " [7.4000e+01 4.8400e+02]\n",
            " [7.5000e+01 4.7800e+02]\n",
            " [7.6000e+01 3.6100e+02]\n",
            " [7.7000e+01 4.4200e+02]\n",
            " [7.8000e+01 6.1100e+02]\n",
            " [7.9000e+01 7.6900e+02]\n",
            " [8.0000e+01 9.9900e+02]\n",
            " [8.1000e+01 1.0550e+03]\n",
            " [8.2000e+01 1.2550e+03]\n",
            " [8.3000e+01 1.1980e+03]\n",
            " [8.4000e+01 1.3780e+03]\n",
            " [8.5000e+01 2.3380e+03]\n",
            " [8.6000e+01 2.3750e+03]\n",
            " [8.7000e+01 2.6920e+03]\n",
            " [8.8000e+01 3.0870e+03]\n",
            " [8.9000e+01 3.1970e+03]\n",
            " [9.0000e+01 2.8220e+03]\n",
            " [9.1000e+01 2.8580e+03]\n",
            " [9.2000e+01 4.2730e+03]\n",
            " [9.3000e+01 4.5140e+03]\n",
            " [9.4000e+01 4.9130e+03]\n",
            " [9.5000e+01 4.8680e+03]\n",
            " [9.6000e+01 4.9110e+03]\n",
            " [9.7000e+01 4.0200e+03]\n",
            " [9.8000e+01 3.5920e+03]\n",
            " [9.9000e+01 5.2820e+03]\n",
            " [1.0000e+02 5.4500e+03]\n",
            " [1.0100e+02 5.1310e+03]\n",
            " [1.0200e+02 4.8580e+03]\n",
            " [1.0300e+02 4.3130e+03]\n",
            " [1.0400e+02 3.5790e+03]\n",
            " [1.0500e+02 3.4890e+03]\n",
            " [1.0600e+02 4.1780e+03]\n",
            " [1.0700e+02 4.3260e+03]\n",
            " [1.0800e+02 5.0650e+03]\n",
            " [1.0900e+02 5.2920e+03]\n",
            " [1.1000e+02 4.9560e+03]\n",
            " [1.1100e+02 4.7210e+03]\n",
            " [1.1200e+02 3.8530e+03]\n",
            " [1.1300e+02 4.8540e+03]\n",
            " [1.1400e+02 4.7600e+03]\n",
            " [1.1500e+02 5.4870e+03]\n",
            " [1.1600e+02 5.1580e+03]\n",
            " [1.1700e+02 4.9700e+03]\n",
            " [1.1800e+02 3.7480e+03]\n",
            " [1.1900e+02 3.4730e+03]\n",
            " [1.2000e+02 4.7060e+03]\n",
            " [1.2100e+02 4.7290e+03]\n",
            " [1.2200e+02 5.4420e+03]\n",
            " [1.2300e+02 4.9660e+03]\n",
            " [1.2400e+02 4.7370e+03]\n",
            " [1.2500e+02 3.2290e+03]\n",
            " [1.2600e+02 2.9820e+03]\n",
            " [1.2700e+02 3.3890e+03]\n",
            " [1.2800e+02 3.6820e+03]\n",
            " [1.2900e+02 3.8270e+03]\n",
            " [1.3000e+02 3.7670e+03]\n",
            " [1.3100e+02 3.0630e+03]\n",
            " [1.3200e+02 2.1570e+03]\n",
            " [1.3300e+02 2.3290e+03]\n",
            " [1.3400e+02 3.5860e+03]\n",
            " [1.3500e+02 3.4020e+03]\n",
            " [1.3600e+02 3.3070e+03]\n",
            " [1.3700e+02 2.6280e+03]\n",
            " [1.3800e+02 2.5260e+03]\n",
            " [1.3900e+02 2.0790e+03]\n",
            " [1.4000e+02 1.8380e+03]\n",
            " [1.4100e+02 2.5890e+03]\n",
            " [1.4200e+02 3.0520e+03]\n",
            " [1.4300e+02 2.7180e+03]\n",
            " [1.4400e+02 2.5740e+03]\n",
            " [1.4500e+02 2.0620e+03]\n",
            " [1.4600e+02 1.5270e+03]\n",
            " [1.4700e+02 1.3640e+03]\n",
            " [1.4800e+02 1.6240e+03]\n",
            " [1.4900e+02 1.6720e+03]\n",
            " [1.5000e+02 1.8350e+03]\n",
            " [1.5100e+02 1.7600e+03]\n",
            " [1.5200e+02 1.5270e+03]\n",
            " [1.5300e+02 1.1250e+03]\n",
            " [1.5400e+02 1.0790e+03]\n",
            " [1.5500e+02 1.4410e+03]\n",
            " [1.5600e+02 1.4840e+03]\n",
            " [1.5700e+02 1.3560e+03]\n",
            " [1.5800e+02 1.2430e+03]\n",
            " [1.5900e+02 1.1200e+03]\n",
            " [1.6000e+02 8.0100e+02]\n",
            " [1.6100e+02 7.2100e+02]\n",
            " [1.6200e+02 1.0990e+03]\n",
            " [1.6300e+02 1.1580e+03]\n",
            " [1.6400e+02 1.1990e+03]\n",
            " [1.6500e+02 1.0170e+03]\n",
            " [1.6600e+02 1.0520e+03]\n",
            " [1.6700e+02 8.9000e+02]\n",
            " [1.6800e+02 8.2200e+02]\n",
            " [1.6900e+02 1.0430e+03]\n",
            " [1.7000e+02 1.1020e+03]\n",
            " [1.7100e+02 1.0130e+03]\n",
            " [1.7200e+02 1.0270e+03]\n",
            " [1.7300e+02 9.8600e+02]\n",
            " [1.7400e+02 6.8700e+02]\n",
            " [1.7500e+02 6.3900e+02]\n",
            " [1.7600e+02 8.9600e+02]\n",
            " [1.7700e+02 8.8600e+02]\n",
            " [1.7800e+02 7.7800e+02]\n",
            " [1.7900e+02 7.2100e+02]\n",
            " [1.8000e+02 6.7100e+02]\n",
            " [1.8100e+02 6.4900e+02]\n",
            " [1.8200e+02 4.4600e+02]\n",
            " [1.8300e+02 7.3000e+02]\n",
            " [1.8400e+02 6.1700e+02]\n",
            " [1.8500e+02 6.5100e+02]\n",
            " [1.8600e+02 6.0200e+02]\n",
            " [1.8700e+02 5.7900e+02]\n",
            " [1.8800e+02 4.0100e+02]\n",
            " [1.8900e+02 5.5500e+02]\n",
            " [1.9000e+02 7.0400e+02]\n",
            " [1.9100e+02 5.9700e+02]\n",
            " [1.9200e+02 6.9300e+02]\n",
            " [1.9300e+02 7.1500e+02]\n",
            " [1.9400e+02 5.6500e+02]\n",
            " [1.9500e+02 4.4200e+02]\n",
            " [1.9600e+02 3.6100e+02]\n",
            " [1.9700e+02 7.2600e+02]\n",
            " [1.9800e+02 6.8500e+02]\n",
            " [1.9900e+02 7.7200e+02]\n",
            " [2.0000e+02 7.0400e+02]\n",
            " [2.0100e+02 5.6900e+02]\n",
            " [2.0200e+02 4.9300e+02]\n",
            " [2.0300e+02 4.1300e+02]\n",
            " [2.0400e+02 7.9300e+02]\n",
            " [2.0500e+02 7.5100e+02]\n",
            " [2.0600e+02 7.7300e+02]\n",
            " [2.0700e+02 7.3100e+02]\n",
            " [2.0800e+02 6.6700e+02]\n",
            " [2.0900e+02 4.2100e+02]\n",
            " [2.1000e+02 3.7100e+02]\n",
            " [2.1100e+02 7.0000e+01]\n",
            " [2.1200e+02 7.6300e+02]\n",
            " [2.1300e+02 8.4600e+02]\n",
            " [2.1400e+02 8.8000e+02]\n",
            " [2.1500e+02 7.7100e+02]\n",
            " [2.1600e+02 7.4300e+02]\n",
            " [2.1700e+02 9.2800e+02]\n",
            " [2.1800e+02 6.7000e+02]\n",
            " [2.1900e+02 8.9100e+02]\n",
            " [2.2000e+02 9.5000e+02]\n",
            " [2.2100e+02 8.7100e+02]\n",
            " [2.2200e+02 7.5800e+02]\n",
            " [2.2300e+02 1.0620e+03]\n",
            " [2.2400e+02 8.1600e+02]\n",
            " [2.2500e+02 1.1480e+03]\n",
            " [2.2600e+02 1.0090e+03]\n",
            " [2.2700e+02 1.1290e+03]\n",
            " [2.2800e+02 1.4400e+03]\n",
            " [2.2900e+02 1.0770e+03]\n",
            " [2.3000e+02 1.0400e+03]\n",
            " [2.3100e+02 7.1300e+02]\n",
            " [2.3200e+02 1.0890e+03]\n",
            " [2.3300e+02 8.1200e+02]\n",
            " [2.3400e+02 1.1820e+03]\n",
            " [2.3500e+02 1.0330e+03]\n",
            " [2.3600e+02 1.2880e+03]\n",
            " [2.3700e+02 1.0410e+03]\n",
            " [2.3800e+02 9.7200e+02]\n",
            " [2.3900e+02 1.1840e+03]\n",
            " [2.4000e+02 1.0480e+03]\n",
            " [2.4100e+02 1.5220e+03]\n",
            " [2.4200e+02 1.2760e+03]\n",
            " [2.4300e+02 1.1080e+03]\n",
            " [2.4400e+02 1.7150e+03]\n",
            " [2.4500e+02 1.4060e+03]\n",
            " [2.4600e+02 1.2950e+03]\n",
            " [2.4700e+02 1.5080e+03]\n",
            " [2.4800e+02 1.7350e+03]\n",
            " [2.4900e+02 1.9400e+03]\n",
            " [2.5000e+02 1.8130e+03]\n",
            " [2.5100e+02 2.9880e+03]\n",
            " [2.5200e+02 2.9480e+03]\n",
            " [2.5300e+02 2.4600e+03]\n",
            " [2.5400e+02 2.6590e+03]\n",
            " [2.5500e+02 2.9190e+03]\n",
            " [2.5600e+02 3.5390e+03]\n",
            " [2.5700e+02 3.4970e+03]\n",
            " [2.5800e+02 3.3300e+03]\n",
            " [2.5900e+02 2.6210e+03]\n",
            " [2.6000e+02 3.1030e+03]\n",
            " [2.6100e+02 3.9910e+03]\n",
            " [2.6200e+02 3.3950e+03]\n",
            " [2.6300e+02 4.3220e+03]\n",
            " [2.6400e+02 4.4220e+03]\n",
            " [2.6500e+02 3.8990e+03]\n",
            " [2.6600e+02 4.3680e+03]\n",
            " [2.6700e+02 4.9260e+03]\n",
            " [2.6800e+02 6.1780e+03]\n",
            " [2.6900e+02 6.6340e+03]\n",
            " [2.7000e+02 6.8730e+03]\n",
            " [2.7100e+02 6.0410e+03]\n",
            " [2.7200e+02 5.6920e+03]\n",
            " [2.7300e+02 4.0440e+03]\n",
            " [2.7400e+02 7.1430e+03]\n",
            " [2.7500e+02 7.1080e+03]\n",
            " [2.7600e+02 6.9140e+03]\n",
            " [2.7700e+02 6.9680e+03]\n",
            " [2.7800e+02 1.2871e+04]\n",
            " [2.7900e+02 2.2961e+04]\n",
            " [2.8000e+02 1.2593e+04]\n",
            " [2.8100e+02 1.4542e+04]\n",
            " [2.8200e+02 1.4162e+04]\n",
            " [2.8300e+02 1.7540e+04]\n",
            " [2.8400e+02 1.3864e+04]\n",
            " [2.8500e+02 1.5165e+04]\n",
            " [2.8600e+02 1.2872e+04]\n",
            " [2.8700e+02 1.3972e+04]]\n",
            "\n",
            "The first column is the 2020 day number (e.g. 1/1/2020 is 1)\n",
            "The second column is the number of new cases on that day\n"
          ],
          "name": "stdout"
        }
      ]
    },
    {
      "cell_type": "markdown",
      "metadata": {
        "id": "AqN2V-jGEZGl"
      },
      "source": [
        "### 4.1.1. Plotting time!\n",
        "\n",
        "Now let's take the two columns in the above dataset and visualise it using Matplotlib:"
      ]
    },
    {
      "cell_type": "code",
      "metadata": {
        "id": "oeTFJuN7EZGl",
        "outputId": "1a2cf654-ba4c-4cca-8864-53b935cec022"
      },
      "source": [
        "import matplotlib.pyplot as plt\n",
        "\n",
        "# So the first column is the day and the second is the number of cases\n",
        "day = cases[:, 0]\n",
        "new_cases = cases[:, 1]\n",
        "\n",
        "plt.plot(day, new_cases)\n",
        "plt.show()"
      ],
      "execution_count": null,
      "outputs": [
        {
          "output_type": "display_data",
          "data": {
            "image/png": "[encoded data removed]",
            "text/plain": [
              "<Figure size 432x288 with 1 Axes>"
            ]
          },
          "metadata": {
            "tags": [],
            "needs_background": "light"
          }
        }
      ]
    },
    {
      "cell_type": "markdown",
      "metadata": {
        "id": "zGP2Mdc6EZGo"
      },
      "source": [
        "**Tasks**:\n",
        "1. Add gridlines to the plot above (see the `2. Matplotlib Basics` section).\n",
        "2. Give the graph shown a name and a title.\n",
        "3. Use green dots (\"o\") instead of connected blue lines. Connected lines lie.\n",
        "3. Plot only cases registered since September - that is, since day 245 (see the `1.5 Conditionals on NumPy Arrays` section).\n",
        "4. Plot only cases registered **in** September - that is, from day 245 to 274 inclusive."
      ]
    },
    {
      "cell_type": "code",
      "metadata": {
        "id": "ypaGVg10EZGo"
      },
      "source": [
        "# Copy-paste the code above in this cell and modify it. Or modify it right\n",
        "# there, you're the hacker"
      ],
      "execution_count": null,
      "outputs": []
    },
    {
      "cell_type": "markdown",
      "metadata": {
        "id": "EHW5_C3CEZGr"
      },
      "source": [
        "### 4.1.2. Regression - fitting a line\n",
        "\n",
        "Now let's fit models to our data - first, a simple line. First let's select all cases that were registered in summer (that is, from day 153 to 243) as those might be alright for a linear fit."
      ]
    },
    {
      "cell_type": "code",
      "metadata": {
        "id": "UfxUHOIdEZGr",
        "outputId": "cf53ac5d-741c-463c-b15e-7888db308726"
      },
      "source": [
        "summer = cases[153:244]   # Make sure you understand how basic slicing works\n",
        "\n",
        "plt.plot(summer[:, 0], summer[:, 1], \"rx\")\n",
        "plt.show()"
      ],
      "execution_count": null,
      "outputs": [
        {
          "output_type": "display_data",
          "data": {
            "image/png": "[encoded data removed]",
            "text/plain": [
              "<Figure size 432x288 with 1 Axes>"
            ]
          },
          "metadata": {
            "tags": [],
            "needs_background": "light"
          }
        }
      ]
    },
    {
      "cell_type": "code",
      "metadata": {
        "id": "4RJOdpE1EZGu",
        "outputId": "38aef177-c969-45f4-d900-fb65b8bbfa55"
      },
      "source": [
        "# Linear regression with a linear function using the `scipy.stats.linregress`\n",
        "# function. You can also take a look at the example\n",
        "# https://docs.scipy.org/doc/scipy/reference/generated/scipy.stats.linregress.html\n",
        "from scipy.stats import linregress\n",
        "\n",
        "slope, intercept, r_value, p_value, std_err = linregress(summer[:, 0], summer[:, 1])\n",
        "print(\"slope: %f    intercept: %f\" % (slope, intercept))\n",
        "print(\"R-squared: %f\" % r_value**2)\n",
        "\n",
        "# Plot the Covid-19 data and the linear predictions\n",
        "x = summer[:, 0]\n",
        "y = summer[:, 1]\n",
        "plt.plot(x, y, \"rx\", label=\"Covid-19 cases\")\n",
        "plt.plot(x, intercept + slope * x, label=\"Fitted line\")\n",
        "plt.legend()\n",
        "plt.show()"
      ],
      "execution_count": null,
      "outputs": [
        {
          "output_type": "stream",
          "text": [
            "slope: 1.141137    intercept: 640.518108\n",
            "R-squared: 0.010672\n"
          ],
          "name": "stdout"
        },
        {
          "output_type": "display_data",
          "data": {
            "image/png": "[encoded data removed]",
            "text/plain": [
              "<Figure size 432x288 with 1 Axes>"
            ]
          },
          "metadata": {
            "tags": [],
            "needs_background": "light"
          }
        }
      ]
    },
    {
      "cell_type": "markdown",
      "metadata": {
        "id": "L-6EH0ewEZGw"
      },
      "source": [
        "**Tasks**:\n",
        "1. How many new cases does the linear model predict for 1st of October (day 275)?\n",
        "2. Fit a linear model for Autumn data (since day 245).\n",
        "3. Is there any period when a linear model would be sensible? "
      ]
    },
    {
      "cell_type": "code",
      "metadata": {
        "id": "Xep0OVprEZGw"
      },
      "source": [
        "# Copy-paste the code above in this cell and modify it. Or modify it right\n",
        "# there, you're the hacker"
      ],
      "execution_count": null,
      "outputs": []
    },
    {
      "cell_type": "markdown",
      "metadata": {
        "id": "XK0UrlnUEZG0"
      },
      "source": [
        "### 4.1.3. Regression - fitting a polynomial\n",
        "\n",
        "Let's fit a 3rd order polynomial against the new cases recorded in the last 3 months (since day 214)."
      ]
    },
    {
      "cell_type": "code",
      "metadata": {
        "id": "AXia4j0UEZG1",
        "outputId": "08f0b8fa-b9da-416f-8371-4e4d4aa82225"
      },
      "source": [
        "last3 = cases[214:]   # Make sure you understand how basic slicing works\n",
        "\n",
        "plt.plot(last3[:, 0], last3[:, 1], \"rx\")\n",
        "plt.show()"
      ],
      "execution_count": null,
      "outputs": [
        {
          "output_type": "display_data",
          "data": {
            "image/png": "[encoded data removed]",
            "text/plain": [
              "<Figure size 432x288 with 1 Axes>"
            ]
          },
          "metadata": {
            "tags": [],
            "needs_background": "light"
          }
        }
      ]
    },
    {
      "cell_type": "code",
      "metadata": {
        "id": "tejaOxxgEZG3",
        "outputId": "6c3b92e3-c7b5-48c4-b3f5-2d931f9cd621"
      },
      "source": [
        "# Polynomial are quite special in the sense that you only need to store the\n",
        "# coefficients in order to evaluate them (or differentiate / integrate).\n",
        "# NumPy has a special object for them:\n",
        "# https://numpy.org/doc/stable/reference/routines.polynomials.html\n",
        "from numpy.polynomial import Polynomial\n",
        "\n",
        "x = last3[:, 0]\n",
        "y = last3[:, 1]\n",
        "\n",
        "p = Polynomial.fit(x, y, 3)    # fit(x, y, order) -> 3rd order polynomial\n",
        "\n",
        "print(\"Polynomial fitted:\")\n",
        "print(p)\n",
        "\n",
        "# We can evaluate the polynomial at our dates using round brackets\n",
        "predicted = p(x)\n",
        "\n",
        "# Plotting time!\n",
        "plt.plot(x, y, label=\"Covid-19 cases\")\n",
        "plt.plot(x, p(x), label=\"Third order polynomial fit\")\n",
        "plt.grid()\n",
        "plt.legend()\n",
        "plt.show()"
      ],
      "execution_count": null,
      "outputs": [
        {
          "output_type": "stream",
          "text": [
            "Polynomial fitted:\n",
            "poly([1954.49230176 4072.5772348  6870.61780561 4117.26791027])\n"
          ],
          "name": "stdout"
        },
        {
          "output_type": "display_data",
          "data": {
            "image/png": "[encoded data removed]",
            "text/plain": [
              "<Figure size 432x288 with 1 Axes>"
            ]
          },
          "metadata": {
            "tags": [],
            "needs_background": "light"
          }
        }
      ]
    },
    {
      "cell_type": "markdown",
      "metadata": {
        "id": "aqUWbzl-EZG6"
      },
      "source": [
        "**Tasks**:\n",
        "1. How many new cases does the third order polynomial predict for Christmas (day 360)?\n",
        "2. Fit a 5th order and a 10th order polynomial against the data and check the prediction for Christmas. Which is more sensible?\n",
        "3. Using the [`Polynomial.fit` documentation](https://numpy.org/doc/stable/reference/generated/numpy.polynomial.polynomial.Polynomial.fit.html), get a notion of how good the fit was.\n",
        "4. Try the above for longer periods - say since April (day 92). "
      ]
    },
    {
      "cell_type": "code",
      "metadata": {
        "id": "ENH-KiEPEZG6"
      },
      "source": [
        "# Copy-paste the code above in this cell and modify it. Or modify it right\n",
        "# there, you're the hacker"
      ],
      "execution_count": null,
      "outputs": []
    },
    {
      "cell_type": "markdown",
      "metadata": {
        "id": "JprtWUCoEZG8"
      },
      "source": [
        "## 4.2. Occupancy Plot in a Fluidised Bed\n",
        "\n",
        "Fluidised beds are widely-used engineering systems in which granular media (coffee beans, turning plastics back into petroleum, etc.) are suspended by the inflow of another fluid (most often air); the suspended particles act like a fluid, having great heat and mass transfer properties. However, its internal dynamics are still poorly understood and hard to predict; this is the kind of system loved by chemical engineers across the whole spectrum - from researchers to industrialists.\n",
        "\n",
        "Here is a simulation of a fluidised bed conducted by University of Birmingham chemical engineers:\n",
        "\n",
        "![Fluidised bed](https://github.com/anicusan/ow-emulsion-response/blob/master/model_perspex2_sand.png?raw=true)\n"
      ]
    },
    {
      "cell_type": "markdown",
      "metadata": {
        "id": "T9_-lX4qEZG9"
      },
      "source": [
        "An important type of measurement used for characterising fluidised beds is the *occupancy plot*. Basically, the system is divided into 2D cells, with each cell storing the amount of time particles spend in it. For well-circulated systems such as fluidised beds, it is enough to track a single *tracer* for a longer period of time, then compute the overall time spent by the tracer in each 2D cell. However, computing occupancy plots is something you might do in your third or fourth year - for now we'll look at pre-computed occupancy plots, trying to visualise them and make sense of the data.\n",
        "\n",
        "Below is given a 100x100 grid of cells, storing the number of seconds a particle spends inside each cell (taken from a UoB fluidised bed simulation). The grid of cells is just a numpy array; the code below reads in the data from an online location and stores it in the `occupancy` variable."
      ]
    },
    {
      "cell_type": "code",
      "metadata": {
        "id": "Mdys5g1tEZG9"
      },
      "source": [
        "###\n",
        "### Pre-written code for reading in data from the online location using Pandas\n",
        "### You don't have to understand it now! Though it should be fairly comprehensible\n",
        "###\n",
        "import numpy as np\n",
        "import pandas as pd\n",
        "\n",
        "# Read in droplet diameter data from an online location and transform it into a numpy array\n",
        "data = pd.read_csv(\"https://raw.githubusercontent.com/anicusan/ow-emulsion-response/master/fluidised_bed.csv\",\n",
        "                   header = None, sep = \"\\s+\", dtype = float)\n",
        "occupancy = data.to_numpy()\n",
        "###\n",
        "### End of pre-written code.\n",
        "###"
      ],
      "execution_count": null,
      "outputs": []
    },
    {
      "cell_type": "code",
      "metadata": {
        "id": "O7sdeBguEZHA",
        "outputId": "abc908d0-cbb5-4e1e-90d4-73194850cc8a"
      },
      "source": [
        "# What does the data look like?\n",
        "print(\"Array shape: \", occupancy.shape)\n",
        "print(\"Occupancy array:\")\n",
        "print(occupancy)"
      ],
      "execution_count": null,
      "outputs": [
        {
          "output_type": "stream",
          "text": [
            "Array shape:  (100, 100)\n",
            "Occupancy array:\n",
            "[[0.         0.         0.         ... 0.         0.         0.        ]\n",
            " [0.         0.         0.         ... 0.         0.         0.        ]\n",
            " [0.         0.         0.         ... 0.         0.         0.        ]\n",
            " ...\n",
            " [9.02737861 9.16471519 9.62350906 ... 9.60649561 9.26983494 8.99367579]\n",
            " [9.02965747 9.32036002 9.71269018 ... 9.72585499 9.37830942 8.95686647]\n",
            " [8.23536064 9.36674565 9.80106715 ... 9.83692031 9.37033111 8.32845107]]\n"
          ],
          "name": "stdout"
        }
      ]
    },
    {
      "cell_type": "markdown",
      "metadata": {
        "id": "f32uS0cbEZHD"
      },
      "source": [
        "We cannot visualise this as a simple scatter plot! Scatter plots render 1D functions of the form `y = f(x)`; the occupancy grid we have here is a 2D function `z = f(x, y)`, where `x` and `y` are the row and column of the cell and `z` is the number of seconds the particle spends in it.\n",
        "\n",
        "Notice how we need a plane (2D) for visualising a 1D function; for a 2D function we need a third dimension. This can either be a 3D scatter plot, or a *heatmap* - which encodes the third dimension using *colour*. Scatter plots are good for closely-packed data that you need to visualise from different angles to understand; heatmaps are great for datasets with large differences between samples. \n",
        "\n",
        "Let's visualise the occupancy grid using a heatmap:"
      ]
    },
    {
      "cell_type": "code",
      "metadata": {
        "id": "IS20ACbOEZHD",
        "outputId": "6124e40c-4eca-4a39-fa30-db79f53df62b"
      },
      "source": [
        "import matplotlib.pyplot as plt\n",
        "\n",
        "plt.imshow(occupancy)\n",
        "plt.show()"
      ],
      "execution_count": null,
      "outputs": [
        {
          "output_type": "display_data",
          "data": {
            "image/png": "[encoded data removed]",
            "text/plain": [
              "<Figure size 432x288 with 1 Axes>"
            ]
          },
          "metadata": {
            "tags": [],
            "needs_background": "light"
          }
        }
      ]
    },
    {
      "cell_type": "markdown",
      "metadata": {
        "id": "9aNSzOzAEZHF"
      },
      "source": [
        "A brighter colour (yellow) represents a higher value (i.e. more time spent in that cell), while a darker colour depicts a lower value. What does this plot tell you about the bed's fluidisation? Do the particles reach great heights or is the bed rather packed?\n",
        "\n",
        "Plotly produces a much better-looking (and easier to annotate!) heatmap than Matplotlib - let's try it:"
      ]
    },
    {
      "cell_type": "code",
      "metadata": {
        "id": "V8M6NFDwEZHH"
      },
      "source": [
        "# This does not seem to show a plot in JupyterLab (as opposed to Jupyter\n",
        "# Notebook or Google Colab). If you're in a JupyterLab instance, uncomment\n",
        "# and run the following two lines to show the plot in another browser tab:\n",
        "\n",
        "#import plotly.io as pio\n",
        "#pio.renderers.default = \"browser\"\n",
        "\n",
        "\n",
        "# Examples given on Plotly's website are very helpful:\n",
        "# https://plotly.com/python/heatmaps/\n",
        "import plotly.express as px\n",
        "import numpy as np\n",
        "\n",
        "\n",
        "fig = px.imshow(\n",
        "    occupancy,\n",
        "    labels = dict(\n",
        "        x = \"Occupancy grid - x\",\n",
        "        y = \"Occupancy grid - y\",\n",
        "        color = \"Time spent in cell (s)\"\n",
        "    )\n",
        ")\n",
        "fig.show()"
      ],
      "execution_count": null,
      "outputs": []
    },
    {
      "cell_type": "markdown",
      "metadata": {
        "id": "39KWOo1EEZHJ"
      },
      "source": [
        "**Tasks**:\n",
        "1. Zoom in on the occupancy plot - render only the vertical region that contains non-zero data (see the `1.3. Array Indexing` section).\n",
        "2. Select only a centre region of the occupancy plot - say between `40:80` in both the x- and y-dimensions. Can you distinguish more details on the plot?"
      ]
    },
    {
      "cell_type": "markdown",
      "metadata": {
        "id": "NpwqE4kJEZHK"
      },
      "source": [
        "## 4.2.1. Vertical (1D) Occupancy\n",
        "\n",
        "Another useful kind of information we can extract from this plot is the *vertical occupancy*: instead of having a 2D grid of cells, we can look at the time spent by a particle at *different heights* in the fluidised bed.\n",
        "\n",
        "There are two ways to accomplish this from our 2D grid:\n",
        "1. Take a vertical slice through our data (i.e. select a column).\n",
        "2. \"Collapse\" the x-axis, summing all values horizontally."
      ]
    },
    {
      "cell_type": "code",
      "metadata": {
        "id": "Ki0eHwRQEZHL",
        "outputId": "01cf7ee8-5f84-4edb-d23a-4cd7447d8fe0"
      },
      "source": [
        "# Select all data at column 50\n",
        "vertical = occupancy[:, 50]\n",
        "\n",
        "# Generate a list of cell indices for plotting `x vs y`\n",
        "# i.e. [0, 1, 2, 3, ...(length of vertical)]\n",
        "indices = np.arange( len(vertical) )\n",
        "\n",
        "plt.plot(vertical, indices)\n",
        "plt.show()"
      ],
      "execution_count": null,
      "outputs": [
        {
          "output_type": "display_data",
          "data": {
            "image/png": "[encoded data removed]",
            "text/plain": [
              "<Figure size 432x288 with 1 Axes>"
            ]
          },
          "metadata": {
            "tags": [],
            "needs_background": "light"
          }
        }
      ]
    },
    {
      "cell_type": "markdown",
      "metadata": {
        "id": "lq6hBAW0EZHP"
      },
      "source": [
        "**Tasks**:\n",
        "1. Add a legend, grid lines, and use circles instead of connected lines in the plot above.\n",
        "2. The plot above is vertically-flipped by default. Flip it to the expected aspect (see the `1.3. Array Indexing` section).\n",
        "3. Render the same plot above using Plotly."
      ]
    },
    {
      "cell_type": "code",
      "metadata": {
        "id": "tnnzwjTfEZHP",
        "outputId": "8cda1829-1183-41a7-e738-c4d5de20df3f"
      },
      "source": [
        "# \"Collapse\" the x-axis, summing all values horizontally. Summing all values\n",
        "# along an axis is done using the `np.sum(...)` function, specifying the\n",
        "# `axis` parameter. Check it out:\n",
        "x = np.ones((4, 2))\n",
        "\n",
        "print(\"x:\")\n",
        "print(x)\n",
        "\n",
        "print(\"\\nSum along axis 0 (rows) - `np.sum(x, axis = 0)`:\")\n",
        "print(np.sum(x, axis = 0))\n",
        "\n",
        "print(\"\\nSum along axis 1 (columns) - `np.sum(x, axis = 1)`:\")\n",
        "print(np.sum(x, axis = 1))"
      ],
      "execution_count": null,
      "outputs": [
        {
          "output_type": "stream",
          "text": [
            "x:\n",
            "[[1. 1.]\n",
            " [1. 1.]\n",
            " [1. 1.]\n",
            " [1. 1.]]\n",
            "\n",
            "Sum along axis 0 (rows) - `np.sum(x, axis = 0)`:\n",
            "[4. 4.]\n",
            "\n",
            "Sum along axis 1 (columns) - `np.sum(x, axis = 1)`:\n",
            "[2. 2. 2. 2.]\n"
          ],
          "name": "stdout"
        }
      ]
    },
    {
      "cell_type": "code",
      "metadata": {
        "id": "XA1QTSOxEZHR"
      },
      "source": [
        "# This does not seem to show a plot in JupyterLab (as opposed to Jupyter\n",
        "# Notebook or Google Colab). If you're in a JupyterLab instance, uncomment\n",
        "# and run the following two lines to show the plot in another browser tab:\n",
        "\n",
        "#import plotly.io as pio\n",
        "#pio.renderers.default = \"browser\"\n",
        "\n",
        "import plotly.graph_objs as go\n",
        "\n",
        "# Horizontally sum all values in the occupancy array:\n",
        "verticals = np.sum(occupancy, axis = 1)\n",
        "indices = np.arange( len(verticals) )\n",
        "\n",
        "fig = go.Figure()\n",
        "\n",
        "trace = go.Scatter(y = indices, x = verticals[::-1])\n",
        "fig.add_trace(trace)\n",
        "\n",
        "fig.show()"
      ],
      "execution_count": null,
      "outputs": []
    },
    {
      "cell_type": "markdown",
      "metadata": {
        "id": "YIwMd4d-EZHU"
      },
      "source": [
        "**Tasks**:\n",
        "1. Is there any difference between plots produced by the two approaches above? Is that true in all circumstances?\n",
        "2. Render the plot above using Matplotlib."
      ]
    },
    {
      "cell_type": "markdown",
      "metadata": {
        "id": "QBcNId8_EZHU"
      },
      "source": [
        "## 4.3. Droplet Size Distribution\n",
        "\n",
        "Mixtures of immiscible fluids such as oil and water are omnipresent in today's world, being used in the food, cosmetics, paints, printing and pharmaceutical industries and even oil spill remediation. Such a mixture is called an **emulsion** and is a subject of great interest to chemical engineers, as virtually any product on the market contains some *emulsified* fluids.\n",
        "\n",
        "The stability of emulsions depends greatly on the droplet size: the smaller the droplets, the longer it takes for the emulsion to return to a separated oil and water mixture (ever seen shampoo or cosmetics separate? Probably not, because a chemical engineer spent a long time in a lab and in front of a computer to find the right combination of ingredients to make it a stable, useful and economically-viable product).\n",
        "\n",
        "Here we have a dataset of droplet sizes recorded at the University of Birmingham for an oil-in-water emulsion. Notice the larger droplets agglomerating (i.e. separating out of the mixture), while the smaller ones are better distributed throughout the fluid.\n",
        "\n",
        "![Emulsion](https://github.com/anicusan/ow-emulsion-response/blob/master/stability.png?raw=true)\n",
        "\n",
        "Now if we take the droplet diameters, what does the *droplet size distribution* look like?"
      ]
    },
    {
      "cell_type": "code",
      "metadata": {
        "id": "pBVBxqRZEZHV"
      },
      "source": [
        "###\n",
        "### Pre-written code for reading in data from the online location using Pandas\n",
        "### You don't have to understand it now! Though it should be fairly comprehensible\n",
        "###\n",
        "import numpy as np\n",
        "import pandas as pd\n",
        "\n",
        "# Read in droplet diameter data from an online location and transform it into a numpy array\n",
        "data = pd.read_csv(\"https://raw.githubusercontent.com/anicusan/ow-emulsion-response/master/droplets.csv\")\n",
        "diameters = data[\"Feret\"].to_numpy()\n",
        "###\n",
        "### End of pre-written code.\n",
        "###"
      ],
      "execution_count": null,
      "outputs": []
    },
    {
      "cell_type": "code",
      "metadata": {
        "id": "RCmoc5c4EZHX",
        "outputId": "694576f5-de91-423b-db93-f48766aca968"
      },
      "source": [
        "print(\"Droplet diameters recorded (um) - variable `diameters`:\")\n",
        "print(diameters)"
      ],
      "execution_count": null,
      "outputs": [
        {
          "output_type": "stream",
          "text": [
            "Droplet diameters recorded (um) - variable `diameters`:\n",
            "[11.057  7.211  5.682  5.351  5.747  5.025 12.92  13.06   4.408 13.528\n",
            "  8.842  5.974  5.809  3.622  5.938  5.351 11.094  6.923  5.71  11.724\n",
            " 11.49   4.571  4.438  4.637 23.958 17.33  11.91   6.167  6.038  9.411\n",
            "  5.893  8.847 14.853 14.609  5.452 10.344  5.71   4.052  4.078 10.375\n",
            "  4.389 11.363 15.703  4.894  6.525 13.478  7.891  6.038  3.822 30.457\n",
            " 27.962 32.351  6.665  6.038 10.375 19.024 12.247 17.401 12.708  4.389\n",
            "  3.72   5.351  8.875 27.517  4.867  5.675  4.117 12.235 10.474  6.201\n",
            "  6.789  6.201 12.993 14.497 13.157  4.21   5.025  5.841  8.744  4.21\n",
            "  6.884]\n"
          ],
          "name": "stdout"
        }
      ]
    },
    {
      "cell_type": "markdown",
      "metadata": {
        "id": "b-3WvBQrEZHa"
      },
      "source": [
        "---\n",
        "\n",
        "How are those diameters *distributed*? Are there more droplets with smaller diameters, or larger? This is what a histogram is useful for: dividing data into segments and counting the number of samples falling into each of those segments (e.g. count the number of droplets with diameters between 5 and 10 um, then between 10 and 15 um, etc.) and plotting a bar chart of those numbers.\n",
        "\n",
        "Thankfully, Matplotlib does the \"diving data into segments and counting\" part for us!"
      ]
    },
    {
      "cell_type": "code",
      "metadata": {
        "id": "WBuPJtOAEZHa",
        "outputId": "ece2b35e-1902-45d3-a1fa-7c181d9f557d"
      },
      "source": [
        "import matplotlib.pyplot as plt\n",
        "\n",
        "plt.hist(diameters)\n",
        "plt.xlabel(\"Diameter (um)\")\n",
        "plt.ylabel(\"Number of particles in size range\")\n",
        "plt.show()"
      ],
      "execution_count": null,
      "outputs": [
        {
          "output_type": "display_data",
          "data": {
            "image/png": "[encoded data removed]",
            "text/plain": [
              "<Figure size 432x288 with 1 Axes>"
            ]
          },
          "metadata": {
            "tags": [],
            "needs_background": "light"
          }
        }
      ]
    },
    {
      "cell_type": "markdown",
      "metadata": {
        "id": "6jAumZQdEZHc"
      },
      "source": [
        "However, the size of those segments (called \"bins\") is very important:"
      ]
    },
    {
      "cell_type": "code",
      "metadata": {
        "id": "jtZ0y0lyEZHd",
        "outputId": "12a6a383-0958-430a-faa0-9cf6b0e782d9"
      },
      "source": [
        "plt.hist(diameters, 4)     # Number of bins = 4\n",
        "plt.xlabel(\"Diameter (um)\")\n",
        "plt.ylabel(\"Number of particles in size range\")\n",
        "plt.show()"
      ],
      "execution_count": null,
      "outputs": [
        {
          "output_type": "display_data",
          "data": {
            "image/png": "[encoded data removed]",
            "text/plain": [
              "<Figure size 432x288 with 1 Axes>"
            ]
          },
          "metadata": {
            "tags": [],
            "needs_background": "light"
          }
        }
      ]
    },
    {
      "cell_type": "markdown",
      "metadata": {
        "id": "-xamrGmyEZHg"
      },
      "source": [
        "**Tasks**:\n",
        "1. Vary the number of bins used in the histogram. How does the plot's shape change?\n",
        "2. How can you find the best number of bins to use in a histogram? Go on, Google it.\n",
        "3. Check out [Matplotlib.pyplot.hist's documentation](https://matplotlib.org/3.3.1/api/_as_gen/matplotlib.pyplot.hist.html); see the `bins`, `cumulative` and `log` parameters, changing them in the above example - can you think of cases when you would use one or another?"
      ]
    },
    {
      "cell_type": "markdown",
      "metadata": {
        "id": "Sz6W5EXSEZHg"
      },
      "source": [
        "## 4.3.1. Non-linear Regression - Fitting a Gaussian\n",
        "\n",
        "We know that most processes in nature follows a [**Gaussian distribution**](https://en.wikipedia.org/wiki/Normal_distribution) (or *normal distribution*, or *bell curve*). Gaussian distributions are fundamental in engineering for a variety of reasons:\n",
        "1. Measurement errors are almost always Gaussian in shape, meaning if we take enough measurements of a process, we can see where they concentrate, having a more accurate figure of the process parameters and the reliability of the measurements.\n",
        "2. Characterising a product by a two-parameter function such as the Gaussian distribution is incredibly powerful: we no longer need to provide sheets of data about our product's measurements (e.g. droplet diameters); we provide the two parameters of the normal distribution.\n",
        "\n",
        "The Gaussian distribution is defined based on two parameters: the **mean μ** (i.e. where its centre lies) and the **standard deviation σ** (i.e. how spread out the distribution is). This is the formula:\n",
        "\n",
        "\\begin{equation*}\n",
        "f_{\\mu, \\sigma}(x) = \\frac{1}{\\sigma \\sqrt{2 \\pi}} e^{\\frac{-1}{2}\\left(\\frac{x - \\mu}{\\sigma}\\right)^2}\n",
        "\\end{equation*}\n",
        "\n",
        "Let's create our own Python function computing a Gaussian distribution and plot it."
      ]
    },
    {
      "cell_type": "code",
      "metadata": {
        "id": "y5bEYm4SEZHg",
        "outputId": "5a029e10-839a-47ff-f21c-62b329f842c4"
      },
      "source": [
        "import numpy as np\n",
        "import matplotlib.pyplot as plt\n",
        "\n",
        "def gaussian(x, mu = 0, sigma = 2):\n",
        "    pre = 1 / (sigma * np.sqrt(2 * np.pi))\n",
        "    exp = np.exp(-0.5 * ((x - mu) / sigma) ** 2)\n",
        "    return pre * exp\n",
        "\n",
        "x = np.linspace(-10, 10, 100)\n",
        "y = gaussian(x)\n",
        "\n",
        "plt.plot(x, y)\n",
        "plt.show()"
      ],
      "execution_count": null,
      "outputs": [
        {
          "output_type": "display_data",
          "data": {
            "image/png": "[encoded data removed]",
            "text/plain": [
              "<Figure size 432x288 with 1 Axes>"
            ]
          },
          "metadata": {
            "tags": [],
            "needs_background": "light"
          }
        }
      ]
    },
    {
      "cell_type": "markdown",
      "metadata": {
        "id": "Dq-sGa1kEZHl"
      },
      "source": [
        "**Task**: change `mu`, `sigma` and the function domain in the example above and see how the plot changes.\n",
        "\n",
        "However, our droplet data does not *really* look Gaussian - it has a peak on the left, and a long tail on the right. Almost as if the x-dimension was on a logarithmic scale. Turns out most particle size distributions follow a particular kind of normal distribution: the [*log*-normal distribution](https://en.wikipedia.org/wiki/Log-normal_distribution)! This is the kind of knowledge that differentiates a data scientist from a chemical engineer. The log-normal distribution function looks like this:\n",
        "\n",
        "\\begin{equation*}\n",
        "f_{\\mu, \\sigma}(x) = \\frac{1}{x \\sigma \\sqrt{2 \\pi}} e^{\\frac{-1}{2}\\left(\\frac{\\ln{x} - \\mu}{\\sigma}\\right)^2}\n",
        "\\end{equation*}\n",
        "\n",
        "**Task**: implement the log-normal distribution function and plot it like before in the next cell:"
      ]
    },
    {
      "cell_type": "code",
      "metadata": {
        "id": "kjrhbe5GEZHl"
      },
      "source": [
        "def log_normal(x, mu = 0, sigma = 2):\n",
        "    # ??? your code goes here\n",
        "\n",
        "x = np.linspace(-10, 10, 100)\n",
        "y = log_normal(x)\n",
        "\n",
        "plt.plot(x, y)\n",
        "plt.show()"
      ],
      "execution_count": null,
      "outputs": []
    },
    {
      "cell_type": "markdown",
      "metadata": {
        "id": "Ao-9KLrdEZHn"
      },
      "source": [
        "When fitting a Gaussian distribution against some data, we usually also include an \"amplitude\" for modifying the \"height\" of the graph (basically the function above only has a notion of *centre* and *spread*, but with histograms, we also have the *height*, corresponding to the number of samples falling into that bin).\n",
        "\n",
        "Adding another parameter `A` for the \"height\" of the function above (and including the other constant pre-exponent coefficients in it) yields a new log-normal distribution:\n",
        "\n",
        "\\begin{equation*}\n",
        "f_{A, \\mu, \\sigma}(x) = \\frac{1}{x} A e^{\\frac{-1}{2}\\left(\\frac{\\ln{x} - \\mu}{\\sigma}\\right)^2}\n",
        "\\end{equation*}\n",
        "\n",
        "Plotting this function (go on, vary the input parameters and see how the plot changes!):"
      ]
    },
    {
      "cell_type": "code",
      "metadata": {
        "id": "VaH75RaIEZHn",
        "outputId": "1ab0df21-afdd-48c8-dcce-e68392737078"
      },
      "source": [
        "def log_normal(x, A = 1, mu = 0, sigma = 1):\n",
        "    return 1 / x * A * np.exp(-0.5 * ((np.log(x) - mu) / sigma) ** 2)\n",
        "\n",
        "x = np.linspace(0.0001, 5, 100)\n",
        "y = log_normal(x)\n",
        "\n",
        "plt.plot(x, y)\n",
        "plt.show()"
      ],
      "execution_count": null,
      "outputs": [
        {
          "output_type": "display_data",
          "data": {
            "image/png": "[encoded data removed]",
            "text/plain": [
              "<Figure size 432x288 with 1 Axes>"
            ]
          },
          "metadata": {
            "tags": [],
            "needs_background": "light"
          }
        }
      ]
    },
    {
      "cell_type": "markdown",
      "metadata": {
        "id": "Qi2UFzQgEZHp"
      },
      "source": [
        "The log-normal distribution *does* resemble the droplet diameters - let's fit that function against our data. More specifically, we want to find the parameters `A`, `mu` and `sigma` that minimise the difference between the experimental data and the predicted function values.\n",
        "\n",
        "However, this is no longer a *linear* regression. Take another look at the log-normal distribution:\n",
        "\n",
        "\\begin{equation*}\n",
        "f_{A, \\mu, \\sigma}(x) = \\frac{1}{x} A e^{\\frac{-1}{2}\\left(\\frac{\\ln{x} - \\mu}{\\sigma}\\right)^2}\n",
        "\\end{equation*}\n",
        "\n",
        "Why is this not a linear regression?"
      ]
    },
    {
      "cell_type": "code",
      "metadata": {
        "id": "4wGa5rk2EZHq",
        "outputId": "ee7e95a0-8a0a-429f-f07e-47f7b32bb47c"
      },
      "source": [
        "import numpy as np\n",
        "\n",
        "# Divide the diameters into diameter ranges (bins) and count the number of\n",
        "# droplets falling into each bin.\n",
        "counts, bin_edges = np.histogram(diameters, 20)\n",
        "\n",
        "print(\"Droplet diameter counts:\")\n",
        "print(counts)\n",
        "\n",
        "print(\"\\nDiameter range (bin) edges:\")\n",
        "print(bin_edges)\n",
        "\n",
        "# For n bins, we have n+1 edges (think of three elements separated by vertical\n",
        "# bars: |a|b|c| -> four bars). In order to have a 1:1 correspondence between\n",
        "# diameters and the corresponding number of droplets, calculate the bin centres\n",
        "bin_centres = (bin_edges[:-1] + bin_edges[1:]) / 2\n",
        "\n",
        "print(\"\\nDiameter (bin) centres:\")\n",
        "print(bin_centres)\n",
        "\n",
        "plt.bar(bin_centres, counts)\n",
        "plt.xlabel(\"Droplet diameter (um)\")\n",
        "plt.ylabel(\"Number of droplets in bin\")\n",
        "plt.show()"
      ],
      "execution_count": null,
      "outputs": [
        {
          "output_type": "stream",
          "text": [
            "Droplet diameter counts:\n",
            "[18 20  7  4  5  7  8  3  1  2  1  0  0  0  1  0  2  0  1  1]\n",
            "\n",
            "Diameter range (bin) edges:\n",
            "[ 3.622    5.05845  6.4949   7.93135  9.3678  10.80425 12.2407  13.67715\n",
            " 15.1136  16.55005 17.9865  19.42295 20.8594  22.29585 23.7323  25.16875\n",
            " 26.6052  28.04165 29.4781  30.91455 32.351  ]\n",
            "\n",
            "Diameter (bin) centres:\n",
            "[ 4.340225  5.776675  7.213125  8.649575 10.086025 11.522475 12.958925\n",
            " 14.395375 15.831825 17.268275 18.704725 20.141175 21.577625 23.014075\n",
            " 24.450525 25.886975 27.323425 28.759875 30.196325 31.632775]\n"
          ],
          "name": "stdout"
        },
        {
          "output_type": "display_data",
          "data": {
            "image/png": "[encoded data removed]",
            "text/plain": [
              "<Figure size 432x288 with 1 Axes>"
            ]
          },
          "metadata": {
            "tags": [],
            "needs_background": "light"
          }
        }
      ]
    },
    {
      "cell_type": "markdown",
      "metadata": {
        "id": "nrD570znEZHs"
      },
      "source": [
        "For the non-linear regression of any user-defined function against some data, we use the [`scipy.optimize.curve_fit` function](https://docs.scipy.org/doc/scipy/reference/generated/scipy.optimize.curve_fit.html):"
      ]
    },
    {
      "cell_type": "code",
      "metadata": {
        "id": "_j2h6tGSEZHs",
        "outputId": "dae89243-b0f7-4e88-ecd0-69566549b2b5"
      },
      "source": [
        "from scipy.optimize import curve_fit\n",
        "\n",
        "def log_normal(x, A = 1, mu = 0, sigma = 1):\n",
        "    return 1 / x * A * np.exp(-0.5 * ((np.log(x) - mu) / sigma) ** 2)\n",
        "\n",
        "# `curve_fit` function call: (f, xdata, ydata, p0)\n",
        "#     f: the user-defined model function\n",
        "#     xdata: the independent variable for our measurements\n",
        "#     ydata: the dependent variable for our measurements\n",
        "#     p0: the initial guess of parameters\n",
        "fit_coeffs, var_matrix = curve_fit(\n",
        "    log_normal,\n",
        "    bin_centres,\n",
        "    counts,\n",
        "    p0 = [20, 10, 5],    # initial guess for [A, mu, sigma]\n",
        ")\n",
        "\n",
        "A = fit_coeffs[0]\n",
        "mu = fit_coeffs[1]\n",
        "sigma = fit_coeffs[2]\n",
        "\n",
        "print(\"Fitted log-normal function against droplet diameters:\")\n",
        "print(\"A: \", A)\n",
        "print(\"mu: \", mu)\n",
        "print(\"sigma: \", sigma)"
      ],
      "execution_count": null,
      "outputs": [
        {
          "output_type": "stream",
          "text": [
            "Fitted log-normal function against droplet diameters:\n",
            "A:  85.05013157005148\n",
            "mu:  1.5764152768499207\n",
            "sigma:  0.8811226041201731\n"
          ],
          "name": "stdout"
        }
      ]
    },
    {
      "cell_type": "code",
      "metadata": {
        "id": "vcv45paMEZHu",
        "outputId": "8272b0f2-113b-4d97-e319-f9dfdd05dc95"
      },
      "source": [
        "# Plotting time!\n",
        "\n",
        "def log_normal(x, A = 1, mu = 0, sigma = 1):\n",
        "    return 1 / x * A * np.exp(-0.5 * ((np.log(x) - mu) / sigma) ** 2)\n",
        "\n",
        "# Evaluate log-normal distribution with fitted parameters\n",
        "x = np.linspace(bin_centres[0], bin_centres[-1], 100)\n",
        "y = log_normal(x, A, mu, sigma)\n",
        "\n",
        "plt.bar(bin_centres, counts, label = \"Measured droplet sizes\")\n",
        "plt.plot(x, y, \"r\", label = \"Fitted droplet sizes\")\n",
        "\n",
        "plt.xlabel(\"Droplet diameter (um)\")\n",
        "plt.ylabel(\"Number of droplets in bin\")\n",
        "\n",
        "plt.legend()\n",
        "plt.show()"
      ],
      "execution_count": null,
      "outputs": [
        {
          "output_type": "display_data",
          "data": {
            "image/png": "[encoded data removed]",
            "text/plain": [
              "<Figure size 432x288 with 1 Axes>"
            ]
          },
          "metadata": {
            "tags": [],
            "needs_background": "light"
          }
        }
      ]
    },
    {
      "cell_type": "markdown",
      "metadata": {
        "id": "FRSt6V76EZHw"
      },
      "source": [
        "**Tasks**:\n",
        "1. Change the number of bins and run the last three code cells again (try 12, 30, 8 bins when calling `np.histogram(...)`). Does the fit change?\n",
        "2. What happens when using a small number of bins like 8?\n",
        "3. Try fitting a \"normal\" Gaussian distribution against the data. What happens and why?"
      ]
    }
  ]
}